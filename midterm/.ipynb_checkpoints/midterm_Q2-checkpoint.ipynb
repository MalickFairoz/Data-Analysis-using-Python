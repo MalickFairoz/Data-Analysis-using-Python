{
 "cells": [
  {
   "cell_type": "markdown",
   "metadata": {},
   "source": [
    "# Question -- 2 \n",
    "- Data collected from the NYT API Documentation\n",
    "- The collected data is stored in the local harddisk using relative address path\n",
    "- Followed by three analysis are performed"
   ]
  },
  {
   "cell_type": "code",
   "execution_count": 48,
   "metadata": {
    "collapsed": false
   },
   "outputs": [
    {
     "name": "stdout",
     "output_type": "stream",
     "text": [
      "1 Json already present\n",
      "2 Json already present\n",
      "3 Json already present\n",
      "4 Json already present\n",
      "5 Json already present\n"
     ]
    }
   ],
   "source": [
    "# Program to download the NYT data using API key for \"ARCHIVE\" \n",
    "# This collected is stored in the harddisk\n",
    "import os\n",
    "import requests\n",
    "import json\n",
    "url = []\n",
    "url.append(\"https://api.nytimes.com/svc/archive/v1/1988/8.json\")\n",
    "url.append(\"https://api.nytimes.com/svc/archive/v1/1988/9.json\")\n",
    "url.append(\"https://api.nytimes.com/svc/archive/v1/1988/10.json\")\n",
    "url.append(\"https://api.nytimes.com/svc/archive/v1/1988/11.json\")\n",
    "url.append(\"https://api.nytimes.com/svc/archive/v1/1988/12.json\")\n",
    "outputlist=[]\n",
    "for x in range(len(url)):\n",
    "    outputlist.append(requests.get(url[x]+\"?api-key=0715f983b3e448249d5387d2f521baf2\").json())  \n",
    "    outputfol='data/NYTAPI'\n",
    "    path = (outputfol+'\\\\'+str(\"archive\"+outputlist[x]['response']['docs'][0]['pub_date'][:7])+'.json')\n",
    "    if not os.path.exists(outputfol):\n",
    "            os.makedirs(outputfol)\n",
    "    if not os.path.exists(path):\n",
    "            with open(path, 'w') as outfile:\n",
    "                json.dump(outputlist, outfile)\n",
    "                print(repr(x+1)+\" Json dumped in folder\")\n",
    "    else:\n",
    "        print(repr(x+1)+\" Json already present\")    "
   ]
  },
  {
   "cell_type": "code",
   "execution_count": 46,
   "metadata": {
    "collapsed": false
   },
   "outputs": [
    {
     "name": "stdout",
     "output_type": "stream",
     "text": [
      "Json already present\n"
     ]
    }
   ],
   "source": [
    "# Program to download the NYT data using API key for \"BOOKS - Names\" \n",
    "# This collected is stored in the harddisk\n",
    "import os\n",
    "import requests\n",
    "import json\n",
    "outputlist1=[]\n",
    "outputlist1 = requests.get(\"https://api.nytimes.com/svc/books/v3/lists/names.json?api-key=0715f983b3e448249d5387d2f521baf2\").json()  \n",
    "outputfol='data/NYTAPI'\n",
    "path = (outputfol+'\\\\'+'BookListNames'+'.json')\n",
    "if not os.path.exists(outputfol):\n",
    "        os.makedirs(outputfol)\n",
    "if not os.path.exists(path):\n",
    "        with open(path, 'w') as outfile:\n",
    "            json.dump(outputlist1, outfile)\n",
    "            print(\"Json dumped in folder\")\n",
    "else:\n",
    "    print(\"Json already present\")"
   ]
  },
  {
   "cell_type": "code",
   "execution_count": 102,
   "metadata": {
    "collapsed": false
   },
   "outputs": [
    {
     "name": "stdout",
     "output_type": "stream",
     "text": [
      "Json already present\n"
     ]
    }
   ],
   "source": [
    "# Program to download the NYT data using API key for \"BOOKS - Overview\" \n",
    "# This collected is stored in the harddisk\n",
    "import os\n",
    "import requests\n",
    "import json\n",
    "outputlist2=[]\n",
    "outputlist2 = requests.get(\"https://api.nytimes.com/svc/books/v3/lists/overview.json?api-key=0715f983b3e448249d5387d2f521baf2\").json()  \n",
    "outputfol='data/NYTAPI'\n",
    "path = (outputfol+'\\\\'+'BookListOverview'+'.json')\n",
    "if not os.path.exists(outputfol):\n",
    "        os.makedirs(outputfol)\n",
    "if not os.path.exists(path):\n",
    "        with open(path, 'w') as outfile:\n",
    "            json.dump(outputlist2, outfile)\n",
    "            print(\"Json dumped in folder\")\n",
    "else:\n",
    "    print(\"Json already present\")"
   ]
  },
  {
   "cell_type": "code",
   "execution_count": 104,
   "metadata": {
    "collapsed": false
   },
   "outputs": [
    {
     "name": "stdout",
     "output_type": "stream",
     "text": [
      "Json dumped in folder\n"
     ]
    }
   ],
   "source": [
    "# Program to download the NYT data using API key for \"Article\" \n",
    "# This collected is stored in the harddisk\n",
    "import os\n",
    "import requests\n",
    "import json\n",
    "outputlist2=[]\n",
    "outputlist2 = requests.get(\"https://api.nytimes.com/svc/search/v2/articlesearch.json?api-key=0715f983b3e448249d5387d2f521baf2\").json()  \n",
    "outputfol='data/NYTAPI'\n",
    "path = (outputfol+'\\\\'+'articlesearch'+'.json')\n",
    "if not os.path.exists(outputfol):\n",
    "        os.makedirs(outputfol)\n",
    "if not os.path.exists(path):\n",
    "        with open(path, 'w') as outfile:\n",
    "            json.dump(outputlist2, outfile)\n",
    "            print(\"Json dumped in folder\")\n",
    "else:\n",
    "    print(\"Json already present\")"
   ]
  },
  {
   "cell_type": "markdown",
   "metadata": {},
   "source": [
    "### The data is collected and stored in the local hard drive "
   ]
  },
  {
   "cell_type": "markdown",
   "metadata": {},
   "source": [
    "# Analysis -- 1 \n",
    "- Finding the first publication date and latest publication date of a book\n",
    "- Finding the period how long each book has been evolved in the society\n",
    "- Finally the oldest book will taken out as an output of this analysis_1\n",
    "- The evolution data of each book will be stored in a CSV file\n",
    "- Graph will be plotted for easy understanding."
   ]
  },
  {
   "cell_type": "code",
   "execution_count": 547,
   "metadata": {
    "collapsed": false
   },
   "outputs": [
    {
     "name": "stdout",
     "output_type": "stream",
     "text": [
      "53\n"
     ]
    }
   ],
   "source": [
    "# The API Book - Names, which was stored in the list \"outputlist1 is used\"\n",
    "# To get the data for First publication date of each book \n",
    "import nltk\n",
    "from nltk import FreqDist\n",
    "First_PubDate = [] \n",
    "count =0\n",
    "for x in range(len(outputlist1['results'])):\n",
    "    count += 1\n",
    "    First_PubDate.append(outputlist1['results'][x]['oldest_published_date'])\n",
    "print(len(First_PubDate))"
   ]
  },
  {
   "cell_type": "code",
   "execution_count": 548,
   "metadata": {
    "collapsed": false
   },
   "outputs": [
    {
     "name": "stdout",
     "output_type": "stream",
     "text": [
      "53\n"
     ]
    }
   ],
   "source": [
    "# To get the data for latest publication date of each book \n",
    "import nltk\n",
    "from nltk import FreqDist\n",
    "Last_PubDate = [] \n",
    "count =0\n",
    "for x in range(len(outputlist1['results'])):\n",
    "    count += 1\n",
    "    Last_PubDate.append(outputlist1['results'][x]['newest_published_date'])\n",
    "print(len(Last_PubDate))"
   ]
  },
  {
   "cell_type": "code",
   "execution_count": 549,
   "metadata": {
    "collapsed": false
   },
   "outputs": [
    {
     "name": "stdout",
     "output_type": "stream",
     "text": [
      "53\n"
     ]
    }
   ],
   "source": [
    "# converting the date string to required format in year, month and day\n",
    "import datetime\n",
    "First_PubDate_formated = []\n",
    "for f in range(len(First_PubDate)):\n",
    "    First_PubDate_formated.append(datetime.datetime.strptime(First_PubDate[f], '%Y-%m-%d'))\n",
    "    \n",
    "Last_PubDate_formated = []\n",
    "for l in range(len(Last_PubDate)):\n",
    "    Last_PubDate_formated.append(datetime.datetime.strptime(Last_PubDate[l], '%Y-%m-%d'))\n",
    "\n",
    "# To get the Evolution period of each book the first published date is subracted from last Published date\n",
    "Evolution_days = []\n",
    "for e in range(len(First_PubDate_formated)):\n",
    "    Evolution_days.append((Last_PubDate_formated[e]-First_PubDate_formated[e]).days)\n",
    "print(len(Evolution_days))"
   ]
  },
  {
   "cell_type": "code",
   "execution_count": 550,
   "metadata": {
    "collapsed": false
   },
   "outputs": [
    {
     "name": "stdout",
     "output_type": "stream",
     "text": [
      "53\n"
     ]
    }
   ],
   "source": [
    "# To get the data for each book name\n",
    "import nltk\n",
    "from nltk import FreqDist\n",
    "Display_name = [] \n",
    "count =0\n",
    "for x in range(len(outputlist1['results'])):\n",
    "    count += 1\n",
    "    Display_name.append(outputlist1['results'][x]['display_name'])\n",
    "print(len(Display_name))"
   ]
  },
  {
   "cell_type": "code",
   "execution_count": 551,
   "metadata": {
    "collapsed": false
   },
   "outputs": [],
   "source": [
    "# joining the display name of book and their evolution period in days together\n",
    "\n",
    "Book_Evolution = dict(zip(Display_name,Evolution_days))"
   ]
  },
  {
   "cell_type": "code",
   "execution_count": 552,
   "metadata": {
    "collapsed": false
   },
   "outputs": [
    {
     "name": "stdout",
     "output_type": "stream",
     "text": [
      "Name of the BOOK                 \t   Rank      \tEvolution Period in days\n",
      "'Children’s Series'              \t   1         \t3199\n",
      "'Children’s Picture Books'       \t   2         \t3199\n",
      "'Hardcover Fiction'              \t   3         \t3199\n",
      "'Paperback Trade Fiction'        \t   4         \t3199\n",
      "'Hardcover Nonfiction'           \t   5         \t3199\n",
      "'Paperback Nonfiction'           \t   6         \t3199\n",
      "'Paperback Mass-Market Fiction'   \t   7         \t3157\n",
      "'Manga'                          \t   8         \t2877\n",
      "'Hardcover Graphic Books'        \t   9         \t2877\n",
      "'Paperback Graphic Books'        \t   10        \t2877\n"
     ]
    }
   ],
   "source": [
    "#For the top 10, displaying of the Book's names with most evolution period along with their ranks\n",
    "rank1 = 0\n",
    "print (\"Name of the BOOK\".ljust(30) +  \"   \\t   \" + \"Rank\".ljust(10) + \"\\t\"+ \"Evolution Period in days\")\n",
    "for w in sorted(Book_Evolution, key=Book_Evolution.get, reverse=True) [:10]:\n",
    "    rank1 = rank1 + 1 \n",
    "    print (repr(w).ljust(30) +  \"   \\t   \" + repr(rank1).ljust(10) + \"\\t\" + repr(Book_Evolution[w]))"
   ]
  },
  {
   "cell_type": "code",
   "execution_count": 561,
   "metadata": {
    "collapsed": true
   },
   "outputs": [],
   "source": [
    "# Sperating the disctionery into two list with respective headings\n",
    "xaxis = [\"Name of the BOOK\"]\n",
    "yaxis = [\"Evolution Period in Days\"]\n",
    "\n",
    "for w in sorted(Book_Evolution, key=Book_Evolution.get, reverse=True):\n",
    "    xaxis.append(w)\n",
    "    yaxis.append(Book_Evolution[w])"
   ]
  },
  {
   "cell_type": "code",
   "execution_count": 570,
   "metadata": {
    "collapsed": false
   },
   "outputs": [],
   "source": [
    "#Writing the above printed outputs along with headings to a CSV file \n",
    "#Using the local directory address path so the it can be used from any machine\n",
    "import csv\n",
    "rank = 0\n",
    "rank2 = ['Rank']\n",
    "if not os.path.exists('ana_[1-3]'):     \n",
    "    os.mkdir('ana_[1-3]')\n",
    "with open ('ana_[1-3]/Q2_A1_BookEvolution.csv', 'w' , newline='') as f:\n",
    "    w = csv.writer(f,delimiter = ',')\n",
    "    for i in range(len(xaxis)):\n",
    "        rank = rank + 1\n",
    "        rank2.append(rank) \n",
    "        w.writerow([xaxis[i], rank2[i],  yaxis[i]])"
   ]
  },
  {
   "cell_type": "code",
   "execution_count": 571,
   "metadata": {
    "collapsed": true
   },
   "outputs": [],
   "source": [
    "# For plotting the graph the heading is removed.\n",
    "if xaxis[0] == \"Name of the BOOK\":\n",
    "    del xaxis[0]\n",
    "if yaxis[0] == \"Evolution Period in Days\":\n",
    "    del yaxis[0]\n",
    "if rank2[0] == \"Rank\":\n",
    "    del rank2[0]"
   ]
  },
  {
   "cell_type": "code",
   "execution_count": 574,
   "metadata": {
    "collapsed": false
   },
   "outputs": [
    {
     "data": {
      "image/png": "[encoded data removed]",
      "text/plain": [
       "<matplotlib.figure.Figure at 0x1a77ab38>"
      ]
     },
     "metadata": {},
     "output_type": "display_data"
    }
   ],
   "source": [
    "# Graph plotted for the Book's rank which has most highest number of Evolution days against the Evolution period in days\n",
    "import matplotlib.pyplot as plt\n",
    "plt.plot(rank2,yaxis, label=\"Rank Vs Evolution days\")\n",
    "plt.xlabel('Rank of Books with most frequct')\n",
    "plt.ylabel('Evolution Period in Days')\n",
    "plt.title(\"Graph for Evolution Period of Books\")\n",
    "plt.legend()\n",
    "plt.show()"
   ]
  },
  {
   "cell_type": "markdown",
   "metadata": {},
   "source": [
    "### Conclusion of Analysis -- 1\n",
    "*From the above analysis it is clearly seen that the book \"Children’s Series\" has taken the rank 1 position which has highest period of days evolved*\n"
   ]
  },
  {
   "cell_type": "markdown",
   "metadata": {},
   "source": [
    "# Analysis -- 2\n",
    "- Finding the top high frequency \"News Deck\"\n",
    "- Fetching the rank 1 frequency news Deck\n",
    "- To find that which category \"type_of_material\" does this first rank news deck belongs too\n",
    "- Export the data to a CSV file\n",
    "- Plot the graph for the \"type_of_material\" against the frequency of \"News Deck\" after grouping\n",
    "- In conclusion we will come to know how many times the first rank news deck has fall under different \"type_of_material\""
   ]
  },
  {
   "cell_type": "code",
   "execution_count": 575,
   "metadata": {
    "collapsed": false
   },
   "outputs": [],
   "source": [
    "# To get the data for \"news_desk\" from all the files downloaded from the \"Archive API\"\n",
    "import nltk\n",
    "from nltk import FreqDist\n",
    "News_Deck = []\n",
    "for y in range(len(outputlist)):\n",
    "    for x in range(len(outputlist[y]['response']['docs'])):\n",
    "        News_Deck.append(outputlist[y]['response']['docs'][x]['news_desk'])"
   ]
  },
  {
   "cell_type": "code",
   "execution_count": 576,
   "metadata": {
    "collapsed": false
   },
   "outputs": [
    {
     "name": "stdout",
     "output_type": "stream",
     "text": [
      "41890\n"
     ]
    }
   ],
   "source": [
    "# Total number of files taken under \"news_desk\"\n",
    "print(len(News_Deck)) "
   ]
  },
  {
   "cell_type": "code",
   "execution_count": 577,
   "metadata": {
    "collapsed": false
   },
   "outputs": [
    {
     "name": "stdout",
     "output_type": "stream",
     "text": [
      "[('Financial Desk', 12949), ('National Desk', 4880), ('Sports Desk', 4135), ('Metropolitan Desk', 4102), ('Foreign Desk', 3031), ('Editorial Desk', 2124), ('Cultural Desk', 1821), ('Society Desk', 1181), ('Obituary', 999), ('Book Review Desk', 743)]\n"
     ]
    }
   ],
   "source": [
    "# To get the most frequent data from the \"news_desk\"\n",
    "News_Deck_Freq = FreqDist(News_Deck)\n",
    "print(News_Deck_Freq.most_common(10))"
   ]
  },
  {
   "cell_type": "code",
   "execution_count": 578,
   "metadata": {
    "collapsed": false
   },
   "outputs": [
    {
     "name": "stdout",
     "output_type": "stream",
     "text": [
      "12949\n"
     ]
    }
   ],
   "source": [
    "# Since the \"News Deck\" vlaue \"Financial Desk\" has the highest frequency, we will consider that for the analysis\n",
    "Material_Type = []\n",
    "for y in range(len(outputlist)):\n",
    "    for x in range(len(outputlist[y]['response']['docs'])):\n",
    "        if outputlist[y]['response']['docs'][x]['news_desk'] == 'Financial Desk':\n",
    "            Material_Type.append(outputlist[y]['response']['docs'][x]['type_of_material'])\n",
    "print(len(Material_Type))"
   ]
  },
  {
   "cell_type": "code",
   "execution_count": 579,
   "metadata": {
    "collapsed": false
   },
   "outputs": [
    {
     "name": "stdout",
     "output_type": "stream",
     "text": [
      "[('Statistics', 7202), ('News', 5397), ('Summary', 132), ('Letter', 90), ('Schedule', 50), ('List', 19), ('An Analysis; News Analysis', 18), ('Correction', 12), ('Interview', 11), ('Chronology', 8)]\n"
     ]
    }
   ],
   "source": [
    "# To get the frequency of the Material type under the News_Deck \"Financial Desk\"\n",
    "Material_Type_Freq = FreqDist(Material_Type)\n",
    "print(Material_Type_Freq.most_common(10))"
   ]
  },
  {
   "cell_type": "code",
   "execution_count": 580,
   "metadata": {
    "collapsed": true
   },
   "outputs": [],
   "source": [
    "# Sperating the disctionery into two list with respective headings\n",
    "Material_typelist = [\"Material Type\"]\n",
    "Material_freqlist = [\"Frequency of Material Type\"]\n",
    "Materail_ranklist = [\"Rank for most frequent\"]\n",
    "ranklist = 0\n",
    "for w in sorted(Material_Type_Freq, key=Material_Type_Freq.get, reverse=True):\n",
    "    ranklist = ranklist + 1\n",
    "    Material_typelist.append(w)\n",
    "    Material_freqlist.append(Material_Type_Freq[w])\n",
    "    Materail_ranklist.append(ranklist)"
   ]
  },
  {
   "cell_type": "code",
   "execution_count": 581,
   "metadata": {
    "collapsed": true
   },
   "outputs": [],
   "source": [
    "#Writing the above printed outputs along with headings to a CSV file \n",
    "#Using the local directory address path so the it can be used from any machine\n",
    "import csv\n",
    "if not os.path.exists('ana_[1-3]'):     \n",
    "    os.mkdir('ana_[1-3]')\n",
    "with open ('ana_[1-3]/Q2_A2_NewsDesk_MaterialType.csv', 'w' , newline='') as f:\n",
    "    w = csv.writer(f,delimiter = ',')\n",
    "    for i in range(len(Material_typelist)): \n",
    "        w.writerow([Material_typelist[i], Materail_ranklist[i],  Material_freqlist[i]])"
   ]
  },
  {
   "cell_type": "code",
   "execution_count": 582,
   "metadata": {
    "collapsed": true
   },
   "outputs": [],
   "source": [
    "# For plotting the graph the heading is removed.\n",
    "if Material_typelist[0] == \"Material Type\":\n",
    "    del Material_typelist[0]\n",
    "if Material_freqlist[0] == \"Frequency of Material Type\":\n",
    "    del Material_freqlist[0]\n",
    "if Materail_ranklist[0] == \"Rank for most frequent\":\n",
    "    del Materail_ranklist[0]"
   ]
  },
  {
   "cell_type": "code",
   "execution_count": 583,
   "metadata": {
    "collapsed": false
   },
   "outputs": [
    {
     "data": {
      "image/png": "[encoded data removed]",
      "text/plain": [
       "<matplotlib.figure.Figure at 0x1a3af198>"
      ]
     },
     "metadata": {},
     "output_type": "display_data"
    }
   ],
   "source": [
    "# Graph plotted for the Material's rank which has most highest number of \"NewsDesk = Financial Desk\" \n",
    "# against the Evolution period in days\n",
    "import matplotlib.pyplot as plt\n",
    "plt.bar(Materail_ranklist,Material_freqlist, label=\"Rank vs Frequecy\",color='r')\n",
    "plt.xlabel('Rank of Material type')\n",
    "plt.ylabel('Frequency of Material type')\n",
    "plt.title(\"Material types under Rank1 News Desk\")\n",
    "plt.legend()\n",
    "plt.show()"
   ]
  },
  {
   "cell_type": "markdown",
   "metadata": {},
   "source": [
    "### Conclusion of Analysis -- 2\n",
    "*From the above analysis it is clearly seen that from the \"Archive API\" files the top Rank1 NewsDeck has classified more on the (MaterialType = Statistics and News) which has high spike*\n"
   ]
  },
  {
   "cell_type": "markdown",
   "metadata": {},
   "source": [
    "# Analysis -- 3\n",
    "- To find which type of material news are famous in a particular time period using the data \"Archive API\"\n",
    "- Store the gathered data to a CSV file\n",
    "- Plot the graph for the type of material and their frequency in a particular time period "
   ]
  },
  {
   "cell_type": "code",
   "execution_count": 584,
   "metadata": {
    "collapsed": true
   },
   "outputs": [],
   "source": [
    "# To get the data for \"Type of Material\" from all the files downloaded from the \"Archive API\"\n",
    "import nltk\n",
    "from nltk import FreqDist\n",
    "Total_Materialtype = []\n",
    "for y in range(len(outputlist)):\n",
    "    for x in range(len(outputlist[y]['response']['docs'])):\n",
    "        Total_Materialtype.append(outputlist[y]['response']['docs'][x]['type_of_material'])"
   ]
  },
  {
   "cell_type": "code",
   "execution_count": 585,
   "metadata": {
    "collapsed": false
   },
   "outputs": [
    {
     "name": "stdout",
     "output_type": "stream",
     "text": [
      "41890\n"
     ]
    }
   ],
   "source": [
    "# The total number of materail type news from the \"Archive API\"\n",
    "print(len(Total_Materialtype))"
   ]
  },
  {
   "cell_type": "code",
   "execution_count": 586,
   "metadata": {
    "collapsed": false
   },
   "outputs": [
    {
     "data": {
      "text/plain": [
       "[('News', 26007),\n",
       " ('Statistics', 7254),\n",
       " ('Letter', 2148),\n",
       " ('Review', 2125),\n",
       " ('Obituary', 999),\n",
       " ('Editorial', 610),\n",
       " ('Correction', 567),\n",
       " ('Caption', 534),\n",
       " ('Op-Ed', 349),\n",
       " ('List', 286)]"
      ]
     },
     "execution_count": 586,
     "metadata": {},
     "output_type": "execute_result"
    }
   ],
   "source": [
    "# The Frequency distribution of all the material type news from the entire downloaded data\n",
    "Total_Materialtype_Freq = FreqDist(Total_Materialtype)\n",
    "Total_Materialtype_Freq.most_common(10)"
   ]
  },
  {
   "cell_type": "code",
   "execution_count": 587,
   "metadata": {
    "collapsed": false
   },
   "outputs": [],
   "source": [
    "# To collect the materail type news on a particular period \n",
    "specific_Materialtype = []\n",
    "for y in range(len(outputlist)):\n",
    "    for x in range(len(outputlist[y]['response']['docs'])):\n",
    "        if outputlist[y]['response']['docs'][x]['pub_date'] == '1988-08-01T00:00:00Z':\n",
    "            specific_Materialtype.append(outputlist[y]['response']['docs'][x]['type_of_material'])"
   ]
  },
  {
   "cell_type": "code",
   "execution_count": 588,
   "metadata": {
    "collapsed": false
   },
   "outputs": [
    {
     "data": {
      "text/plain": [
       "12"
      ]
     },
     "execution_count": 588,
     "metadata": {},
     "output_type": "execute_result"
    }
   ],
   "source": [
    "len(set(specific_Materialtype))"
   ]
  },
  {
   "cell_type": "code",
   "execution_count": 589,
   "metadata": {
    "collapsed": false
   },
   "outputs": [
    {
     "data": {
      "text/plain": [
       "[('News', 123),\n",
       " ('Letter', 9),\n",
       " ('Review', 5),\n",
       " ('Caption', 4),\n",
       " ('Editorial', 3),\n",
       " ('Schedule', 2),\n",
       " ('An Analysis; News Analysis', 2),\n",
       " ('Summary', 2),\n",
       " ('Correction', 2),\n",
       " ('Op-Ed', 2)]"
      ]
     },
     "execution_count": 589,
     "metadata": {},
     "output_type": "execute_result"
    }
   ],
   "source": [
    "# The Frequency distribution of specific material type news (under time period) from the entire downloaded data\n",
    "Specific_Materialtype_Freq = FreqDist(specific_Materialtype)\n",
    "Specific_Materialtype_Freq.most_common(10)"
   ]
  },
  {
   "cell_type": "code",
   "execution_count": 590,
   "metadata": {
    "collapsed": true
   },
   "outputs": [],
   "source": [
    "# Sperating the disctionery into two list with respective headings\n",
    "Specific_Materialtype_list = [\"Type of the Material News\"]\n",
    "Specific_Materialfreq_list = [\"Frequency of Material News\"]\n",
    "Specific_Materailrank_list = [\"Rank for most frequent Material News\"]\n",
    "ranklist = 0\n",
    "for w in sorted(Specific_Materialtype_Freq, key=Specific_Materialtype_Freq.get, reverse=True):\n",
    "    ranklist = ranklist + 1\n",
    "    Specific_Materialtype_list.append(w)\n",
    "    Specific_Materialfreq_list.append(Material_Type_Freq[w])\n",
    "    Specific_Materailrank_list.append(ranklist)"
   ]
  },
  {
   "cell_type": "code",
   "execution_count": 591,
   "metadata": {
    "collapsed": false
   },
   "outputs": [],
   "source": [
    "#Writing the above printed outputs along with headings to a CSV file \n",
    "#Using the local directory address path so the it can be used from any machine\n",
    "import csv\n",
    "if not os.path.exists('ana_[1-3]'):     \n",
    "    os.mkdir('ana_[1-3]')\n",
    "with open ('ana_[1-3]/Q2_A3_MaterialType_SpecificTime.csv', 'w' , newline='') as f:\n",
    "    w = csv.writer(f,delimiter = ',')\n",
    "    for i in range(len(Specific_Materialtype_list)): \n",
    "        w.writerow([Specific_Materialtype_list[i], Specific_Materailrank_list[i],  Specific_Materialfreq_list[i]])"
   ]
  },
  {
   "cell_type": "code",
   "execution_count": 592,
   "metadata": {
    "collapsed": true
   },
   "outputs": [],
   "source": [
    "# For plotting the graph the heading is removed.\n",
    "if Specific_Materialtype_list[0] == \"Type of the Material News\":\n",
    "    del Specific_Materialtype_list[0]\n",
    "if Specific_Materialfreq_list[0] == \"Frequency of Material News\":\n",
    "    del Specific_Materialfreq_list[0]\n",
    "if Specific_Materailrank_list[0] == \"Rank for most frequent Material News\":\n",
    "    del Specific_Materailrank_list[0]"
   ]
  },
  {
   "cell_type": "code",
   "execution_count": 593,
   "metadata": {
    "collapsed": false
   },
   "outputs": [
    {
     "data": {
      "image/png": "[encoded data removed]",
      "text/plain": [
       "<matplotlib.figure.Figure at 0x1891bcf8>"
      ]
     },
     "metadata": {},
     "output_type": "display_data"
    }
   ],
   "source": [
    "# Graph plotted for the Material's rank which has most popular in a particular time period against its frequency \n",
    "import matplotlib.pyplot as plt\n",
    "plt.bar(Specific_Materailrank_list, Specific_Materialfreq_list, label=\"Rank vs Frequecy\", color ='g')\n",
    "plt.xlabel('Rank of Material type in a particular time')\n",
    "plt.ylabel('Frequency of Material type in a particular time')\n",
    "plt.title(\"Popularity of the materail types under a particular time\")\n",
    "plt.legend()\n",
    "plt.show()"
   ]
  },
  {
   "cell_type": "markdown",
   "metadata": {},
   "source": [
    "### Conclusion of Analysis -- 3\n",
    "*From the above analysis it is clearly seen that there is a much popularity on the Material type = NEWS in a specific time period which has the highest spike in the graph**\n"
   ]
  },
  {
   "cell_type": "code",
   "execution_count": null,
   "metadata": {
    "collapsed": true
   },
   "outputs": [],
   "source": []
  }
 ],
 "metadata": {
  "anaconda-cloud": {},
  "kernelspec": {
   "display_name": "Python [default]",
   "language": "python",
   "name": "python3"
  },
  "language_info": {
   "codemirror_mode": {
    "name": "ipython",
    "version": 3
   },
   "file_extension": ".py",
   "mimetype": "text/x-python",
   "name": "python",
   "nbconvert_exporter": "python",
   "pygments_lexer": "ipython3",
   "version": "3.5.2"
  }
 },
 "nbformat": 4,
 "nbformat_minor": 1
}
