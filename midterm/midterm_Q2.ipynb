{
 "cells": [
  {
   "cell_type": "markdown",
   "metadata": {},
   "source": [
    "# Question -- 2 \n",
    "- Data collected from the NYT API Documentation\n",
    "- The collected data is stored in the local harddisk using relative address path\n",
    "- Followed by three analysis is performed"
   ]
  },
  {
   "cell_type": "code",
   "execution_count": 48,
   "metadata": {
    "collapsed": false
   },
   "outputs": [
    {
     "name": "stdout",
     "output_type": "stream",
     "text": [
      "1 Json already present\n",
      "2 Json already present\n",
      "3 Json already present\n",
      "4 Json already present\n",
      "5 Json already present\n"
     ]
    }
   ],
   "source": [
    "# Program to download the NYT data using API key for \"ARCHIVE\" \n",
    "# This collected is stored in the harddisk\n",
    "import os\n",
    "import requests\n",
    "import json\n",
    "url = []\n",
    "url.append(\"https://api.nytimes.com/svc/archive/v1/1988/8.json\")\n",
    "url.append(\"https://api.nytimes.com/svc/archive/v1/1988/9.json\")\n",
    "url.append(\"https://api.nytimes.com/svc/archive/v1/1988/10.json\")\n",
    "url.append(\"https://api.nytimes.com/svc/archive/v1/1988/11.json\")\n",
    "url.append(\"https://api.nytimes.com/svc/archive/v1/1988/12.json\")\n",
    "outputlist=[]\n",
    "for x in range(len(url)):\n",
    "    outputlist.append(requests.get(url[x]+\"?api-key=0715f983b3e448249d5387d2f521baf2\").json())  \n",
    "    outputfol='data/NYTAPI'\n",
    "    path = (outputfol+'\\\\'+str(\"archive\"+outputlist[x]['response']['docs'][0]['pub_date'][:7])+'.json')\n",
    "    if not os.path.exists(outputfol):\n",
    "            os.makedirs(outputfol)\n",
    "    if not os.path.exists(path):\n",
    "            with open(path, 'w') as outfile:\n",
    "                json.dump(outputlist, outfile)\n",
    "                print(repr(x+1)+\" Json dumped in folder\")\n",
    "    else:\n",
    "        print(repr(x+1)+\" Json already present\")    "
   ]
  },
  {
   "cell_type": "code",
   "execution_count": 46,
   "metadata": {
    "collapsed": false
   },
   "outputs": [
    {
     "name": "stdout",
     "output_type": "stream",
     "text": [
      "Json already present\n"
     ]
    }
   ],
   "source": [
    "# Program to download the NYT data using API key for \"BOOKS - Names\" \n",
    "# This collected is stored in the harddisk\n",
    "import os\n",
    "import requests\n",
    "import json\n",
    "outputlist1=[]\n",
    "outputlist1 = requests.get(\"https://api.nytimes.com/svc/books/v3/lists/names.json?api-key=0715f983b3e448249d5387d2f521baf2\").json()  \n",
    "outputfol='data/NYTAPI'\n",
    "path = (outputfol+'\\\\'+'BookListNames'+'.json')\n",
    "if not os.path.exists(outputfol):\n",
    "        os.makedirs(outputfol)\n",
    "if not os.path.exists(path):\n",
    "        with open(path, 'w') as outfile:\n",
    "            json.dump(outputlist1, outfile)\n",
    "            print(\"Json dumped in folder\")\n",
    "else:\n",
    "    print(\"Json already present\")"
   ]
  },
  {
   "cell_type": "code",
   "execution_count": 102,
   "metadata": {
    "collapsed": false
   },
   "outputs": [
    {
     "name": "stdout",
     "output_type": "stream",
     "text": [
      "Json already present\n"
     ]
    }
   ],
   "source": [
    "# Program to download the NYT data using API key for \"BOOKS - Overview\" \n",
    "# This collected is stored in the harddisk\n",
    "import os\n",
    "import requests\n",
    "import json\n",
    "outputlist2=[]\n",
    "outputlist2 = requests.get(\"https://api.nytimes.com/svc/books/v3/lists/overview.json?api-key=0715f983b3e448249d5387d2f521baf2\").json()  \n",
    "outputfol='data/NYTAPI'\n",
    "path = (outputfol+'\\\\'+'BookListOverview'+'.json')\n",
    "if not os.path.exists(outputfol):\n",
    "        os.makedirs(outputfol)\n",
    "if not os.path.exists(path):\n",
    "        with open(path, 'w') as outfile:\n",
    "            json.dump(outputlist2, outfile)\n",
    "            print(\"Json dumped in folder\")\n",
    "else:\n",
    "    print(\"Json already present\")"
   ]
  },
  {
   "cell_type": "code",
   "execution_count": 104,
   "metadata": {
    "collapsed": false
   },
   "outputs": [
    {
     "name": "stdout",
     "output_type": "stream",
     "text": [
      "Json dumped in folder\n"
     ]
    }
   ],
   "source": [
    "# Program to download the NYT data using API key for \"Article\" \n",
    "# This collected is stored in the harddisk\n",
    "import os\n",
    "import requests\n",
    "import json\n",
    "outputlist2=[]\n",
    "outputlist2 = requests.get(\"https://api.nytimes.com/svc/search/v2/articlesearch.json?api-key=0715f983b3e448249d5387d2f521baf2\").json()  \n",
    "outputfol='data/NYTAPI'\n",
    "path = (outputfol+'\\\\'+'articlesearch'+'.json')\n",
    "if not os.path.exists(outputfol):\n",
    "        os.makedirs(outputfol)\n",
    "if not os.path.exists(path):\n",
    "        with open(path, 'w') as outfile:\n",
    "            json.dump(outputlist2, outfile)\n",
    "            print(\"Json dumped in folder\")\n",
    "else:\n",
    "    print(\"Json already present\")"
   ]
  },
  {
   "cell_type": "markdown",
   "metadata": {},
   "source": [
    "### The data is collected and stored in the local hard drive "
   ]
  },
  {
   "cell_type": "markdown",
   "metadata": {},
   "source": [
    "# Analysis -- 1 \n",
    "- Finding the first publication date and latest publication date of a book\n",
    "- Finding the period how long each book has been evolved in the society\n",
    "- Finally the oldest book will taken out as an output of the analysis_1\n",
    "- The evolution data of each book will be stored in a CSV file\n",
    "- Graph will be plotted for easy understanding."
   ]
  },
  {
   "cell_type": "code",
   "execution_count": 386,
   "metadata": {
    "collapsed": false
   },
   "outputs": [
    {
     "name": "stdout",
     "output_type": "stream",
     "text": [
      "53\n"
     ]
    }
   ],
   "source": [
    "# Under the API Book - Names, which is stored in the list \"outputlist1\"\n",
    "# To get the data for First publication date of each book \n",
    "import nltk\n",
    "from nltk import FreqDist\n",
    "First_PubDate = [] \n",
    "count =0\n",
    "for x in range(len(outputlist1['results'])):\n",
    "    count += 1\n",
    "    First_PubDate.append(outputlist1['results'][x]['oldest_published_date'])\n",
    "print(len(First_PubDate))"
   ]
  },
  {
   "cell_type": "code",
   "execution_count": 385,
   "metadata": {
    "collapsed": false
   },
   "outputs": [
    {
     "name": "stdout",
     "output_type": "stream",
     "text": [
      "53\n"
     ]
    }
   ],
   "source": [
    "# To get the data for latest publication date of each book \n",
    "import nltk\n",
    "from nltk import FreqDist\n",
    "Last_PubDate = [] \n",
    "count =0\n",
    "for x in range(len(outputlist1['results'])):\n",
    "    count += 1\n",
    "    Last_PubDate.append(outputlist1['results'][x]['newest_published_date'])\n",
    "print(len(Last_PubDate))"
   ]
  },
  {
   "cell_type": "code",
   "execution_count": 387,
   "metadata": {
    "collapsed": false
   },
   "outputs": [
    {
     "name": "stdout",
     "output_type": "stream",
     "text": [
      "53\n"
     ]
    }
   ],
   "source": [
    "# converting the date string to required format in year, month and day\n",
    "import datetime\n",
    "First_PubDate_formated = []\n",
    "for f in range(len(First_PubDate)):\n",
    "    First_PubDate_formated.append(datetime.datetime.strptime(First_PubDate[f], '%Y-%m-%d'))\n",
    "    \n",
    "Last_PubDate_formated = []\n",
    "for l in range(len(Last_PubDate)):\n",
    "    Last_PubDate_formated.append(datetime.datetime.strptime(Last_PubDate[l], '%Y-%m-%d'))\n",
    "\n",
    "# To get the Evolution period of each book the first published date is subracted from last Published date\n",
    "Evolution_days = []\n",
    "for e in range(len(First_PubDate_formated)):\n",
    "    Evolution_days.append((Last_PubDate_formated[e]-First_PubDate_formated[e]).days)\n",
    "print(len(Evolution_days))"
   ]
  },
  {
   "cell_type": "code",
   "execution_count": 295,
   "metadata": {
    "collapsed": false
   },
   "outputs": [
    {
     "data": {
      "text/plain": [
       "53"
      ]
     },
     "execution_count": 295,
     "metadata": {},
     "output_type": "execute_result"
    }
   ],
   "source": [
    "# To get the data for each book name\n",
    "import nltk\n",
    "from nltk import FreqDist\n",
    "Display_name = [] \n",
    "count =0\n",
    "for x in range(len(outputlist1['results'])):\n",
    "    count += 1\n",
    "    Display_name.append(outputlist1['results'][x]['display_name'])\n",
    "len(Display_name)"
   ]
  },
  {
   "cell_type": "code",
   "execution_count": 297,
   "metadata": {
    "collapsed": false
   },
   "outputs": [],
   "source": [
    "# joining the display name of book and their evolution period in days together\n",
    "\n",
    "Book_Evolution = dict(zip(Display_name,Evolution_days))"
   ]
  },
  {
   "cell_type": "code",
   "execution_count": 388,
   "metadata": {
    "collapsed": false
   },
   "outputs": [
    {
     "name": "stdout",
     "output_type": "stream",
     "text": [
      "Name of the BOOK                 \t   Rank      \tEvolution Period in days\n",
      "'Children’s Series'              \t   1         \t3199\n",
      "'Children’s Picture Books'       \t   2         \t3199\n",
      "'Hardcover Fiction'              \t   3         \t3199\n",
      "'Paperback Trade Fiction'        \t   4         \t3199\n",
      "'Hardcover Nonfiction'           \t   5         \t3199\n",
      "'Paperback Nonfiction'           \t   6         \t3199\n",
      "'Paperback Mass-Market Fiction'   \t   7         \t3157\n",
      "'Manga'                          \t   8         \t2877\n",
      "'Hardcover Graphic Books'        \t   9         \t2877\n",
      "'Paperback Graphic Books'        \t   10        \t2877\n"
     ]
    }
   ],
   "source": [
    "#For the top 10, displaying of the Book's names with most evolution period along with their ranks\n",
    "rank1 = 0\n",
    "print (\"Name of the BOOK\".ljust(30) +  \"   \\t   \" + \"Rank\".ljust(10) + \"\\t\"+ \"Evolution Period in days\")\n",
    "for w in sorted(Book_Evolution, key=Book_Evolution.get, reverse=True) [:10]:\n",
    "    rank1 = rank1 + 1 \n",
    "    print (repr(w).ljust(30) +  \"   \\t   \" + repr(rank1).ljust(10) + \"\\t\" + repr(Book_Evolution[w]))"
   ]
  },
  {
   "cell_type": "code",
   "execution_count": 367,
   "metadata": {
    "collapsed": true
   },
   "outputs": [],
   "source": [
    "# Sperating the disctionery into two list with respective headings\n",
    "xaxis = [\"Name of the BOOK\"]\n",
    "yaxis = [\"Evolution Period in Days\"]\n",
    "\n",
    "for w in sorted(Book_Evolution, key=Book_Evolution.get, reverse=True):\n",
    "    xaxis.append(w)\n",
    "    yaxis.append(Book_Evolution[w])"
   ]
  },
  {
   "cell_type": "code",
   "execution_count": 374,
   "metadata": {
    "collapsed": false
   },
   "outputs": [],
   "source": [
    "#Writing the above printed outputs along with headings to a CSV file \n",
    "#Using the local directory address path so the it can be used from any machine\n",
    "import csv\n",
    "rank = 0\n",
    "rank2 = ['Rank']\n",
    "if not os.path.exists('ana_[1-3]'):     \n",
    "    os.mkdir('ana_[1-3]')\n",
    "with open ('ana_[1-3]/Q2_A1_BookEvolution.csv', 'w' , newline='') as f:\n",
    "    w = csv.writer(f,delimiter = ',')\n",
    "    for i in range(len(xaxis)):\n",
    "        rank = rank + 1\n",
    "        rank2.append(rank) \n",
    "        w.writerow([xaxis[i], rank2[i],  yaxis[i]])"
   ]
  },
  {
   "cell_type": "code",
   "execution_count": 376,
   "metadata": {
    "collapsed": true
   },
   "outputs": [],
   "source": [
    "# For plotting the graph the heading is removed.\n",
    "if xaxis[0] == \"Name of the BOOK\":\n",
    "    del xaxis[0]\n",
    "if yaxis[0] == \"Evolution Period in Days\":\n",
    "    del yaxis[0]\n",
    "if rank2[0] == \"Rank\":\n",
    "    del rank2[0]"
   ]
  },
  {
   "cell_type": "code",
   "execution_count": 383,
   "metadata": {
    "collapsed": false
   },
   "outputs": [
    {
     "data": {
      "image/png": "[encoded data removed]",
      "text/plain": [
       "<matplotlib.figure.Figure at 0x188edf98>"
      ]
     },
     "metadata": {},
     "output_type": "display_data"
    }
   ],
   "source": [
    "# Graph plotted for the Book's rank which has most highest number of Evolution days against the Evolution period in days\n",
    "import matplotlib.pyplot as plt\n",
    "plt.plot(rank2,yaxis, label=\"Rank Vs Evolution days\")\n",
    "plt.xlabel('Rank of Books')\n",
    "plt.ylabel('Evolution Period in Days')\n",
    "plt.title(\"Graph for Evolution Period of Books\")\n",
    "plt.legend()\n",
    "plt.show()"
   ]
  },
  {
   "cell_type": "markdown",
   "metadata": {},
   "source": [
    "### Conclusion of Analysis -- 1\n",
    "*From the above analysis it is clearly seen that the book \"Children’s Series\" has taken the rank 1 position which has highest period of days evolved*\n"
   ]
  },
  {
   "cell_type": "markdown",
   "metadata": {},
   "source": [
    "# Analysis -- 2\n",
    "- Finding the first publication date and latest publication date of a book\n",
    "- Finding the period how long each book has been evolved in the society\n",
    "- Finally the oldest book will taken out as an output of the analysis_1\n",
    "- The evolution data of each book will be stored in a CSV file\n",
    "- Graph will be plotted for easy understanding."
   ]
  },
  {
   "cell_type": "code",
   "execution_count": 393,
   "metadata": {
    "collapsed": false
   },
   "outputs": [
    {
     "data": {
      "text/plain": [
       "{'_id': '4fd17a688eb7c8105d67208d',\n",
       " 'abstract': None,\n",
       " 'blog': [],\n",
       " 'byline': {'original': 'By JEFFREY SCHMALZ',\n",
       "  'person': [{'firstname': 'Jeffrey',\n",
       "    'lastname': 'SCHMALZ',\n",
       "    'organization': '',\n",
       "    'rank': 1,\n",
       "    'role': 'reported'}]},\n",
       " 'document_type': 'article',\n",
       " 'headline': {'main': 'Cuomo vs. Legislators: Hand-to-Hand Combat Over Shoreham'},\n",
       " 'keywords': [{'name': 'persons', 'value': 'CUOMO, MARIO M'},\n",
       "  {'name': 'glocations', 'value': 'LONG ISLAND (NY)'},\n",
       "  {'name': 'organizations', 'value': 'SHOREHAM NUCLEAR POWER PLANT'},\n",
       "  {'name': 'organizations', 'value': 'LONG ISLAND LIGHTING CO'},\n",
       "  {'name': 'subject', 'value': 'ELECTION ISSUES'},\n",
       "  {'name': 'subject', 'value': 'ATOMIC ENERGY'},\n",
       "  {'name': 'subject', 'value': 'ELECTRIC LIGHT AND POWER'},\n",
       "  {'name': 'subject', 'value': 'RATES'}],\n",
       " 'lead_paragraph': \"LEAD: During his monthly statewide radio program last week, Governor Cuomo defended his plan to close the Shoreham nuclear power plant, making a rare direct emotional plea to the public: ''All you people on Long Island, listen to me.''\",\n",
       " 'multimedia': [],\n",
       " 'news_desk': 'Metropolitan Desk',\n",
       " 'print_page': '1',\n",
       " 'pub_date': '1988-08-01T00:00:00Z',\n",
       " 'section_name': 'New York and Region',\n",
       " 'slideshow_credits': None,\n",
       " 'snippet': \"LEAD: During his monthly statewide radio program last week, Governor Cuomo defended his plan to close the Shoreham nuclear power plant, making a rare direct emotional plea to the public: ''All you people on Long Island, listen to me.''\",\n",
       " 'source': 'The New York Times',\n",
       " 'subsection_name': None,\n",
       " 'type_of_material': 'News',\n",
       " 'web_url': 'http://www.nytimes.com/1988/08/01/nyregion/cuomo-vs-legislators-hand-to-hand-combat-over-shoreham.html',\n",
       " 'word_count': 1350}"
      ]
     },
     "execution_count": 393,
     "metadata": {},
     "output_type": "execute_result"
    }
   ],
   "source": [
    "outputlist[0]['response']['docs'][0]"
   ]
  },
  {
   "cell_type": "code",
   "execution_count": null,
   "metadata": {
    "collapsed": true
   },
   "outputs": [],
   "source": []
  },
  {
   "cell_type": "code",
   "execution_count": null,
   "metadata": {
    "collapsed": true
   },
   "outputs": [],
   "source": []
  },
  {
   "cell_type": "code",
   "execution_count": null,
   "metadata": {
    "collapsed": true
   },
   "outputs": [],
   "source": []
  },
  {
   "cell_type": "code",
   "execution_count": null,
   "metadata": {
    "collapsed": true
   },
   "outputs": [],
   "source": []
  },
  {
   "cell_type": "code",
   "execution_count": null,
   "metadata": {
    "collapsed": true
   },
   "outputs": [],
   "source": []
  },
  {
   "cell_type": "code",
   "execution_count": null,
   "metadata": {
    "collapsed": true
   },
   "outputs": [],
   "source": []
  },
  {
   "cell_type": "code",
   "execution_count": null,
   "metadata": {
    "collapsed": true
   },
   "outputs": [],
   "source": []
  },
  {
   "cell_type": "code",
   "execution_count": null,
   "metadata": {
    "collapsed": true
   },
   "outputs": [],
   "source": []
  },
  {
   "cell_type": "code",
   "execution_count": null,
   "metadata": {
    "collapsed": true
   },
   "outputs": [],
   "source": []
  },
  {
   "cell_type": "code",
   "execution_count": null,
   "metadata": {
    "collapsed": true
   },
   "outputs": [],
   "source": []
  },
  {
   "cell_type": "code",
   "execution_count": null,
   "metadata": {
    "collapsed": true
   },
   "outputs": [],
   "source": []
  }
 ],
 "metadata": {
  "anaconda-cloud": {},
  "kernelspec": {
   "display_name": "Python [default]",
   "language": "python",
   "name": "python3"
  },
  "language_info": {
   "codemirror_mode": {
    "name": "ipython",
    "version": 3
   },
   "file_extension": ".py",
   "mimetype": "text/x-python",
   "name": "python",
   "nbconvert_exporter": "python",
   "pygments_lexer": "ipython3",
   "version": "3.5.2"
  }
 },
 "nbformat": 4,
 "nbformat_minor": 1
}
