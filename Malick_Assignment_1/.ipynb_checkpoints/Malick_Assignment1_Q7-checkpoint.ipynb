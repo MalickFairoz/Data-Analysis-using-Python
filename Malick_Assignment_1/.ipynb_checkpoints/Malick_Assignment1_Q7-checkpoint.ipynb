{
 "cells": [
  {
   "cell_type": "markdown",
   "metadata": {},
   "source": [
    "# Question 7\n",
    "- Use Name corpus, calculate the probability of a name being of a male or female base on the last character(s) of name.\n",
    "- Sample steps:\n",
    "- 1) For char ‘a’:\n",
    "\ttotal_names = sum(names ending with ‘a’)\n",
    "\tmale_names = sum(male names ending with ‘a’)\n",
    "\tfemale_names = sum(female names ending with ‘a’)\n",
    "\tProbability of name being male = 100 * male_names / total_names\n",
    "- 2) Do this for all characters. \n",
    "- Output must come with proper title (e.g. [a] male: 25%, female: 60%)"
   ]
  },
  {
   "cell_type": "code",
   "execution_count": 2,
   "metadata": {
    "collapsed": true
   },
   "outputs": [],
   "source": [
    "#Importing nltk\n",
    "import nltk"
   ]
  },
  {
   "cell_type": "code",
   "execution_count": 6,
   "metadata": {
    "collapsed": false
   },
   "outputs": [
    {
     "data": {
      "text/plain": [
       "['female.txt', 'male.txt']"
      ]
     },
     "execution_count": 6,
     "metadata": {},
     "output_type": "execute_result"
    }
   ],
   "source": [
    "#Displays the list of books from names Package\n",
    "nltk.corpus.names.fileids()"
   ]
  },
  {
   "cell_type": "code",
   "execution_count": 211,
   "metadata": {
    "collapsed": false
   },
   "outputs": [],
   "source": [
    "#Makeing all the female name words in one list\n",
    "femalenames = nltk.corpus.names.words('female.txt')"
   ]
  },
  {
   "cell_type": "code",
   "execution_count": 209,
   "metadata": {
    "collapsed": false
   },
   "outputs": [
    {
     "name": "stdout",
     "output_type": "stream",
     "text": [
      "['a', 'b', 'c', 'd', 'e', 'f', 'g', 'h', 'i', 'j', 'k', 'l', 'm', 'n', 'o', 'p', 'q', 'r', 's', 't', 'u', 'v', 'w', 'x', 'y', 'z']\n"
     ]
    }
   ],
   "source": [
    "#Making a list for alphabets\n",
    "import string\n",
    "alpha = list(string.ascii_lowercase)\n",
    "print(alpha)"
   ]
  },
  {
   "cell_type": "code",
   "execution_count": 122,
   "metadata": {
    "collapsed": false
   },
   "outputs": [
    {
     "name": "stdout",
     "output_type": "stream",
     "text": [
      "[1773, 9, 0, 39, 1432, 2, 10, 105, 317, 1, 3, 179, 13, 386, 33, 2, 0, 47, 93, 68, 6, 2, 5, 10, 461, 4]\n"
     ]
    }
   ],
   "source": [
    "#In one List grouping the female names that ends with specific alphabet.  \n",
    "fem = []\n",
    "totfem = []\n",
    "for w1 in alpha:\n",
    "    for w2 in femalenames:\n",
    "        if w2.endswith(w1):\n",
    "            fem.append(w2)\n",
    "        else:\n",
    "            pass\n",
    "    totfem.append(len(fem))\n",
    "    fem = []\n",
    "    \n",
    "print(totfem)\n"
   ]
  },
  {
   "cell_type": "code",
   "execution_count": 210,
   "metadata": {
    "collapsed": false
   },
   "outputs": [],
   "source": [
    "#Makeing all the male name words in one list\n",
    "malenames = nltk.corpus.names.words('male.txt')"
   ]
  },
  {
   "cell_type": "code",
   "execution_count": 124,
   "metadata": {
    "collapsed": false
   },
   "outputs": [
    {
     "name": "stdout",
     "output_type": "stream",
     "text": [
      "[29, 21, 25, 228, 468, 25, 32, 93, 50, 3, 69, 187, 70, 478, 165, 18, 0, 190, 230, 164, 12, 16, 17, 10, 332, 11]\n"
     ]
    }
   ],
   "source": [
    "#In one List grouping the male names that ends with specific alphabet.\n",
    "mal = []\n",
    "totmal = []\n",
    "for w1 in alpha:\n",
    "    for w2 in malenames:\n",
    "        if w2.endswith(w1):\n",
    "            mal.append(w2)\n",
    "        else:\n",
    "            pass\n",
    "    totmal.append(len(mal))\n",
    "    mal = []\n",
    "    \n",
    "print(totmal)"
   ]
  },
  {
   "cell_type": "code",
   "execution_count": 204,
   "metadata": {
    "collapsed": false
   },
   "outputs": [
    {
     "name": "stdout",
     "output_type": "stream",
     "text": [
      "For Character 'a'\n",
      "Total names is :1802\n",
      "Total Male names is :29\n",
      "Total Female names is :1773\n",
      "The probability of name being male is 1.609322974472808\n",
      "The probability of name being male is 98.3906770255272\n",
      "For Character 'b'\n",
      "Total names is :30\n",
      "Total Male names is :21\n",
      "Total Female names is :9\n",
      "The probability of name being male is 70.0\n",
      "The probability of name being male is 30.0\n",
      "For Character 'c'\n",
      "Total names is :25\n",
      "Total Male names is :25\n",
      "Total Female names is :0\n",
      "The probability of name being male is 100.0\n",
      "The probability of name being male is 0.0\n",
      "For Character 'd'\n",
      "Total names is :267\n",
      "Total Male names is :228\n",
      "Total Female names is :39\n",
      "The probability of name being male is 85.3932584269663\n",
      "The probability of name being male is 14.606741573033707\n",
      "For Character 'e'\n",
      "Total names is :1900\n",
      "Total Male names is :468\n",
      "Total Female names is :1432\n",
      "The probability of name being male is 24.63157894736842\n",
      "The probability of name being male is 75.36842105263158\n",
      "For Character 'f'\n",
      "Total names is :27\n",
      "Total Male names is :25\n",
      "Total Female names is :2\n",
      "The probability of name being male is 92.5925925925926\n",
      "The probability of name being male is 7.407407407407407\n",
      "For Character 'g'\n",
      "Total names is :42\n",
      "Total Male names is :32\n",
      "Total Female names is :10\n",
      "The probability of name being male is 76.19047619047619\n",
      "The probability of name being male is 23.80952380952381\n",
      "For Character 'h'\n",
      "Total names is :198\n",
      "Total Male names is :93\n",
      "Total Female names is :105\n",
      "The probability of name being male is 46.96969696969697\n",
      "The probability of name being male is 53.03030303030303\n",
      "For Character 'i'\n",
      "Total names is :367\n",
      "Total Male names is :50\n",
      "Total Female names is :317\n",
      "The probability of name being male is 13.623978201634877\n",
      "The probability of name being male is 86.37602179836512\n",
      "For Character 'j'\n",
      "Total names is :4\n",
      "Total Male names is :3\n",
      "Total Female names is :1\n",
      "The probability of name being male is 75.0\n",
      "The probability of name being male is 25.0\n",
      "For Character 'k'\n",
      "Total names is :72\n",
      "Total Male names is :69\n",
      "Total Female names is :3\n",
      "The probability of name being male is 95.83333333333333\n",
      "The probability of name being male is 4.166666666666667\n",
      "For Character 'l'\n",
      "Total names is :366\n",
      "Total Male names is :187\n",
      "Total Female names is :179\n",
      "The probability of name being male is 51.09289617486339\n",
      "The probability of name being male is 48.90710382513661\n",
      "For Character 'm'\n",
      "Total names is :83\n",
      "Total Male names is :70\n",
      "Total Female names is :13\n",
      "The probability of name being male is 84.33734939759036\n",
      "The probability of name being male is 15.662650602409638\n",
      "For Character 'n'\n",
      "Total names is :864\n",
      "Total Male names is :478\n",
      "Total Female names is :386\n",
      "The probability of name being male is 55.324074074074076\n",
      "The probability of name being male is 44.675925925925924\n",
      "For Character 'o'\n",
      "Total names is :198\n",
      "Total Male names is :165\n",
      "Total Female names is :33\n",
      "The probability of name being male is 83.33333333333333\n",
      "The probability of name being male is 16.666666666666668\n",
      "For Character 'p'\n",
      "Total names is :20\n",
      "Total Male names is :18\n",
      "Total Female names is :2\n",
      "The probability of name being male is 90.0\n",
      "The probability of name being male is 10.0\n",
      "For Character 'q'\n",
      "Total names is :0\n",
      "Total Male names is :0\n",
      "Total Female names is :0\n",
      "The probability of name being male is 0\n",
      "The probability of name being male is 0\n",
      "For Character 'r'\n",
      "Total names is :237\n",
      "Total Male names is :190\n",
      "Total Female names is :47\n",
      "The probability of name being male is 80.16877637130801\n",
      "The probability of name being male is 19.831223628691983\n",
      "For Character 's'\n",
      "Total names is :323\n",
      "Total Male names is :230\n",
      "Total Female names is :93\n",
      "The probability of name being male is 71.20743034055728\n",
      "The probability of name being male is 28.792569659442723\n",
      "For Character 't'\n",
      "Total names is :232\n",
      "Total Male names is :164\n",
      "Total Female names is :68\n",
      "The probability of name being male is 70.6896551724138\n",
      "The probability of name being male is 29.310344827586206\n",
      "For Character 'u'\n",
      "Total names is :18\n",
      "Total Male names is :12\n",
      "Total Female names is :6\n",
      "The probability of name being male is 66.66666666666667\n",
      "The probability of name being male is 33.333333333333336\n",
      "For Character 'v'\n",
      "Total names is :18\n",
      "Total Male names is :16\n",
      "Total Female names is :2\n",
      "The probability of name being male is 88.88888888888889\n",
      "The probability of name being male is 11.11111111111111\n",
      "For Character 'w'\n",
      "Total names is :22\n",
      "Total Male names is :17\n",
      "Total Female names is :5\n",
      "The probability of name being male is 77.27272727272727\n",
      "The probability of name being male is 22.727272727272727\n",
      "For Character 'x'\n",
      "Total names is :20\n",
      "Total Male names is :10\n",
      "Total Female names is :10\n",
      "The probability of name being male is 50.0\n",
      "The probability of name being male is 50.0\n",
      "For Character 'y'\n",
      "Total names is :793\n",
      "Total Male names is :332\n",
      "Total Female names is :461\n",
      "The probability of name being male is 41.86633039092055\n",
      "The probability of name being male is 58.13366960907945\n",
      "For Character 'z'\n",
      "Total names is :15\n",
      "Total Male names is :11\n",
      "Total Female names is :4\n",
      "The probability of name being male is 73.33333333333333\n",
      "The probability of name being male is 26.666666666666668\n"
     ]
    }
   ],
   "source": [
    "#As per Step 1,the calculation of each character is printed for male and female\n",
    "for z in range(0,26):\n",
    "    \n",
    "    totalnames = (totmal[z] + totfem[z])\n",
    "    if totalnames == 0 : \n",
    "        probmal = 0\n",
    "        probfem = 0                       \n",
    "    else :\n",
    "        probmal = (100*totmal[z]/totalnames)\n",
    "        probfem = (100*totfem[z]/totalnames) \n",
    "    print (\"For Character \" + repr(alpha[z]))\n",
    "    print (\"Total names is :\" + repr(totalnames))\n",
    "    print (\"Total Male names is :\" + repr(totmal[z]) ) \n",
    "    print (\"Total Female names is :\" + repr(totfem[z]) ) \n",
    "    print (\"The probability of name being male is \" + repr(probmal)) \n",
    "    print (\"The probability of name being male is \" + repr(probfem))\n",
    "\n",
    "    "
   ]
  },
  {
   "cell_type": "code",
   "execution_count": 212,
   "metadata": {
    "collapsed": false
   },
   "outputs": [
    {
     "name": "stdout",
     "output_type": "stream",
     "text": [
      "['a']  Male: 2%  Female: 98%\n",
      "['b']  Male: 70%  Female: 30%\n",
      "['c']  Male: 100%  Female: 0%\n",
      "['d']  Male: 85%  Female: 15%\n",
      "['e']  Male: 25%  Female: 75%\n",
      "['f']  Male: 93%  Female: 7%\n",
      "['g']  Male: 76%  Female: 24%\n",
      "['h']  Male: 47%  Female: 53%\n",
      "['i']  Male: 14%  Female: 86%\n",
      "['j']  Male: 75%  Female: 25%\n",
      "['k']  Male: 96%  Female: 4%\n",
      "['l']  Male: 51%  Female: 49%\n",
      "['m']  Male: 84%  Female: 16%\n",
      "['n']  Male: 55%  Female: 45%\n",
      "['o']  Male: 83%  Female: 17%\n",
      "['p']  Male: 90%  Female: 10%\n",
      "['q']  Male: 0%  Female: 0%\n",
      "['r']  Male: 80%  Female: 20%\n",
      "['s']  Male: 71%  Female: 29%\n",
      "['t']  Male: 71%  Female: 29%\n",
      "['u']  Male: 67%  Female: 33%\n",
      "['v']  Male: 89%  Female: 11%\n",
      "['w']  Male: 77%  Female: 23%\n",
      "['x']  Male: 50%  Female: 50%\n",
      "['y']  Male: 42%  Female: 58%\n",
      "['z']  Male: 73%  Female: 27%\n"
     ]
    }
   ],
   "source": [
    "#As per Step 2,the calculated output is printed as single for each character\n",
    "for z in range(0,26):\n",
    "    totalnames = (totmal[z] + totfem[z])\n",
    "    if totalnames == 0 : \n",
    "        probmal = 0\n",
    "        probfem = 0                       \n",
    "    else :\n",
    "        probmal = (100*totmal[z]/totalnames)\n",
    "        probfem = (100*totfem[z]/totalnames)\n",
    "    \n",
    "    print (\"[\" + repr(alpha[z]) + \"]  \" + \"Male: \" + repr(round(probmal)) + \"%  \" + \"Female: \" + repr(round(probfem)) + \"%\")"
   ]
  },
  {
   "cell_type": "code",
   "execution_count": null,
   "metadata": {
    "collapsed": true
   },
   "outputs": [],
   "source": []
  }
 ],
 "metadata": {
  "kernelspec": {
   "display_name": "Python [default]",
   "language": "python",
   "name": "python3"
  },
  "language_info": {
   "codemirror_mode": {
    "name": "ipython",
    "version": 3
   },
   "file_extension": ".py",
   "mimetype": "text/x-python",
   "name": "python",
   "nbconvert_exporter": "python",
   "pygments_lexer": "ipython3",
   "version": "3.5.2"
  }
 },
 "nbformat": 4,
 "nbformat_minor": 1
}
