{
 "cells": [
  {
   "cell_type": "markdown",
   "metadata": {},
   "source": [
    "# Question 6\n",
    "- Under Inaugural Address package\n",
    "- For every president, find out how many unique words they used in speech. \n",
    "- We will just assume that President Bush means one person (technically it is incorrect but we will ignore it)\n"
   ]
  },
  {
   "cell_type": "code",
   "execution_count": 104,
   "metadata": {
    "collapsed": true
   },
   "outputs": [],
   "source": [
    "#Importing nltk\n",
    "import nltk"
   ]
  },
  {
   "cell_type": "code",
   "execution_count": 105,
   "metadata": {
    "collapsed": false
   },
   "outputs": [],
   "source": [
    "#The list of books from Inaugural Package is stored in 'inaugral_file'\n",
    "inaugral_file = nltk.corpus.inaugural.fileids()"
   ]
  },
  {
   "cell_type": "code",
   "execution_count": 106,
   "metadata": {
    "collapsed": false
   },
   "outputs": [],
   "source": [
    "#declaring two list\n",
    "inaugural = []\n",
    "wordcount = []\n",
    "#Procedure to get the prosident name in one list 'inaugural' and their speech (words) in another list 'wordcount'\n",
    "for inaug in inaugral_file:\n",
    "    wordcount.append(len(set(nltk.corpus.inaugural.words(inaug))))\n",
    "    inaugural.append(inaug)"
   ]
  },
  {
   "cell_type": "code",
   "execution_count": 107,
   "metadata": {
    "collapsed": false
   },
   "outputs": [],
   "source": [
    "#triming the president name from the file ids\n",
    "president =[]\n",
    "for trim in inaugural:\n",
    "    president.append(trim[5:-4])"
   ]
  },
  {
   "cell_type": "code",
   "execution_count": 108,
   "metadata": {
    "collapsed": false
   },
   "outputs": [],
   "source": [
    "#Declaring dictionery and list\n",
    "presidentspeech_dict={}\n",
    "president_words=[]\n",
    "#Procedures for grouping the president speech words uniquely assigning to respective president names\n",
    "for pn in president:\n",
    "    for key in inaugral_file:\n",
    "        if pn in key:\n",
    "            pnwords = nltk.corpus.inaugural.words(key)\n",
    "            for word in pnwords:\n",
    "                president_words.append(word)\n",
    "    president_uniquewords=set(president_words)\n",
    "    presidentspeech_dict[pn] = len(president_uniquewords)"
   ]
  },
  {
   "cell_type": "code",
   "execution_count": 109,
   "metadata": {
    "collapsed": false
   },
   "outputs": [
    {
     "name": "stdout",
     "output_type": "stream",
     "text": [
      "{'Adams': 3519, 'Lincoln': 6017, 'Coolidge': 8084, 'Johnson': 8719, 'Buchanan': 5771, 'Carter': 8915, 'Hayes': 6235, 'Harding': 7906, 'Cleveland': 6609, 'Obama': 9754, 'Polk': 5373, 'Kennedy': 8640, 'Clinton': 9649, 'Roosevelt': 8241, 'Truman': 8322, 'Jackson': 3707, 'Nixon': 8864, 'Jefferson': 2468, 'Bush': 9649, 'Taft': 7518, 'Pierce': 5635, 'Harrison': 6609, 'Monroe': 3519, 'Taylor': 5413, 'Washington': 663, 'Garfield': 6389, 'VanBuren': 4063, 'Eisenhower': 8573, 'Reagan': 9195, 'Grant': 6137, 'McKinley': 6882, 'Wilson': 7679, 'Madison': 2788, 'Hoover': 8241}\n"
     ]
    }
   ],
   "source": [
    "#Printing the final answer in dictionery\n",
    "#For every president the unique words they used in speech\n",
    "print(presidentspeech_dict)"
   ]
  },
  {
   "cell_type": "code",
   "execution_count": 110,
   "metadata": {
    "collapsed": false
   },
   "outputs": [
    {
     "name": "stdout",
     "output_type": "stream",
     "text": [
      "34\n"
     ]
    }
   ],
   "source": [
    "#The totall count is \n",
    "print(len(presidentspeech_dict))"
   ]
  }
 ],
 "metadata": {
  "anaconda-cloud": {},
  "kernelspec": {
   "display_name": "Python [default]",
   "language": "python",
   "name": "python3"
  },
  "language_info": {
   "codemirror_mode": {
    "name": "ipython",
    "version": 3
   },
   "file_extension": ".py",
   "mimetype": "text/x-python",
   "name": "python",
   "nbconvert_exporter": "python",
   "pygments_lexer": "ipython3",
   "version": "3.5.2"
  }
 },
 "nbformat": 4,
 "nbformat_minor": 1
}
