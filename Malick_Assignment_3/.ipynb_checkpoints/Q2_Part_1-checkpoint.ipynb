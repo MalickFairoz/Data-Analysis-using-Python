{
 "cells": [
  {
   "cell_type": "markdown",
   "metadata": {},
   "source": [
    "# Python Assignment - 3"
   ]
  },
  {
   "cell_type": "markdown",
   "metadata": {},
   "source": [
    "# Question 2_Part_1   - EMPLOYEE COMPENSATION ANALYSIS"
   ]
  },
  {
   "cell_type": "code",
   "execution_count": 1,
   "metadata": {
    "collapsed": true
   },
   "outputs": [],
   "source": [
    "# Importing the Packages \n",
    "import csv\n",
    "import pandas as pd\n",
    "from pandas import DataFrame"
   ]
  },
  {
   "cell_type": "code",
   "execution_count": 2,
   "metadata": {
    "collapsed": false
   },
   "outputs": [
    {
     "name": "stdout",
     "output_type": "stream",
     "text": [
      "Index(['Year Type', 'Year', 'Organization Group Code', 'Organization Group',\n",
      "       'Department Code', 'Department', 'Union Code', 'Union',\n",
      "       'Job Family Code', 'Job Family', 'Job Code', 'Job',\n",
      "       'Employee Identifier', 'Salaries', 'Overtime', 'Other Salaries',\n",
      "       'Total Salary', 'Retirement', 'Health/Dental', 'Other Benefits',\n",
      "       'Total Benefits', 'Total Compensation'],\n",
      "      dtype='object')\n"
     ]
    }
   ],
   "source": [
    "# To read the CSV file and to find the keys from the CSV file \n",
    "datafile = pd.read_csv('Data/employee_compensation.csv')\n",
    "print(datafile.keys())"
   ]
  },
  {
   "cell_type": "code",
   "execution_count": 3,
   "metadata": {
    "collapsed": false
   },
   "outputs": [],
   "source": [
    "# Filtering the other columns and using only the required columns by storing it in \"datafile_filter\"\n",
    "datafile_filter = datafile[['Organization Group', 'Department', 'Total Compensation' ]]"
   ]
  },
  {
   "cell_type": "code",
   "execution_count": 4,
   "metadata": {
    "collapsed": false
   },
   "outputs": [],
   "source": [
    "# Grouping the columns \"Organization Group, Department\" and taking the mean on column \"Total Compensation\"\n",
    "datafile_mean = pd.DataFrame(datafile_filter.groupby(['Organization Group', 'Department'])['Total Compensation'].mean())"
   ]
  },
  {
   "cell_type": "code",
   "execution_count": 5,
   "metadata": {
    "collapsed": false
   },
   "outputs": [],
   "source": [
    "# To sort the Total compensation from max to min and then grouping again \n",
    "datafile_sorting = datafile_mean['Total Compensation'].groupby(level=0, group_keys=False)"
   ]
  },
  {
   "cell_type": "code",
   "execution_count": 6,
   "metadata": {
    "collapsed": false
   },
   "outputs": [],
   "source": [
    "# converting it to DataFrame\n",
    "datafile_final_output = pd.DataFrame(datafile_sorting.nlargest())"
   ]
  },
  {
   "cell_type": "code",
   "execution_count": 7,
   "metadata": {
    "collapsed": false
   },
   "outputs": [
    {
     "data": {
      "text/html": [
       "<div>\n",
       "<table border=\"1\" class=\"dataframe\">\n",
       "  <thead>\n",
       "    <tr style=\"text-align: right;\">\n",
       "      <th></th>\n",
       "      <th></th>\n",
       "      <th>Total Compensation</th>\n",
       "    </tr>\n",
       "    <tr>\n",
       "      <th>Organization Group</th>\n",
       "      <th>Department</th>\n",
       "      <th></th>\n",
       "    </tr>\n",
       "  </thead>\n",
       "  <tbody>\n",
       "    <tr>\n",
       "      <th>Community Health</th>\n",
       "      <th>Public Health</th>\n",
       "      <td>96190.190140</td>\n",
       "    </tr>\n",
       "    <tr>\n",
       "      <th rowspan=\"4\" valign=\"top\">Culture &amp; Recreation</th>\n",
       "      <th>Law Library</th>\n",
       "      <td>188424.362222</td>\n",
       "    </tr>\n",
       "    <tr>\n",
       "      <th>Academy of Sciences</th>\n",
       "      <td>107319.727692</td>\n",
       "    </tr>\n",
       "    <tr>\n",
       "      <th>Arts Commission</th>\n",
       "      <td>94339.597388</td>\n",
       "    </tr>\n",
       "    <tr>\n",
       "      <th>War Memorial</th>\n",
       "      <td>76250.068022</td>\n",
       "    </tr>\n",
       "  </tbody>\n",
       "</table>\n",
       "</div>"
      ],
      "text/plain": [
       "                                          Total Compensation\n",
       "Organization Group   Department                             \n",
       "Community Health     Public Health              96190.190140\n",
       "Culture & Recreation Law Library               188424.362222\n",
       "                     Academy of Sciences       107319.727692\n",
       "                     Arts Commission            94339.597388\n",
       "                     War Memorial               76250.068022"
      ]
     },
     "execution_count": 7,
     "metadata": {},
     "output_type": "execute_result"
    }
   ],
   "source": [
    "# Final output in with first 5 records\n",
    "datafile_final_output.head()"
   ]
  },
  {
   "cell_type": "code",
   "execution_count": 8,
   "metadata": {
    "collapsed": false
   },
   "outputs": [],
   "source": [
    "# Writing the output to a CSV file \"Q2P1.csv\"\n",
    "import os\n",
    "if not os.path.exists('Output/Q2/Part1'):\n",
    "        os.makedirs('Output/Q2/Part1')\n",
    "datafile_final_output.to_csv('Output/Q2/Part1/Q2P1.csv')"
   ]
  }
 ],
 "metadata": {
  "kernelspec": {
   "display_name": "Python [default]",
   "language": "python",
   "name": "python3"
  },
  "language_info": {
   "codemirror_mode": {
    "name": "ipython",
    "version": 3
   },
   "file_extension": ".py",
   "mimetype": "text/x-python",
   "name": "python",
   "nbconvert_exporter": "python",
   "pygments_lexer": "ipython3",
   "version": "3.5.2"
  }
 },
 "nbformat": 4,
 "nbformat_minor": 1
}
