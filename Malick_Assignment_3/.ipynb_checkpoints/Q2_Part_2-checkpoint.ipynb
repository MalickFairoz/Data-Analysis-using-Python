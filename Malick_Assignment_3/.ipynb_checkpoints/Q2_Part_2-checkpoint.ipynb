{
 "cells": [
  {
   "cell_type": "markdown",
   "metadata": {},
   "source": [
    "# Python Assignment - 3"
   ]
  },
  {
   "cell_type": "markdown",
   "metadata": {},
   "source": [
    "# Question 2_Part_2   - EMPLOYEE COMPENSATION ANALYSIS"
   ]
  },
  {
   "cell_type": "code",
   "execution_count": 1,
   "metadata": {
    "collapsed": true
   },
   "outputs": [],
   "source": [
    "# Importing the Packages \n",
    "import csv\n",
    "import pandas as pd\n",
    "from pandas import DataFrame"
   ]
  },
  {
   "cell_type": "code",
   "execution_count": 3,
   "metadata": {
    "collapsed": false
   },
   "outputs": [
    {
     "name": "stdout",
     "output_type": "stream",
     "text": [
      "Index(['Year Type', 'Year', 'Organization Group Code', 'Organization Group',\n",
      "       'Department Code', 'Department', 'Union Code', 'Union',\n",
      "       'Job Family Code', 'Job Family', 'Job Code', 'Job',\n",
      "       'Employee Identifier', 'Salaries', 'Overtime', 'Other Salaries',\n",
      "       'Total Salary', 'Retirement', 'Health/Dental', 'Other Benefits',\n",
      "       'Total Benefits', 'Total Compensation'],\n",
      "      dtype='object')\n"
     ]
    }
   ],
   "source": [
    "# To read the CSV file and to find the keys from the CSV file \n",
    "datafilePartB = pd.read_csv('Data/employee_compensation.csv')\n",
    "print(datafilePartB.keys())"
   ]
  },
  {
   "cell_type": "code",
   "execution_count": 4,
   "metadata": {
    "collapsed": true
   },
   "outputs": [],
   "source": [
    "# Filtering the column \"Year Type\" only to Calender\n",
    "datafileParB_calenderyear = datafilePartB.loc[datafilePartB['Year Type'] == 'Calendar']"
   ]
  },
  {
   "cell_type": "code",
   "execution_count": 5,
   "metadata": {
    "collapsed": true
   },
   "outputs": [],
   "source": [
    "# Filtering the other columns and using only the required columns by storing it in \"datafileParB_fillercolumn\"\n",
    "datafileParB_fillercolumn = datafileParB_calenderyear[['Job Family', 'Employee Identifier', 'Salaries', 'Overtime', 'Other Salaries',\n",
    "       'Total Salary', 'Retirement', 'Health/Dental', 'Other Benefits',\n",
    "       'Total Benefits', 'Total Compensation' ]]"
   ]
  },
  {
   "cell_type": "code",
   "execution_count": 6,
   "metadata": {
    "collapsed": true
   },
   "outputs": [],
   "source": [
    "# Grouping the \"Employee Identifier\" and taking the mean value on all salary columns\n",
    "datafileParB_avgmean = datafileParB_fillercolumn.groupby(['Employee Identifier'])['Salaries', 'Overtime', 'Other Salaries',\n",
    "       'Total Salary', 'Retirement', 'Health/Dental', 'Other Benefits',\n",
    "       'Total Benefits', 'Total Compensation'].mean()"
   ]
  },
  {
   "cell_type": "code",
   "execution_count": 7,
   "metadata": {
    "collapsed": true
   },
   "outputs": [],
   "source": [
    "# Filtering the employees who have received overtime salary more than 5% than regular salary\n",
    "datafileParB_overtime = (datafileParB_avgmean.loc[datafileParB_avgmean['Overtime'] \n",
    "                                                  > (5/100)*datafileParB_avgmean['Salaries']]).reset_index()    "
   ]
  },
  {
   "cell_type": "code",
   "execution_count": 8,
   "metadata": {
    "collapsed": true
   },
   "outputs": [],
   "source": [
    "#Filtering the columns 'Job Family', 'Employee Identifier' and removed duplicates\n",
    "datafileParB_fillercolumnfamily = datafileParB_fillercolumn[['Job Family', 'Employee Identifier']].drop_duplicates()"
   ]
  },
  {
   "cell_type": "code",
   "execution_count": 9,
   "metadata": {
    "collapsed": true
   },
   "outputs": [],
   "source": [
    "# Joining the family data with processed salary data\n",
    "datafileParB_join = pd.merge(datafileParB_fillercolumnfamily,datafileParB_overtime, on = 'Employee Identifier' )"
   ]
  },
  {
   "cell_type": "code",
   "execution_count": 10,
   "metadata": {
    "collapsed": true
   },
   "outputs": [],
   "source": [
    "# Grouping the \"Job Family\" and taking the mean value on 'Total Benefits' and 'Total Compensation'\n",
    "datafileParB_familygroup = datafileParB_join.groupby(['Job Family'])['Total Benefits','Total Compensation'].mean()"
   ]
  },
  {
   "cell_type": "code",
   "execution_count": 11,
   "metadata": {
    "collapsed": true
   },
   "outputs": [],
   "source": [
    "# Taking the percentage on total benifits to the Total compensation and storing it in the column \"Percent_Total_Benifit\"\n",
    "datafileParB_familygroup['Percent_Total_Benifit'] = (datafileParB_familygroup['Total Benefits']\n",
    "                                                     /datafileParB_familygroup['Total Compensation'])*100     "
   ]
  },
  {
   "cell_type": "code",
   "execution_count": 12,
   "metadata": {
    "collapsed": true
   },
   "outputs": [],
   "source": [
    "# Sorting the percentage value from max to min and stored in datafileParB_finaloutput\n",
    "datafileParB_finaloutput = datafileParB_familygroup.sort_values('Percent_Total_Benifit',ascending=[False])"
   ]
  },
  {
   "cell_type": "code",
   "execution_count": 13,
   "metadata": {
    "collapsed": false
   },
   "outputs": [
    {
     "data": {
      "text/html": [
       "<div>\n",
       "<table border=\"1\" class=\"dataframe\">\n",
       "  <thead>\n",
       "    <tr style=\"text-align: right;\">\n",
       "      <th></th>\n",
       "      <th>Total Benefits</th>\n",
       "      <th>Total Compensation</th>\n",
       "      <th>Percent_Total_Benifit</th>\n",
       "    </tr>\n",
       "    <tr>\n",
       "      <th>Job Family</th>\n",
       "      <th></th>\n",
       "      <th></th>\n",
       "      <th></th>\n",
       "    </tr>\n",
       "  </thead>\n",
       "  <tbody>\n",
       "    <tr>\n",
       "      <th>Public Service Aide</th>\n",
       "      <td>11868.420224</td>\n",
       "      <td>34963.143560</td>\n",
       "      <td>33.945518</td>\n",
       "    </tr>\n",
       "    <tr>\n",
       "      <th>Park &amp; Zoo</th>\n",
       "      <td>19720.193636</td>\n",
       "      <td>58792.004659</td>\n",
       "      <td>33.542305</td>\n",
       "    </tr>\n",
       "    <tr>\n",
       "      <th>Community Development</th>\n",
       "      <td>14466.894167</td>\n",
       "      <td>44232.240833</td>\n",
       "      <td>32.706673</td>\n",
       "    </tr>\n",
       "    <tr>\n",
       "      <th>Revenue</th>\n",
       "      <td>13609.454414</td>\n",
       "      <td>41939.371671</td>\n",
       "      <td>32.450306</td>\n",
       "    </tr>\n",
       "    <tr>\n",
       "      <th>Museum &amp; Cultural Affairs</th>\n",
       "      <td>27037.390000</td>\n",
       "      <td>83926.070000</td>\n",
       "      <td>32.215723</td>\n",
       "    </tr>\n",
       "  </tbody>\n",
       "</table>\n",
       "</div>"
      ],
      "text/plain": [
       "                           Total Benefits  Total Compensation  \\\n",
       "Job Family                                                      \n",
       "Public Service Aide          11868.420224        34963.143560   \n",
       "Park & Zoo                   19720.193636        58792.004659   \n",
       "Community Development        14466.894167        44232.240833   \n",
       "Revenue                      13609.454414        41939.371671   \n",
       "Museum & Cultural Affairs    27037.390000        83926.070000   \n",
       "\n",
       "                           Percent_Total_Benifit  \n",
       "Job Family                                        \n",
       "Public Service Aide                    33.945518  \n",
       "Park & Zoo                             33.542305  \n",
       "Community Development                  32.706673  \n",
       "Revenue                                32.450306  \n",
       "Museum & Cultural Affairs              32.215723  "
      ]
     },
     "execution_count": 13,
     "metadata": {},
     "output_type": "execute_result"
    }
   ],
   "source": [
    "# Final Output is displayed\n",
    "datafileParB_finaloutput.head()"
   ]
  },
  {
   "cell_type": "code",
   "execution_count": 14,
   "metadata": {
    "collapsed": true
   },
   "outputs": [],
   "source": [
    "# Writing the output to a CSV file \"Q2P2.csv\"\n",
    "import os\n",
    "if not os.path.exists('Output/Q2/Part2'):\n",
    "        os.makedirs('Output/Q2/Part2')\n",
    "datafileParB_finaloutput.to_csv('Output/Q2/Part2/Q2P2.csv')"
   ]
  },
  {
   "cell_type": "code",
   "execution_count": null,
   "metadata": {
    "collapsed": true
   },
   "outputs": [],
   "source": []
  }
 ],
 "metadata": {
  "anaconda-cloud": {},
  "kernelspec": {
   "display_name": "Python [default]",
   "language": "python",
   "name": "python3"
  },
  "language_info": {
   "codemirror_mode": {
    "name": "ipython",
    "version": 3
   },
   "file_extension": ".py",
   "mimetype": "text/x-python",
   "name": "python",
   "nbconvert_exporter": "python",
   "pygments_lexer": "ipython3",
   "version": "3.5.2"
  }
 },
 "nbformat": 4,
 "nbformat_minor": 1
}
