{
 "cells": [
  {
   "cell_type": "markdown",
   "metadata": {},
   "source": [
    "# Python Assignment - 3"
   ]
  },
  {
   "cell_type": "markdown",
   "metadata": {},
   "source": [
    "# Question 3_Part_1   -  Cricket Matches Analysis"
   ]
  },
  {
   "cell_type": "code",
   "execution_count": 1,
   "metadata": {
    "collapsed": true
   },
   "outputs": [],
   "source": [
    "# Importing the Packages \n",
    "import csv\n",
    "import pandas as pd\n",
    "from pandas import DataFrame"
   ]
  },
  {
   "cell_type": "code",
   "execution_count": 2,
   "metadata": {
    "collapsed": false
   },
   "outputs": [
    {
     "name": "stdout",
     "output_type": "stream",
     "text": [
      "Index(['match_details', 'result', 'scores', 'date', 'venue', 'round', 'home',\n",
      "       'away', 'winner', 'win_by_runs', 'win_by_wickets', 'balls_remaining',\n",
      "       'innings1', 'innings1_runs', 'innings1_wickets',\n",
      "       'innings1_overs_batted', 'innings1_overs', 'innings2', 'innings2_runs',\n",
      "       'innings2_wickets', 'innings2_overs_batted', 'innings2_overs',\n",
      "       'D/L_method', 'target'],\n",
      "      dtype='object')\n"
     ]
    }
   ],
   "source": [
    "# To read the CSV file and to find the keys from the CSV file \n",
    "datafile = pd.read_csv('Data/cricket_matches.csv')\n",
    "print(datafile.keys())"
   ]
  },
  {
   "cell_type": "code",
   "execution_count": 3,
   "metadata": {
    "collapsed": false
   },
   "outputs": [],
   "source": [
    "# Taking the host team who have won the game\n",
    "datafile_hostwinner = datafile.loc[datafile['home'] == datafile['winner']]"
   ]
  },
  {
   "cell_type": "code",
   "execution_count": 4,
   "metadata": {
    "collapsed": true
   },
   "outputs": [],
   "source": [
    "# Taking the host team who have won the match in first innings\n",
    "datafile_hostwinner_ING1 = datafile_hostwinner.loc[datafile_hostwinner['home'] == datafile_hostwinner['innings1']]"
   ]
  },
  {
   "cell_type": "code",
   "execution_count": 5,
   "metadata": {
    "collapsed": true
   },
   "outputs": [],
   "source": [
    "# Taking the host team and thier score who have won the match in first innings\n",
    "datafile_hostwinner_ING1 = datafile_hostwinner_ING1[['home','innings1_runs']]"
   ]
  },
  {
   "cell_type": "code",
   "execution_count": 6,
   "metadata": {
    "collapsed": false
   },
   "outputs": [],
   "source": [
    "# Remaing the columns as required \n",
    "datafile_hostwinner_ING1.columns = ['home','score']"
   ]
  },
  {
   "cell_type": "code",
   "execution_count": 7,
   "metadata": {
    "collapsed": true
   },
   "outputs": [],
   "source": [
    "# Taking the host team who have won the match in second innings\n",
    "datafile_hostwinner_ING2 = datafile_hostwinner.loc[datafile_hostwinner['home'] == datafile_hostwinner['innings2']]"
   ]
  },
  {
   "cell_type": "code",
   "execution_count": 8,
   "metadata": {
    "collapsed": false
   },
   "outputs": [],
   "source": [
    "# Taking the host team and thier score who have won the match in second innings\n",
    "datafile_hostwinner_ING2 = datafile_hostwinner_ING2[['home','innings2_runs']]"
   ]
  },
  {
   "cell_type": "code",
   "execution_count": 9,
   "metadata": {
    "collapsed": false
   },
   "outputs": [],
   "source": [
    "# Remaing the columns as required \n",
    "datafile_hostwinner_ING2.columns = ['home','score']"
   ]
  },
  {
   "cell_type": "code",
   "execution_count": 10,
   "metadata": {
    "collapsed": true
   },
   "outputs": [],
   "source": [
    "# Making the output from first and second innings into frame\n",
    "frames = [datafile_hostwinner_ING1,datafile_hostwinner_ING2]"
   ]
  },
  {
   "cell_type": "code",
   "execution_count": 11,
   "metadata": {
    "collapsed": false
   },
   "outputs": [],
   "source": [
    "# Joining both first and second inning score \n",
    "datafile_hostwinner_combine = pd.concat(frames)"
   ]
  },
  {
   "cell_type": "code",
   "execution_count": 12,
   "metadata": {
    "collapsed": false
   },
   "outputs": [],
   "source": [
    "# Goruping the team and getting the average value of score \n",
    "datafile_hostwinner_average = datafile_hostwinner_combine.groupby(['home'])['score'].mean().reset_index()"
   ]
  },
  {
   "cell_type": "code",
   "execution_count": 13,
   "metadata": {
    "collapsed": false
   },
   "outputs": [
    {
     "data": {
      "text/html": [
       "<div>\n",
       "<table border=\"1\" class=\"dataframe\">\n",
       "  <thead>\n",
       "    <tr style=\"text-align: right;\">\n",
       "      <th></th>\n",
       "      <th>home</th>\n",
       "      <th>score</th>\n",
       "    </tr>\n",
       "  </thead>\n",
       "  <tbody>\n",
       "    <tr>\n",
       "      <th>0</th>\n",
       "      <td>Abahani Limited</td>\n",
       "      <td>172.000000</td>\n",
       "    </tr>\n",
       "    <tr>\n",
       "      <th>1</th>\n",
       "      <td>Abbottabad Falcons</td>\n",
       "      <td>139.454545</td>\n",
       "    </tr>\n",
       "    <tr>\n",
       "      <th>2</th>\n",
       "      <td>Abbottabad Region</td>\n",
       "      <td>182.666667</td>\n",
       "    </tr>\n",
       "    <tr>\n",
       "      <th>3</th>\n",
       "      <td>Abbottabad Rhinos</td>\n",
       "      <td>165.000000</td>\n",
       "    </tr>\n",
       "    <tr>\n",
       "      <th>4</th>\n",
       "      <td>Adelaide Strikers</td>\n",
       "      <td>163.111111</td>\n",
       "    </tr>\n",
       "  </tbody>\n",
       "</table>\n",
       "</div>"
      ],
      "text/plain": [
       "                 home       score\n",
       "0     Abahani Limited  172.000000\n",
       "1  Abbottabad Falcons  139.454545\n",
       "2   Abbottabad Region  182.666667\n",
       "3   Abbottabad Rhinos  165.000000\n",
       "4   Adelaide Strikers  163.111111"
      ]
     },
     "execution_count": 13,
     "metadata": {},
     "output_type": "execute_result"
    }
   ],
   "source": [
    "#Print the output with first five records\n",
    "datafile_hostwinner_average.head()"
   ]
  },
  {
   "cell_type": "code",
   "execution_count": 14,
   "metadata": {
    "collapsed": false
   },
   "outputs": [],
   "source": [
    "# Writing the output to a CSV file \"Q3P1.csv\"\n",
    "import os\n",
    "if not os.path.exists('Output/Q3/Part1'):\n",
    "        os.makedirs('Output/Q3/Part1')\n",
    "datafile_hostwinner_average.to_csv('Output/Q3/Part1/Q3P1.csv', index = True)"
   ]
  }
 ],
 "metadata": {
  "anaconda-cloud": {},
  "kernelspec": {
   "display_name": "Python [default]",
   "language": "python",
   "name": "python3"
  },
  "language_info": {
   "codemirror_mode": {
    "name": "ipython",
    "version": 3
   },
   "file_extension": ".py",
   "mimetype": "text/x-python",
   "name": "python",
   "nbconvert_exporter": "python",
   "pygments_lexer": "ipython3",
   "version": "3.5.2"
  }
 },
 "nbformat": 4,
 "nbformat_minor": 1
}
