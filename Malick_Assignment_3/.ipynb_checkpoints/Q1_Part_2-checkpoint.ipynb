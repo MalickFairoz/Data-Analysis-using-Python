{
 "cells": [
  {
   "cell_type": "markdown",
   "metadata": {},
   "source": [
    "# Python Assignment - 3"
   ]
  },
  {
   "cell_type": "markdown",
   "metadata": {},
   "source": [
    "# Question 1_Part_2   - NYC VEHICLE COLLISION ANALYSIS"
   ]
  },
  {
   "cell_type": "code",
   "execution_count": 14,
   "metadata": {
    "collapsed": true
   },
   "outputs": [],
   "source": [
    "# Importing the Packages \n",
    "import csv\n",
    "import pandas as pd\n",
    "from pandas import DataFrame"
   ]
  },
  {
   "cell_type": "code",
   "execution_count": 15,
   "metadata": {
    "collapsed": false
   },
   "outputs": [
    {
     "name": "stdout",
     "output_type": "stream",
     "text": [
      "Index(['UNIQUE KEY', 'DATE', 'TIME', 'BOROUGH', 'ZIP CODE', 'LATITUDE',\n",
      "       'LONGITUDE', 'LOCATION', 'ON STREET NAME', 'CROSS STREET NAME',\n",
      "       'OFF STREET NAME', 'PERSONS INJURED', 'PERSONS KILLED',\n",
      "       'PEDESTRIANS INJURED', 'PEDESTRIANS KILLED', 'CYCLISTS INJURED',\n",
      "       'CYCLISTS KILLED', 'MOTORISTS INJURED', 'MOTORISTS KILLED',\n",
      "       'VEHICLE 1 TYPE', 'VEHICLE 2 TYPE', 'VEHICLE 3 TYPE', 'VEHICLE 4 TYPE',\n",
      "       'VEHICLE 5 TYPE', 'VEHICLE 1 FACTOR', 'VEHICLE 2 FACTOR',\n",
      "       'VEHICLE 3 FACTOR', 'VEHICLE 4 FACTOR', 'VEHICLE 5 FACTOR'],\n",
      "      dtype='object')\n"
     ]
    }
   ],
   "source": [
    "# To read the CSV file and to find the keys from the CSV file \n",
    "datafile = pd.read_csv('Data/vehicle_collisions.csv')\n",
    "print(datafile.keys())"
   ]
  },
  {
   "cell_type": "code",
   "execution_count": 17,
   "metadata": {
    "collapsed": true
   },
   "outputs": [],
   "source": [
    "#Extracting the month and year from the column DATE and stored it in a seperate column of 'datafile' \n",
    "#'MONTH' and 'YEAR' respectively\n",
    "\n",
    "datafile['YEAR'] = pd.DatetimeIndex(datafile['DATE']).year\n",
    "datafile['MONTH'] = pd.DatetimeIndex(datafile['DATE']).month"
   ]
  },
  {
   "cell_type": "code",
   "execution_count": 18,
   "metadata": {
    "collapsed": false
   },
   "outputs": [],
   "source": [
    "# Extracting the data occured in 2015 and later then stored in \"datafile_year\"\n",
    "\n",
    "datafile_year = datafile.loc[datafile['YEAR'] >= 2015]"
   ]
  },
  {
   "cell_type": "code",
   "execution_count": 19,
   "metadata": {
    "collapsed": false
   },
   "outputs": [
    {
     "name": "stdout",
     "output_type": "stream",
     "text": [
      "477732\n"
     ]
    }
   ],
   "source": [
    "# For Column 'VEHICLE 1 TYPE'\n",
    "# Convert the data to string 1 and replacing the NaN as 0 and then changing the datatype as interger \n",
    "datafile_year['VEHICLE 1 TYPE'] = datafile_year['VEHICLE 1 TYPE'].str.replace('.*', '1')\n",
    "datafile_year['VEHICLE 1 TYPE'] = datafile_year['VEHICLE 1 TYPE'].fillna(0)\n",
    "datafile_year['VEHICLE 1 TYPE'] = datafile_year['VEHICLE 1 TYPE'].astype(int)\n",
    "print(datafile_year['VEHICLE 1 TYPE'].count())"
   ]
  },
  {
   "cell_type": "code",
   "execution_count": 20,
   "metadata": {
    "collapsed": false
   },
   "outputs": [
    {
     "name": "stdout",
     "output_type": "stream",
     "text": [
      "477732\n"
     ]
    }
   ],
   "source": [
    "# For Column 'VEHICLE 2 TYPE'\n",
    "# Convert the data to string 1 and replacing the NaN as 0 and then changing the datatype as interger \n",
    "datafile_year['VEHICLE 2 TYPE'] = datafile_year['VEHICLE 2 TYPE'].str.replace('.*', '1')\n",
    "datafile_year['VEHICLE 2 TYPE'] = datafile_year['VEHICLE 2 TYPE'].fillna(0)\n",
    "datafile_year['VEHICLE 2 TYPE'] = datafile_year['VEHICLE 2 TYPE'].astype(int)\n",
    "print(datafile_year['VEHICLE 2 TYPE'].count())"
   ]
  },
  {
   "cell_type": "code",
   "execution_count": 21,
   "metadata": {
    "collapsed": false
   },
   "outputs": [
    {
     "name": "stdout",
     "output_type": "stream",
     "text": [
      "477732\n"
     ]
    }
   ],
   "source": [
    "# For Column 'VEHICLE 3 TYPE'\n",
    "# Convert the data to string 1 and replacing the NaN as 0 and then changing the datatype as interger \n",
    "datafile_year['VEHICLE 3 TYPE'] = datafile_year['VEHICLE 3 TYPE'].str.replace('.*', '1')\n",
    "datafile_year['VEHICLE 3 TYPE'] = datafile_year['VEHICLE 3 TYPE'].fillna(0)\n",
    "datafile_year['VEHICLE 3 TYPE'] = datafile_year['VEHICLE 3 TYPE'].astype(int)\n",
    "print(datafile_year['VEHICLE 3 TYPE'].count())"
   ]
  },
  {
   "cell_type": "code",
   "execution_count": 22,
   "metadata": {
    "collapsed": false
   },
   "outputs": [
    {
     "name": "stdout",
     "output_type": "stream",
     "text": [
      "477732\n"
     ]
    }
   ],
   "source": [
    "# For Column 'VEHICLE 4 TYPE'\n",
    "# Convert the data to string 1 and replacing the NaN as 0 and then changing the datatype as interger \n",
    "datafile_year['VEHICLE 4 TYPE'] = datafile_year['VEHICLE 4 TYPE'].str.replace('.*', '1')\n",
    "datafile_year['VEHICLE 4 TYPE'] = datafile_year['VEHICLE 4 TYPE'].fillna(0)\n",
    "datafile_year['VEHICLE 4 TYPE'] = datafile_year['VEHICLE 4 TYPE'].astype(int)\n",
    "print(datafile_year['VEHICLE 4 TYPE'].count())"
   ]
  },
  {
   "cell_type": "code",
   "execution_count": 23,
   "metadata": {
    "collapsed": false
   },
   "outputs": [
    {
     "name": "stdout",
     "output_type": "stream",
     "text": [
      "477732\n"
     ]
    }
   ],
   "source": [
    "# For Column 'VEHICLE 5 TYPE'\n",
    "# Convert the data to string 1 and replacing the NaN as 0 and then changing the datatype as interger \n",
    "datafile_year['VEHICLE 5 TYPE'] = datafile_year['VEHICLE 5 TYPE'].str.replace('.*', '1')\n",
    "datafile_year['VEHICLE 5 TYPE'] = datafile_year['VEHICLE 5 TYPE'].fillna(0)\n",
    "datafile_year['VEHICLE 5 TYPE'] = datafile_year['VEHICLE 5 TYPE'].astype(int)\n",
    "print(datafile_year['VEHICLE 5 TYPE'].count())"
   ]
  },
  {
   "cell_type": "code",
   "execution_count": 24,
   "metadata": {
    "collapsed": true
   },
   "outputs": [],
   "source": [
    "# Adding all the vehicle type to identify the overall collision scale and stored in column \"COLLISION_INVOLVED_VEHICLE\"\n",
    "datafile_year['COLLISION_INVOLVED_VEHICLE'] = datafile_year['VEHICLE 1 TYPE'] + datafile_year['VEHICLE 2 TYPE'] + datafile_year['VEHICLE 3 TYPE'] + datafile_year['VEHICLE 4 TYPE'] + datafile_year['VEHICLE 5 TYPE']  "
   ]
  },
  {
   "cell_type": "code",
   "execution_count": 25,
   "metadata": {
    "collapsed": true
   },
   "outputs": [],
   "source": [
    "# Grouped by the column \"BOROUGH\" and \"COLLISION_INVOLVED_VEHICLE\" \n",
    "datafile_grouped = datafile_year.groupby(['BOROUGH', 'COLLISION_INVOLVED_VEHICLE']).count().reset_index()"
   ]
  },
  {
   "cell_type": "code",
   "execution_count": 26,
   "metadata": {
    "collapsed": true
   },
   "outputs": [],
   "source": [
    "# Creating a pivot table and filled 0 in place of NaN\n",
    "datafile_pivot = datafile_grouped.pivot(index='BOROUGH',columns='COLLISION_INVOLVED_VEHICLE', values='UNIQUE KEY').fillna(0)"
   ]
  },
  {
   "cell_type": "code",
   "execution_count": 27,
   "metadata": {
    "collapsed": true
   },
   "outputs": [],
   "source": [
    "# Changing the column name as per requirement\n",
    "datafile_pivot.columns = ['ZERO','ONE_VEHICLE_INVOLVED','TWO_VEHICLE_INVOLVED','THREE_VEHICLE_INVOLVED','FOUR_VEHICLE_INVOLVED','FIVE_VEHICLE_INVOLVED']"
   ]
  },
  {
   "cell_type": "code",
   "execution_count": 28,
   "metadata": {
    "collapsed": true
   },
   "outputs": [],
   "source": [
    "# Reseting the index and stored it in \"datafile_final_output\"\n",
    "datafile_final_output = datafile_pivot.reset_index()"
   ]
  },
  {
   "cell_type": "code",
   "execution_count": 29,
   "metadata": {
    "collapsed": true
   },
   "outputs": [],
   "source": [
    "# Adding the \"FOUR_VEHICLE_INVOLVED\" and \"FIVE_VEHICLE_INVOLVED\" to form \"MORE_VEHICLE_INVOLVED\"\n",
    "datafile_final_output['MORE_VEHICLE_INVOLVED'] = datafile_final_output['FOUR_VEHICLE_INVOLVED'] + datafile_final_output['FIVE_VEHICLE_INVOLVED']"
   ]
  },
  {
   "cell_type": "code",
   "execution_count": 30,
   "metadata": {
    "collapsed": true
   },
   "outputs": [],
   "source": [
    "# After adding the last two data column into a new column \"MORE_VEHICLE_INVOLVED\" it can be deleted \n",
    "del datafile_final_output['FOUR_VEHICLE_INVOLVED']\n",
    "del datafile_final_output['FIVE_VEHICLE_INVOLVED']\n",
    "del datafile_final_output['ZERO']"
   ]
  },
  {
   "cell_type": "code",
   "execution_count": 31,
   "metadata": {
    "collapsed": false
   },
   "outputs": [
    {
     "data": {
      "text/html": [
       "<div>\n",
       "<table border=\"1\" class=\"dataframe\">\n",
       "  <thead>\n",
       "    <tr style=\"text-align: right;\">\n",
       "      <th></th>\n",
       "      <th>BOROUGH</th>\n",
       "      <th>ONE_VEHICLE_INVOLVED</th>\n",
       "      <th>TWO_VEHICLE_INVOLVED</th>\n",
       "      <th>THREE_VEHICLE_INVOLVED</th>\n",
       "      <th>MORE_VEHICLE_INVOLVED</th>\n",
       "    </tr>\n",
       "  </thead>\n",
       "  <tbody>\n",
       "    <tr>\n",
       "      <th>0</th>\n",
       "      <td>BRONX</td>\n",
       "      <td>8627</td>\n",
       "      <td>34385</td>\n",
       "      <td>1962</td>\n",
       "      <td>625</td>\n",
       "    </tr>\n",
       "    <tr>\n",
       "      <th>1</th>\n",
       "      <td>BROOKLYN</td>\n",
       "      <td>17375</td>\n",
       "      <td>80207</td>\n",
       "      <td>4980</td>\n",
       "      <td>1612</td>\n",
       "    </tr>\n",
       "    <tr>\n",
       "      <th>2</th>\n",
       "      <td>MANHATTAN</td>\n",
       "      <td>13318</td>\n",
       "      <td>66958</td>\n",
       "      <td>2024</td>\n",
       "      <td>501</td>\n",
       "    </tr>\n",
       "    <tr>\n",
       "      <th>3</th>\n",
       "      <td>QUEENS</td>\n",
       "      <td>12962</td>\n",
       "      <td>70260</td>\n",
       "      <td>4498</td>\n",
       "      <td>1420</td>\n",
       "    </tr>\n",
       "    <tr>\n",
       "      <th>4</th>\n",
       "      <td>STATEN ISLAND</td>\n",
       "      <td>2343</td>\n",
       "      <td>10676</td>\n",
       "      <td>759</td>\n",
       "      <td>165</td>\n",
       "    </tr>\n",
       "  </tbody>\n",
       "</table>\n",
       "</div>"
      ],
      "text/plain": [
       "         BOROUGH  ONE_VEHICLE_INVOLVED  TWO_VEHICLE_INVOLVED  \\\n",
       "0          BRONX                  8627                 34385   \n",
       "1       BROOKLYN                 17375                 80207   \n",
       "2      MANHATTAN                 13318                 66958   \n",
       "3         QUEENS                 12962                 70260   \n",
       "4  STATEN ISLAND                  2343                 10676   \n",
       "\n",
       "   THREE_VEHICLE_INVOLVED  MORE_VEHICLE_INVOLVED  \n",
       "0                    1962                    625  \n",
       "1                    4980                   1612  \n",
       "2                    2024                    501  \n",
       "3                    4498                   1420  \n",
       "4                     759                    165  "
      ]
     },
     "execution_count": 31,
     "metadata": {},
     "output_type": "execute_result"
    }
   ],
   "source": [
    "# Final output is displayed here\n",
    "datafile_final_output"
   ]
  },
  {
   "cell_type": "code",
   "execution_count": 32,
   "metadata": {
    "collapsed": true
   },
   "outputs": [],
   "source": [
    "# Writing the output to a CSV file \"Q1P2.csv\"\n",
    "import os\n",
    "if not os.path.exists('Output/Q1/Part2'):\n",
    "        os.makedirs('Output/Q1/Part2')\n",
    "datafile_final_output.to_csv('Output/Q1/Part2/Q1P2.csv', index=False)"
   ]
  }
 ],
 "metadata": {
  "kernelspec": {
   "display_name": "Python [default]",
   "language": "python",
   "name": "python3"
  },
  "language_info": {
   "codemirror_mode": {
    "name": "ipython",
    "version": 3
   },
   "file_extension": ".py",
   "mimetype": "text/x-python",
   "name": "python",
   "nbconvert_exporter": "python",
   "pygments_lexer": "ipython3",
   "version": "3.5.2"
  }
 },
 "nbformat": 4,
 "nbformat_minor": 1
}
