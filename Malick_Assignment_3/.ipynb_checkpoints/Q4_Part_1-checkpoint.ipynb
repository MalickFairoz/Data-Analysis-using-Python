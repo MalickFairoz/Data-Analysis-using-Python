{
 "cells": [
  {
   "cell_type": "markdown",
   "metadata": {},
   "source": [
    "# Python Assignment - 3"
   ]
  },
  {
   "cell_type": "markdown",
   "metadata": {},
   "source": [
    "# Question 4_Part_1   -  Movie Awards Analysis"
   ]
  },
  {
   "cell_type": "code",
   "execution_count": 131,
   "metadata": {
    "collapsed": true
   },
   "outputs": [],
   "source": [
    "# Importing the Packages \n",
    "import csv\n",
    "import pandas as pd\n",
    "from pandas import DataFrame"
   ]
  },
  {
   "cell_type": "code",
   "execution_count": 132,
   "metadata": {
    "collapsed": false
   },
   "outputs": [
    {
     "name": "stdout",
     "output_type": "stream",
     "text": [
      "Index(['totalSeasons', 'Plot', 'Rated', 'Response', 'Language', 'Title',\n",
      "       'Country', 'Writer', 'Metascore', 'imdbRating', 'Director', 'Released',\n",
      "       'Actors', 'Year', 'Genre', 'Awards', 'Runtime', 'Type', 'Poster',\n",
      "       'imdbVotes', 'imdbID'],\n",
      "      dtype='object')\n"
     ]
    }
   ],
   "source": [
    "# To read the CSV file and to find the keys from the CSV file \n",
    "datafileQ4 = pd.read_csv('Data/movies_awards.csv')\n",
    "print(datafileQ4.keys())"
   ]
  },
  {
   "cell_type": "code",
   "execution_count": 133,
   "metadata": {
    "collapsed": false
   },
   "outputs": [],
   "source": [
    "# Extracting Awards column and droping the NaN values then resetting the index\n",
    "datafile_movie = datafileQ4[['Awards']].dropna().reset_index()"
   ]
  },
  {
   "cell_type": "code",
   "execution_count": 134,
   "metadata": {
    "collapsed": false
   },
   "outputs": [],
   "source": [
    "# Extracting Awards column\n",
    "datafile_movieawards = datafile_movie[['Awards']]"
   ]
  },
  {
   "cell_type": "code",
   "execution_count": 135,
   "metadata": {
    "collapsed": false
   },
   "outputs": [],
   "source": [
    "# created two columns for won and nomination and filling values based on the data from column \"Awards\"\n",
    "datafile_movieawards['Awards_Won_Total']=datafile_movieawards['Awards'].str.extract('(\\d+) win',expand = False).fillna(0).astype(int)\n",
    "datafile_movieawards[\"Awards_Nominated_Total\"]=datafile_movieawards[\"Awards\"].str.extract('(\\d+) nomination',expand = False).fillna(0).astype(int)\n"
   ]
  },
  {
   "cell_type": "code",
   "execution_count": 136,
   "metadata": {
    "collapsed": true
   },
   "outputs": [],
   "source": [
    "# created four columns for nomination categories and filling values based on the data from column \"Awards\"\n",
    "datafile_movieawards[\"Primetime_Awards_Nominated\"]=datafile_movieawards[\"Awards\"].str.extract('Nominated for (\\d+) Primetime',expand = False).fillna(0).astype(int)\n",
    "datafile_movieawards[\"Oscar_Awards_Nominated\"]=datafile_movieawards[\"Awards\"].str.extract('Nominated for (\\d+) Oscar',expand = False).fillna(0).astype(int)\n",
    "datafile_movieawards[\"Golden_Globe_Awards_Nominated\"]=datafile_movieawards[\"Awards\"].str.extract('Nominated for (\\d+) Golden Globe',expand = False).fillna(0).astype(int)\n",
    "datafile_movieawards[\"BAFTA Film_Awards_Nominated\"]=datafile_movieawards[\"Awards\"].str.extract('Nominated for (\\d+) BAFTA Film',expand = False).fillna(0).astype(int)"
   ]
  },
  {
   "cell_type": "code",
   "execution_count": 137,
   "metadata": {
    "collapsed": true
   },
   "outputs": [],
   "source": [
    "# created four columns for won categories and filling values based on the data from column \"Awards\"\n",
    "datafile_movieawards[\"Primetime_Awards_Won\"]=datafile_movieawards[\"Awards\"].str.extract('Won (\\d+) Primetime',expand = False).fillna(0).astype(int)\n",
    "datafile_movieawards[\"Oscar_Awards_Won\"]=datafile_movieawards[\"Awards\"].str.extract('Won (\\d+) Oscar',expand = False).fillna(0).astype(int)\n",
    "datafile_movieawards[\"Golden Globe_Awards_Won\"]=datafile_movieawards[\"Awards\"].str.extract('Won (\\d+) Golden Globe',expand = False).fillna(0).astype(int)\n",
    "datafile_movieawards[\"BAFTA Film_Awards_Won\"]=datafile_movieawards[\"Awards\"].str.extract('Won (\\d+) BAFTA Film',expand = False).fillna(0).astype(int)"
   ]
  },
  {
   "cell_type": "code",
   "execution_count": 138,
   "metadata": {
    "collapsed": false
   },
   "outputs": [],
   "source": [
    "# As per the output the category values should be added to the columns \"Awards_Won\" and \"Awards_Nominated\" \n",
    "#which is the total won and total nomination\n",
    "datafile_movieawards['Awards_Won_Total']=datafile_movieawards['Awards_Won_Total']+datafile_movieawards[\"Primetime_Awards_Won\"]+datafile_movieawards[\"Oscar_Awards_Won\"]+datafile_movieawards[\"Golden Globe_Awards_Won\"]+datafile_movieawards[\"BAFTA Film_Awards_Won\"]\n",
    "datafile_movieawards[\"Awards_Nominated_Total\"]=datafile_movieawards[\"Awards_Nominated_Total\"]+datafile_movieawards[\"Primetime_Awards_Nominated\"]+datafile_movieawards[\"Oscar_Awards_Nominated\"]+datafile_movieawards[\"Golden_Globe_Awards_Nominated\"]+datafile_movieawards[\"BAFTA Film_Awards_Nominated\"]   "
   ]
  },
  {
   "cell_type": "code",
   "execution_count": 139,
   "metadata": {
    "collapsed": false
   },
   "outputs": [
    {
     "data": {
      "text/html": [
       "<div>\n",
       "<table border=\"1\" class=\"dataframe\">\n",
       "  <thead>\n",
       "    <tr style=\"text-align: right;\">\n",
       "      <th></th>\n",
       "      <th>Awards</th>\n",
       "      <th>Awards_Won_Total</th>\n",
       "      <th>Awards_Nominated_Total</th>\n",
       "      <th>Primetime_Awards_Nominated</th>\n",
       "      <th>Oscar_Awards_Nominated</th>\n",
       "      <th>Golden_Globe_Awards_Nominated</th>\n",
       "      <th>BAFTA Film_Awards_Nominated</th>\n",
       "      <th>Primetime_Awards_Won</th>\n",
       "      <th>Oscar_Awards_Won</th>\n",
       "      <th>Golden Globe_Awards_Won</th>\n",
       "      <th>BAFTA Film_Awards_Won</th>\n",
       "    </tr>\n",
       "  </thead>\n",
       "  <tbody>\n",
       "    <tr>\n",
       "      <th>0</th>\n",
       "      <td>1 win &amp; 2 nominations.</td>\n",
       "      <td>1</td>\n",
       "      <td>2</td>\n",
       "      <td>0</td>\n",
       "      <td>0</td>\n",
       "      <td>0</td>\n",
       "      <td>0</td>\n",
       "      <td>0</td>\n",
       "      <td>0</td>\n",
       "      <td>0</td>\n",
       "      <td>0</td>\n",
       "    </tr>\n",
       "    <tr>\n",
       "      <th>1</th>\n",
       "      <td>1 win.</td>\n",
       "      <td>1</td>\n",
       "      <td>0</td>\n",
       "      <td>0</td>\n",
       "      <td>0</td>\n",
       "      <td>0</td>\n",
       "      <td>0</td>\n",
       "      <td>0</td>\n",
       "      <td>0</td>\n",
       "      <td>0</td>\n",
       "      <td>0</td>\n",
       "    </tr>\n",
       "    <tr>\n",
       "      <th>2</th>\n",
       "      <td>1 nomination.</td>\n",
       "      <td>0</td>\n",
       "      <td>1</td>\n",
       "      <td>0</td>\n",
       "      <td>0</td>\n",
       "      <td>0</td>\n",
       "      <td>0</td>\n",
       "      <td>0</td>\n",
       "      <td>0</td>\n",
       "      <td>0</td>\n",
       "      <td>0</td>\n",
       "    </tr>\n",
       "    <tr>\n",
       "      <th>3</th>\n",
       "      <td>3 wins &amp; 2 nominations.</td>\n",
       "      <td>3</td>\n",
       "      <td>2</td>\n",
       "      <td>0</td>\n",
       "      <td>0</td>\n",
       "      <td>0</td>\n",
       "      <td>0</td>\n",
       "      <td>0</td>\n",
       "      <td>0</td>\n",
       "      <td>0</td>\n",
       "      <td>0</td>\n",
       "    </tr>\n",
       "    <tr>\n",
       "      <th>4</th>\n",
       "      <td>1 win &amp; 1 nomination.</td>\n",
       "      <td>1</td>\n",
       "      <td>1</td>\n",
       "      <td>0</td>\n",
       "      <td>0</td>\n",
       "      <td>0</td>\n",
       "      <td>0</td>\n",
       "      <td>0</td>\n",
       "      <td>0</td>\n",
       "      <td>0</td>\n",
       "      <td>0</td>\n",
       "    </tr>\n",
       "  </tbody>\n",
       "</table>\n",
       "</div>"
      ],
      "text/plain": [
       "                    Awards  Awards_Won_Total  Awards_Nominated_Total  \\\n",
       "0   1 win & 2 nominations.                 1                       2   \n",
       "1                   1 win.                 1                       0   \n",
       "2            1 nomination.                 0                       1   \n",
       "3  3 wins & 2 nominations.                 3                       2   \n",
       "4    1 win & 1 nomination.                 1                       1   \n",
       "\n",
       "   Primetime_Awards_Nominated  Oscar_Awards_Nominated  \\\n",
       "0                           0                       0   \n",
       "1                           0                       0   \n",
       "2                           0                       0   \n",
       "3                           0                       0   \n",
       "4                           0                       0   \n",
       "\n",
       "   Golden_Globe_Awards_Nominated  BAFTA Film_Awards_Nominated  \\\n",
       "0                              0                            0   \n",
       "1                              0                            0   \n",
       "2                              0                            0   \n",
       "3                              0                            0   \n",
       "4                              0                            0   \n",
       "\n",
       "   Primetime_Awards_Won  Oscar_Awards_Won  Golden Globe_Awards_Won  \\\n",
       "0                     0                 0                        0   \n",
       "1                     0                 0                        0   \n",
       "2                     0                 0                        0   \n",
       "3                     0                 0                        0   \n",
       "4                     0                 0                        0   \n",
       "\n",
       "   BAFTA Film_Awards_Won  \n",
       "0                      0  \n",
       "1                      0  \n",
       "2                      0  \n",
       "3                      0  \n",
       "4                      0  "
      ]
     },
     "execution_count": 139,
     "metadata": {},
     "output_type": "execute_result"
    }
   ],
   "source": [
    "# The final ouput is displayed with first 5 records\n",
    "datafile_movieawards.head()"
   ]
  },
  {
   "cell_type": "code",
   "execution_count": 140,
   "metadata": {
    "collapsed": false
   },
   "outputs": [],
   "source": [
    "# Writing the output to a CSV file \"Q4P1.csv\"\n",
    "import os\n",
    "if not os.path.exists('Output/Q4/Part1'):\n",
    "        os.makedirs('Output/Q4/Part1')\n",
    "datafile_movieawards.to_csv('Output/Q4/Part1/Q4P1.csv', index = True)"
   ]
  },
  {
   "cell_type": "code",
   "execution_count": null,
   "metadata": {
    "collapsed": true
   },
   "outputs": [],
   "source": []
  }
 ],
 "metadata": {
  "anaconda-cloud": {},
  "kernelspec": {
   "display_name": "Python [default]",
   "language": "python",
   "name": "python3"
  },
  "language_info": {
   "codemirror_mode": {
    "name": "ipython",
    "version": 3
   },
   "file_extension": ".py",
   "mimetype": "text/x-python",
   "name": "python",
   "nbconvert_exporter": "python",
   "pygments_lexer": "ipython3",
   "version": "3.5.2"
  }
 },
 "nbformat": 4,
 "nbformat_minor": 1
}
