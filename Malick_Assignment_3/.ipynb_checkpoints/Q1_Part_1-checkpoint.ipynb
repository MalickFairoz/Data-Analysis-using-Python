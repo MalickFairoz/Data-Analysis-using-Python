{
 "cells": [
  {
   "cell_type": "markdown",
   "metadata": {},
   "source": [
    "# Python Assignment - 3"
   ]
  },
  {
   "cell_type": "markdown",
   "metadata": {},
   "source": [
    "# Question 1_Part_1   - NYC VEHICLE COLLISION ANALYSIS"
   ]
  },
  {
   "cell_type": "code",
   "execution_count": 1,
   "metadata": {
    "collapsed": false
   },
   "outputs": [],
   "source": [
    "# Importing the Packages \n",
    "import csv\n",
    "import pandas as pd\n",
    "from pandas import DataFrame"
   ]
  },
  {
   "cell_type": "code",
   "execution_count": 2,
   "metadata": {
    "collapsed": false
   },
   "outputs": [
    {
     "name": "stdout",
     "output_type": "stream",
     "text": [
      "Index(['UNIQUE KEY', 'DATE', 'TIME', 'BOROUGH', 'ZIP CODE', 'LATITUDE',\n",
      "       'LONGITUDE', 'LOCATION', 'ON STREET NAME', 'CROSS STREET NAME',\n",
      "       'OFF STREET NAME', 'PERSONS INJURED', 'PERSONS KILLED',\n",
      "       'PEDESTRIANS INJURED', 'PEDESTRIANS KILLED', 'CYCLISTS INJURED',\n",
      "       'CYCLISTS KILLED', 'MOTORISTS INJURED', 'MOTORISTS KILLED',\n",
      "       'VEHICLE 1 TYPE', 'VEHICLE 2 TYPE', 'VEHICLE 3 TYPE', 'VEHICLE 4 TYPE',\n",
      "       'VEHICLE 5 TYPE', 'VEHICLE 1 FACTOR', 'VEHICLE 2 FACTOR',\n",
      "       'VEHICLE 3 FACTOR', 'VEHICLE 4 FACTOR', 'VEHICLE 5 FACTOR'],\n",
      "      dtype='object')\n"
     ]
    }
   ],
   "source": [
    "# To read the CSV file and to find the keys from the CSV file \n",
    "datafile = pd.read_csv('Data/vehicle_collisions.csv')\n",
    "print(datafile.keys())"
   ]
  },
  {
   "cell_type": "code",
   "execution_count": 3,
   "metadata": {
    "collapsed": false
   },
   "outputs": [],
   "source": [
    "#Extracting the month and year from the column DATE and stored it in a seperate column of 'datafile' \n",
    "#'MONTH' and 'YEAR' respectively\n",
    "\n",
    "datafile['YEAR'] = pd.DatetimeIndex(datafile['DATE']).year\n",
    "datafile['MONTH'] = pd.DatetimeIndex(datafile['DATE']).month"
   ]
  },
  {
   "cell_type": "code",
   "execution_count": 4,
   "metadata": {
    "collapsed": true
   },
   "outputs": [],
   "source": [
    "# Extracting the data occured only in the year 2016 and stored in \"datafile_NYC\"\n",
    "\n",
    "datafile_NYC = datafile.loc[datafile['YEAR'] == 2016]"
   ]
  },
  {
   "cell_type": "code",
   "execution_count": 5,
   "metadata": {
    "collapsed": false
   },
   "outputs": [],
   "source": [
    "# Grouping and counting the data under the column 'Month' for NYC data\n",
    "\n",
    "datafile_NYC_Month = datafile_NYC.groupby( [\"MONTH\"] ).count()"
   ]
  },
  {
   "cell_type": "code",
   "execution_count": 6,
   "metadata": {
    "collapsed": true
   },
   "outputs": [],
   "source": [
    "# Extracting the data occured only in the year 2016 and stored in \"datafile_MAN\"\n",
    "\n",
    "datafile_MAN = datafile_NYC.loc[datafile['BOROUGH'] == 'MANHATTAN']"
   ]
  },
  {
   "cell_type": "code",
   "execution_count": 7,
   "metadata": {
    "collapsed": false
   },
   "outputs": [],
   "source": [
    "# Grouping and counting the data under the column 'MONTH'\n",
    "\n",
    "datafile_MAN_Month = datafile_MAN.groupby( [\"MONTH\"] ).count()"
   ]
  },
  {
   "cell_type": "code",
   "execution_count": 8,
   "metadata": {
    "collapsed": false
   },
   "outputs": [],
   "source": [
    "# concatinating the collision record from both NYC and Manhattan for calculation using the unique key column\n",
    "datafile_MAN_NYC = pd.concat([datafile_MAN_Month['UNIQUE KEY'], datafile_NYC_Month['UNIQUE KEY']], axis=1)"
   ]
  },
  {
   "cell_type": "code",
   "execution_count": 9,
   "metadata": {
    "collapsed": false
   },
   "outputs": [],
   "source": [
    "# Changing the column names as reqired\n",
    "datafile_MAN_NYC.columns=['MANHATTAN','NYC']"
   ]
  },
  {
   "cell_type": "code",
   "execution_count": 10,
   "metadata": {
    "collapsed": false
   },
   "outputs": [],
   "source": [
    "# Calculating the percentage of the MANHATTAN data to the total NYC data and stored it in a seperate column \"PERCENTAGE\"\n",
    "datafile_MAN_NYC['PERCENTAGE'] = datafile_MAN_NYC['MANHATTAN']/datafile_MAN_NYC['NYC']"
   ]
  },
  {
   "cell_type": "code",
   "execution_count": 11,
   "metadata": {
    "collapsed": false
   },
   "outputs": [],
   "source": [
    "# To provide the output more ligible the month name is added in a data\n",
    "monthdata = pd.DataFrame({'MONTH':['NaN','Jan','Feb','Mar','Apl','May','Jun','Jul','Aug','Sep','Oct','Nov','Dec']})"
   ]
  },
  {
   "cell_type": "code",
   "execution_count": 12,
   "metadata": {
    "collapsed": true
   },
   "outputs": [],
   "source": [
    "Final_Output = pd.concat([monthdata['MONTH'], datafile_MAN_NYC['MANHATTAN'],datafile_MAN_NYC['NYC'],\n",
    "                          datafile_MAN_NYC['PERCENTAGE']], axis=1)"
   ]
  },
  {
   "cell_type": "code",
   "execution_count": 13,
   "metadata": {
    "collapsed": true
   },
   "outputs": [],
   "source": [
    "# Removing the first row of the dataframe \"Final_Output\"\n",
    "if(Final_Output.index[0]==0):\n",
    "    Final_Output = Final_Output.drop(Final_Output.index[[0,0]])"
   ]
  },
  {
   "cell_type": "code",
   "execution_count": 14,
   "metadata": {
    "collapsed": false
   },
   "outputs": [
    {
     "data": {
      "text/html": [
       "<div>\n",
       "<table border=\"1\" class=\"dataframe\">\n",
       "  <thead>\n",
       "    <tr style=\"text-align: right;\">\n",
       "      <th></th>\n",
       "      <th>MONTH</th>\n",
       "      <th>MANHATTAN</th>\n",
       "      <th>NYC</th>\n",
       "      <th>PERCENTAGE</th>\n",
       "    </tr>\n",
       "  </thead>\n",
       "  <tbody>\n",
       "    <tr>\n",
       "      <th>1</th>\n",
       "      <td>Jan</td>\n",
       "      <td>3178.0</td>\n",
       "      <td>18101.0</td>\n",
       "      <td>0.175570</td>\n",
       "    </tr>\n",
       "    <tr>\n",
       "      <th>2</th>\n",
       "      <td>Feb</td>\n",
       "      <td>3195.0</td>\n",
       "      <td>15985.0</td>\n",
       "      <td>0.199875</td>\n",
       "    </tr>\n",
       "    <tr>\n",
       "      <th>3</th>\n",
       "      <td>Mar</td>\n",
       "      <td>3479.0</td>\n",
       "      <td>18471.0</td>\n",
       "      <td>0.188349</td>\n",
       "    </tr>\n",
       "    <tr>\n",
       "      <th>4</th>\n",
       "      <td>Apl</td>\n",
       "      <td>3540.0</td>\n",
       "      <td>18331.0</td>\n",
       "      <td>0.193115</td>\n",
       "    </tr>\n",
       "    <tr>\n",
       "      <th>5</th>\n",
       "      <td>May</td>\n",
       "      <td>3432.0</td>\n",
       "      <td>20052.0</td>\n",
       "      <td>0.171155</td>\n",
       "    </tr>\n",
       "  </tbody>\n",
       "</table>\n",
       "</div>"
      ],
      "text/plain": [
       "  MONTH  MANHATTAN      NYC  PERCENTAGE\n",
       "1   Jan     3178.0  18101.0    0.175570\n",
       "2   Feb     3195.0  15985.0    0.199875\n",
       "3   Mar     3479.0  18471.0    0.188349\n",
       "4   Apl     3540.0  18331.0    0.193115\n",
       "5   May     3432.0  20052.0    0.171155"
      ]
     },
     "execution_count": 14,
     "metadata": {},
     "output_type": "execute_result"
    }
   ],
   "source": [
    "# Displaying the final output\n",
    "Final_Output.head()"
   ]
  },
  {
   "cell_type": "code",
   "execution_count": 15,
   "metadata": {
    "collapsed": false
   },
   "outputs": [],
   "source": [
    "# Writing the output to a CSV file \"Q1P1.csv\"\n",
    "import os\n",
    "if not os.path.exists('Output/Q1/Part1'):\n",
    "        os.makedirs('Output/Q1/Part1')\n",
    "Final_Output.to_csv('Output/Q1/Part1/Q1P1.csv', index=False)"
   ]
  }
 ],
 "metadata": {
  "anaconda-cloud": {},
  "kernelspec": {
   "display_name": "Python [default]",
   "language": "python",
   "name": "python3"
  },
  "language_info": {
   "codemirror_mode": {
    "name": "ipython",
    "version": 3
   },
   "file_extension": ".py",
   "mimetype": "text/x-python",
   "name": "python",
   "nbconvert_exporter": "python",
   "pygments_lexer": "ipython3",
   "version": "3.5.2"
  }
 },
 "nbformat": 4,
 "nbformat_minor": 1
}
