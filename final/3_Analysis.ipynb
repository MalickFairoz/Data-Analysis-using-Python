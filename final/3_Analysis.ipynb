{
 "cells": [
  {
   "cell_type": "markdown",
   "metadata": {},
   "source": [
    "# 3_Analysis  ---  Final Project"
   ]
  },
  {
   "cell_type": "markdown",
   "metadata": {},
   "source": [
    " **Theme - **\n",
    "- To find the rain fall pattern on 5 cities for the last 5 years from 2012 to 2016\n",
    "- *It includes*\n",
    "- To find the longest continuous rain fall starting from rainday 1 on every city\n",
    "- To find the longest continuous day without rain fall staring from rainday 1 on every city\n",
    "- Along with the sequence of the rainfall, its frequencies are also defined to project how offen these season occur within last 5 years\n",
    "- These outputs are transfered to CSV files and graphs are ploted using Seaborn"
   ]
  },
  {
   "cell_type": "code",
   "execution_count": 2,
   "metadata": {
    "collapsed": true
   },
   "outputs": [],
   "source": [
    "# Getting the data from generated CSV file and storing it in dataframe respective to the cities\n",
    "import csv\n",
    "import pandas as pd\n",
    "from pandas import DataFrame\n",
    "df_Boston = pd.read_csv(r'data\\weather_csvfiles\\Boston.csv')\n",
    "df_Duluth = pd.read_csv(r'data\\weather_csvfiles\\Duluth.csv')\n",
    "df_New_York = pd.read_csv(r'data\\weather_csvfiles\\New_York.csv')\n",
    "df_Orlando = pd.read_csv(r'data\\weather_csvfiles\\Orlando.csv')\n",
    "df_San_Francisco = pd.read_csv(r'data\\weather_csvfiles\\San_Francisco.csv')"
   ]
  },
  {
   "cell_type": "code",
   "execution_count": 3,
   "metadata": {
    "collapsed": false
   },
   "outputs": [],
   "source": [
    "# Created a method for calculating the rain days and No_rain days continuous sequence\n",
    "def calrain(cityname):\n",
    "    count_0 = 0\n",
    "    count_1 = 0\n",
    "    global  raindays\n",
    "    raindays = []\n",
    "    global  noraindays\n",
    "    noraindays = []\n",
    "    for x in range(len(cityname)):\n",
    "        if (cityname[x] == 1):\n",
    "            count_1 = count_1 + 1\n",
    "        else:\n",
    "            if (count_1 != 0):          \n",
    "                raindays.append(count_1)\n",
    "                count_1 = 0\n",
    "        if (cityname[x] == 0):\n",
    "            count_0 = count_0 + 1\n",
    "        else:\n",
    "            if (count_0 != 0):          \n",
    "                noraindays.append(count_0)\n",
    "                count_0 = 0"
   ]
  },
  {
   "cell_type": "code",
   "execution_count": 4,
   "metadata": {
    "collapsed": false
   },
   "outputs": [
    {
     "data": {
      "text/html": [
       "<div>\n",
       "<table border=\"1\" class=\"dataframe\">\n",
       "  <thead>\n",
       "    <tr style=\"text-align: right;\">\n",
       "      <th></th>\n",
       "      <th>city</th>\n",
       "      <th>contin_raindays</th>\n",
       "      <th>frequency</th>\n",
       "    </tr>\n",
       "  </thead>\n",
       "  <tbody>\n",
       "    <tr>\n",
       "      <th>7</th>\n",
       "      <td>Boston</td>\n",
       "      <td>8</td>\n",
       "      <td>2</td>\n",
       "    </tr>\n",
       "  </tbody>\n",
       "</table>\n",
       "</div>"
      ],
      "text/plain": [
       "     city  contin_raindays  frequency\n",
       "7  Boston                8          2"
      ]
     },
     "execution_count": 4,
     "metadata": {},
     "output_type": "execute_result"
    }
   ],
   "source": [
    "# Boston city's continuous rain days and its frequency in last 5 years\n",
    "calrain(df_Boston['rain'])\n",
    "df_rain_Boston = pd.DataFrame({'contin_raindays':raindays})\n",
    "df_rain_Boston = df_rain_Boston.groupby('contin_raindays').size().reset_index()\n",
    "df_rain_Boston = df_rain_Boston.rename(columns={0: 'frequency'})\n",
    "df_rain_Boston.insert(0, 'city', 'Boston')\n",
    "df_rain_Boston = df_rain_Boston.sort_values('contin_raindays', ascending = False)\n",
    "df_rain_Boston.head(1)"
   ]
  },
  {
   "cell_type": "code",
   "execution_count": 5,
   "metadata": {
    "collapsed": false
   },
   "outputs": [
    {
     "data": {
      "text/html": [
       "<div>\n",
       "<table border=\"1\" class=\"dataframe\">\n",
       "  <thead>\n",
       "    <tr style=\"text-align: right;\">\n",
       "      <th></th>\n",
       "      <th>city</th>\n",
       "      <th>contin_no_raindays</th>\n",
       "      <th>frequency</th>\n",
       "    </tr>\n",
       "  </thead>\n",
       "  <tbody>\n",
       "    <tr>\n",
       "      <th>13</th>\n",
       "      <td>Boston</td>\n",
       "      <td>15</td>\n",
       "      <td>3</td>\n",
       "    </tr>\n",
       "  </tbody>\n",
       "</table>\n",
       "</div>"
      ],
      "text/plain": [
       "      city  contin_no_raindays  frequency\n",
       "13  Boston                  15          3"
      ]
     },
     "execution_count": 5,
     "metadata": {},
     "output_type": "execute_result"
    }
   ],
   "source": [
    "# Boston city's continuous No_rain days and its frequency in last 5 years\n",
    "calrain(df_Boston['rain'])\n",
    "df_Norain_Boston = pd.DataFrame({'contin_no_raindays':noraindays})\n",
    "df_Norain_Boston = df_Norain_Boston.groupby('contin_no_raindays').size().reset_index()\n",
    "df_Norain_Boston = df_Norain_Boston.rename(columns={0: 'frequency'})\n",
    "df_Norain_Boston.insert(0, 'city', 'Boston')\n",
    "df_Norain_Boston = df_Norain_Boston.sort_values('contin_no_raindays', ascending = False)\n",
    "df_Norain_Boston.head(1)"
   ]
  },
  {
   "cell_type": "code",
   "execution_count": 6,
   "metadata": {
    "collapsed": false
   },
   "outputs": [
    {
     "data": {
      "text/html": [
       "<div>\n",
       "<table border=\"1\" class=\"dataframe\">\n",
       "  <thead>\n",
       "    <tr style=\"text-align: right;\">\n",
       "      <th></th>\n",
       "      <th>city</th>\n",
       "      <th>contin_raindays</th>\n",
       "      <th>frequency</th>\n",
       "    </tr>\n",
       "  </thead>\n",
       "  <tbody>\n",
       "    <tr>\n",
       "      <th>5</th>\n",
       "      <td>Duluth</td>\n",
       "      <td>7</td>\n",
       "      <td>1</td>\n",
       "    </tr>\n",
       "  </tbody>\n",
       "</table>\n",
       "</div>"
      ],
      "text/plain": [
       "     city  contin_raindays  frequency\n",
       "5  Duluth                7          1"
      ]
     },
     "execution_count": 6,
     "metadata": {},
     "output_type": "execute_result"
    }
   ],
   "source": [
    "# Duluth city's continuous rain days and its frequency in last 5 years\n",
    "calrain(df_Duluth['rain'])\n",
    "df_rain_Duluth = pd.DataFrame({'contin_raindays':raindays})\n",
    "df_rain_Duluth = df_rain_Duluth.groupby('contin_raindays').size().reset_index()\n",
    "df_rain_Duluth = df_rain_Duluth.rename(columns={0: 'frequency'})\n",
    "df_rain_Duluth.insert(0, 'city', 'Duluth')\n",
    "df_rain_Duluth = df_rain_Duluth.sort_values('contin_raindays', ascending = False)\n",
    "df_rain_Duluth.head(1)"
   ]
  },
  {
   "cell_type": "code",
   "execution_count": 7,
   "metadata": {
    "collapsed": false
   },
   "outputs": [
    {
     "data": {
      "text/html": [
       "<div>\n",
       "<table border=\"1\" class=\"dataframe\">\n",
       "  <thead>\n",
       "    <tr style=\"text-align: right;\">\n",
       "      <th></th>\n",
       "      <th>city</th>\n",
       "      <th>contin_no_raindays</th>\n",
       "      <th>frequency</th>\n",
       "    </tr>\n",
       "  </thead>\n",
       "  <tbody>\n",
       "    <tr>\n",
       "      <th>27</th>\n",
       "      <td>Duluth</td>\n",
       "      <td>68</td>\n",
       "      <td>1</td>\n",
       "    </tr>\n",
       "  </tbody>\n",
       "</table>\n",
       "</div>"
      ],
      "text/plain": [
       "      city  contin_no_raindays  frequency\n",
       "27  Duluth                  68          1"
      ]
     },
     "execution_count": 7,
     "metadata": {},
     "output_type": "execute_result"
    }
   ],
   "source": [
    "# Duluth city's continuous No_rain days and its frequency in last 5 years\n",
    "calrain(df_Duluth['rain'])\n",
    "df_Norain_Duluth = pd.DataFrame({'contin_no_raindays':noraindays})\n",
    "df_Norain_Duluth = df_Norain_Duluth.groupby('contin_no_raindays').size().reset_index()\n",
    "df_Norain_Duluth = df_Norain_Duluth.rename(columns={0: 'frequency'})\n",
    "df_Norain_Duluth.insert(0, 'city', 'Duluth')\n",
    "df_Norain_Duluth = df_Norain_Duluth.sort_values('contin_no_raindays', ascending = False)\n",
    "df_Norain_Duluth.head(1)"
   ]
  },
  {
   "cell_type": "code",
   "execution_count": 8,
   "metadata": {
    "collapsed": false
   },
   "outputs": [
    {
     "data": {
      "text/html": [
       "<div>\n",
       "<table border=\"1\" class=\"dataframe\">\n",
       "  <thead>\n",
       "    <tr style=\"text-align: right;\">\n",
       "      <th></th>\n",
       "      <th>city</th>\n",
       "      <th>contin_raindays</th>\n",
       "      <th>frequency</th>\n",
       "    </tr>\n",
       "  </thead>\n",
       "  <tbody>\n",
       "    <tr>\n",
       "      <th>7</th>\n",
       "      <td>New_York</td>\n",
       "      <td>10</td>\n",
       "      <td>1</td>\n",
       "    </tr>\n",
       "  </tbody>\n",
       "</table>\n",
       "</div>"
      ],
      "text/plain": [
       "       city  contin_raindays  frequency\n",
       "7  New_York               10          1"
      ]
     },
     "execution_count": 8,
     "metadata": {},
     "output_type": "execute_result"
    }
   ],
   "source": [
    "# New_York city's continuous rain days and its frequency in last 5 years\n",
    "calrain(df_New_York['rain'])\n",
    "df_rain_New_York = pd.DataFrame({'contin_raindays':raindays})\n",
    "df_rain_New_York = df_rain_New_York.groupby('contin_raindays').size().reset_index()\n",
    "df_rain_New_York = df_rain_New_York.rename(columns={0: 'frequency'})\n",
    "df_rain_New_York.insert(0, 'city', 'New_York')\n",
    "df_rain_New_York = df_rain_New_York.sort_values('contin_raindays', ascending = False)\n",
    "df_rain_New_York.head(1)"
   ]
  },
  {
   "cell_type": "code",
   "execution_count": 9,
   "metadata": {
    "collapsed": false
   },
   "outputs": [
    {
     "data": {
      "text/html": [
       "<div>\n",
       "<table border=\"1\" class=\"dataframe\">\n",
       "  <thead>\n",
       "    <tr style=\"text-align: right;\">\n",
       "      <th></th>\n",
       "      <th>city</th>\n",
       "      <th>contin_no_raindays</th>\n",
       "      <th>frequency</th>\n",
       "    </tr>\n",
       "  </thead>\n",
       "  <tbody>\n",
       "    <tr>\n",
       "      <th>14</th>\n",
       "      <td>New_York</td>\n",
       "      <td>18</td>\n",
       "      <td>2</td>\n",
       "    </tr>\n",
       "  </tbody>\n",
       "</table>\n",
       "</div>"
      ],
      "text/plain": [
       "        city  contin_no_raindays  frequency\n",
       "14  New_York                  18          2"
      ]
     },
     "execution_count": 9,
     "metadata": {},
     "output_type": "execute_result"
    }
   ],
   "source": [
    "# New_York city's continuous No_rain days and its frequency in last 5 years\n",
    "calrain(df_New_York['rain'])\n",
    "df_Norain_New_York = pd.DataFrame({'contin_no_raindays':noraindays})\n",
    "df_Norain_New_York = df_Norain_New_York.groupby('contin_no_raindays').size().reset_index()\n",
    "df_Norain_New_York = df_Norain_New_York.rename(columns={0: 'frequency'})\n",
    "df_Norain_New_York.insert(0, 'city', 'New_York')\n",
    "df_Norain_New_York = df_Norain_New_York.sort_values('contin_no_raindays', ascending = False)\n",
    "df_Norain_New_York.head(1)"
   ]
  },
  {
   "cell_type": "code",
   "execution_count": 10,
   "metadata": {
    "collapsed": false
   },
   "outputs": [
    {
     "data": {
      "text/html": [
       "<div>\n",
       "<table border=\"1\" class=\"dataframe\">\n",
       "  <thead>\n",
       "    <tr style=\"text-align: right;\">\n",
       "      <th></th>\n",
       "      <th>city</th>\n",
       "      <th>contin_raindays</th>\n",
       "      <th>frequency</th>\n",
       "    </tr>\n",
       "  </thead>\n",
       "  <tbody>\n",
       "    <tr>\n",
       "      <th>9</th>\n",
       "      <td>Orlando</td>\n",
       "      <td>10</td>\n",
       "      <td>1</td>\n",
       "    </tr>\n",
       "  </tbody>\n",
       "</table>\n",
       "</div>"
      ],
      "text/plain": [
       "      city  contin_raindays  frequency\n",
       "9  Orlando               10          1"
      ]
     },
     "execution_count": 10,
     "metadata": {},
     "output_type": "execute_result"
    }
   ],
   "source": [
    "# Orlando city's continuous rain days and its frequency in last 5 years\n",
    "calrain(df_Orlando['rain'])\n",
    "df_rain_Orlando = pd.DataFrame({'contin_raindays':raindays})\n",
    "df_rain_Orlando = df_rain_Orlando.groupby('contin_raindays').size().reset_index()\n",
    "df_rain_Orlando = df_rain_Orlando.rename(columns={0: 'frequency'})\n",
    "df_rain_Orlando.insert(0, 'city', 'Orlando')\n",
    "df_rain_Orlando = df_rain_Orlando.sort_values('contin_raindays', ascending = False)\n",
    "df_rain_Orlando.head(1)"
   ]
  },
  {
   "cell_type": "code",
   "execution_count": 11,
   "metadata": {
    "collapsed": false
   },
   "outputs": [
    {
     "data": {
      "text/html": [
       "<div>\n",
       "<table border=\"1\" class=\"dataframe\">\n",
       "  <thead>\n",
       "    <tr style=\"text-align: right;\">\n",
       "      <th></th>\n",
       "      <th>city</th>\n",
       "      <th>contin_no_raindays</th>\n",
       "      <th>frequency</th>\n",
       "    </tr>\n",
       "  </thead>\n",
       "  <tbody>\n",
       "    <tr>\n",
       "      <th>16</th>\n",
       "      <td>Orlando</td>\n",
       "      <td>23</td>\n",
       "      <td>1</td>\n",
       "    </tr>\n",
       "  </tbody>\n",
       "</table>\n",
       "</div>"
      ],
      "text/plain": [
       "       city  contin_no_raindays  frequency\n",
       "16  Orlando                  23          1"
      ]
     },
     "execution_count": 11,
     "metadata": {},
     "output_type": "execute_result"
    }
   ],
   "source": [
    "# Orlando city's continuous No_rain days and its frequency in last 5 years\n",
    "calrain(df_Orlando['rain'])\n",
    "df_Norain_Orlando = pd.DataFrame({'contin_no_raindays':noraindays})\n",
    "df_Norain_Orlando = df_Norain_Orlando.groupby('contin_no_raindays').size().reset_index()\n",
    "df_Norain_Orlando = df_Norain_Orlando.rename(columns={0: 'frequency'})\n",
    "df_Norain_Orlando.insert(0, 'city', 'Orlando')\n",
    "df_Norain_Orlando = df_Norain_Orlando.sort_values('contin_no_raindays', ascending = False)\n",
    "df_Norain_Orlando.head(1)"
   ]
  },
  {
   "cell_type": "code",
   "execution_count": 12,
   "metadata": {
    "collapsed": false
   },
   "outputs": [
    {
     "data": {
      "text/html": [
       "<div>\n",
       "<table border=\"1\" class=\"dataframe\">\n",
       "  <thead>\n",
       "    <tr style=\"text-align: right;\">\n",
       "      <th></th>\n",
       "      <th>city</th>\n",
       "      <th>contin_raindays</th>\n",
       "      <th>frequency</th>\n",
       "    </tr>\n",
       "  </thead>\n",
       "  <tbody>\n",
       "    <tr>\n",
       "      <th>8</th>\n",
       "      <td>San_Francisco</td>\n",
       "      <td>11</td>\n",
       "      <td>1</td>\n",
       "    </tr>\n",
       "  </tbody>\n",
       "</table>\n",
       "</div>"
      ],
      "text/plain": [
       "            city  contin_raindays  frequency\n",
       "8  San_Francisco               11          1"
      ]
     },
     "execution_count": 12,
     "metadata": {},
     "output_type": "execute_result"
    }
   ],
   "source": [
    "# San_Francisco city's continuous rain days and its frequency in last 5 years\n",
    "calrain(df_San_Francisco['rain'])\n",
    "df_rain_San_Francisco = pd.DataFrame({'contin_raindays':raindays})\n",
    "df_rain_San_Francisco = df_rain_San_Francisco.groupby('contin_raindays').size().reset_index()\n",
    "df_rain_San_Francisco = df_rain_San_Francisco.rename(columns={0: 'frequency'})\n",
    "df_rain_San_Francisco.insert(0, 'city', 'San_Francisco')\n",
    "df_rain_San_Francisco = df_rain_San_Francisco.sort_values('contin_raindays', ascending = False)\n",
    "df_rain_San_Francisco.head(1)"
   ]
  },
  {
   "cell_type": "code",
   "execution_count": 13,
   "metadata": {
    "collapsed": false
   },
   "outputs": [
    {
     "data": {
      "text/html": [
       "<div>\n",
       "<table border=\"1\" class=\"dataframe\">\n",
       "  <thead>\n",
       "    <tr style=\"text-align: right;\">\n",
       "      <th></th>\n",
       "      <th>city</th>\n",
       "      <th>contin_no_raindays</th>\n",
       "      <th>frequency</th>\n",
       "    </tr>\n",
       "  </thead>\n",
       "  <tbody>\n",
       "    <tr>\n",
       "      <th>37</th>\n",
       "      <td>San_Francisco</td>\n",
       "      <td>62</td>\n",
       "      <td>1</td>\n",
       "    </tr>\n",
       "  </tbody>\n",
       "</table>\n",
       "</div>"
      ],
      "text/plain": [
       "             city  contin_no_raindays  frequency\n",
       "37  San_Francisco                  62          1"
      ]
     },
     "execution_count": 13,
     "metadata": {},
     "output_type": "execute_result"
    }
   ],
   "source": [
    "# San_Francisco city's continuous No_rain days and its frequency in last 5 years\n",
    "calrain(df_San_Francisco['rain'])\n",
    "df_Norain_San_Francisco = pd.DataFrame({'contin_no_raindays':noraindays})\n",
    "df_Norain_San_Francisco = df_Norain_San_Francisco.groupby('contin_no_raindays').size().reset_index()\n",
    "df_Norain_San_Francisco = df_Norain_San_Francisco.rename(columns={0: 'frequency'})\n",
    "df_Norain_San_Francisco.insert(0, 'city', 'San_Francisco')\n",
    "df_Norain_San_Francisco = df_Norain_San_Francisco.sort_values('contin_no_raindays', ascending = False)\n",
    "df_Norain_San_Francisco.head(1)"
   ]
  },
  {
   "cell_type": "code",
   "execution_count": 17,
   "metadata": {
    "collapsed": false
   },
   "outputs": [
    {
     "data": {
      "text/html": [
       "<div>\n",
       "<table border=\"1\" class=\"dataframe\">\n",
       "  <thead>\n",
       "    <tr style=\"text-align: right;\">\n",
       "      <th></th>\n",
       "      <th>city</th>\n",
       "      <th>contin_raindays</th>\n",
       "      <th>frequency</th>\n",
       "    </tr>\n",
       "  </thead>\n",
       "  <tbody>\n",
       "    <tr>\n",
       "      <th>0</th>\n",
       "      <td>Boston</td>\n",
       "      <td>8</td>\n",
       "      <td>2</td>\n",
       "    </tr>\n",
       "    <tr>\n",
       "      <th>1</th>\n",
       "      <td>Boston</td>\n",
       "      <td>7</td>\n",
       "      <td>1</td>\n",
       "    </tr>\n",
       "    <tr>\n",
       "      <th>2</th>\n",
       "      <td>Boston</td>\n",
       "      <td>6</td>\n",
       "      <td>5</td>\n",
       "    </tr>\n",
       "    <tr>\n",
       "      <th>3</th>\n",
       "      <td>Boston</td>\n",
       "      <td>5</td>\n",
       "      <td>8</td>\n",
       "    </tr>\n",
       "    <tr>\n",
       "      <th>4</th>\n",
       "      <td>Boston</td>\n",
       "      <td>4</td>\n",
       "      <td>18</td>\n",
       "    </tr>\n",
       "  </tbody>\n",
       "</table>\n",
       "</div>"
      ],
      "text/plain": [
       "     city  contin_raindays  frequency\n",
       "0  Boston                8          2\n",
       "1  Boston                7          1\n",
       "2  Boston                6          5\n",
       "3  Boston                5          8\n",
       "4  Boston                4         18"
      ]
     },
     "execution_count": 17,
     "metadata": {},
     "output_type": "execute_result"
    }
   ],
   "source": [
    "# Joining all 5 city's dataframe for continuous rain days\n",
    "frames_rain = [df_rain_Boston, df_rain_Duluth, df_rain_New_York, df_rain_Orlando, df_rain_San_Francisco]\n",
    "df_frames = pd.concat(frames_rain).reset_index()\n",
    "df_rain_city = df_frames.drop('index',1)\n",
    "df_rain_city.head()"
   ]
  },
  {
   "cell_type": "code",
   "execution_count": 19,
   "metadata": {
    "collapsed": false
   },
   "outputs": [
    {
     "data": {
      "text/html": [
       "<div>\n",
       "<table border=\"1\" class=\"dataframe\">\n",
       "  <thead>\n",
       "    <tr style=\"text-align: right;\">\n",
       "      <th></th>\n",
       "      <th>city</th>\n",
       "      <th>contin_no_raindays</th>\n",
       "      <th>frequency</th>\n",
       "    </tr>\n",
       "  </thead>\n",
       "  <tbody>\n",
       "    <tr>\n",
       "      <th>0</th>\n",
       "      <td>Boston</td>\n",
       "      <td>15</td>\n",
       "      <td>3</td>\n",
       "    </tr>\n",
       "    <tr>\n",
       "      <th>1</th>\n",
       "      <td>Boston</td>\n",
       "      <td>13</td>\n",
       "      <td>2</td>\n",
       "    </tr>\n",
       "    <tr>\n",
       "      <th>2</th>\n",
       "      <td>Boston</td>\n",
       "      <td>12</td>\n",
       "      <td>3</td>\n",
       "    </tr>\n",
       "    <tr>\n",
       "      <th>3</th>\n",
       "      <td>Boston</td>\n",
       "      <td>11</td>\n",
       "      <td>2</td>\n",
       "    </tr>\n",
       "    <tr>\n",
       "      <th>4</th>\n",
       "      <td>Boston</td>\n",
       "      <td>10</td>\n",
       "      <td>3</td>\n",
       "    </tr>\n",
       "  </tbody>\n",
       "</table>\n",
       "</div>"
      ],
      "text/plain": [
       "     city  contin_no_raindays  frequency\n",
       "0  Boston                  15          3\n",
       "1  Boston                  13          2\n",
       "2  Boston                  12          3\n",
       "3  Boston                  11          2\n",
       "4  Boston                  10          3"
      ]
     },
     "execution_count": 19,
     "metadata": {},
     "output_type": "execute_result"
    }
   ],
   "source": [
    "# Joining all 5 city's dataframe for continuous No_rain days\n",
    "frames_Norain = [df_Norain_Boston, df_Norain_Duluth, df_Norain_New_York, df_Norain_Orlando, df_Norain_San_Francisco]\n",
    "df_frames = pd.concat(frames_Norain).reset_index()\n",
    "df_Norain_city = df_frames.drop('index',1)\n",
    "df_Norain_city.head()"
   ]
  },
  {
   "cell_type": "code",
   "execution_count": 15,
   "metadata": {
    "collapsed": true
   },
   "outputs": [],
   "source": [
    "# writing the continuous rain days data to CSV file\n",
    "import os\n",
    "if not os.path.exists('Output/3_Analysis/RainDays'):\n",
    "        os.makedirs('Output/3_Analysis/RainDays')\n",
    "df_rain_city.to_csv('Output/3_Analysis/RainDays/Contin_RainDays.csv', index=False)"
   ]
  },
  {
   "cell_type": "code",
   "execution_count": 16,
   "metadata": {
    "collapsed": false
   },
   "outputs": [],
   "source": [
    "# writing the continuous Norain days data to CSV file\n",
    "import os\n",
    "if not os.path.exists('Output/3_Analysis/NoRainDays'):\n",
    "        os.makedirs('Output/3_Analysis/NoRainDays')\n",
    "df_Norain_city.to_csv('Output/3_Analysis/NoRainDays/Contin_No_RainDays.csv', index=False)"
   ]
  },
  {
   "cell_type": "code",
   "execution_count": 19,
   "metadata": {
    "collapsed": false
   },
   "outputs": [
    {
     "name": "stderr",
     "output_type": "stream",
     "text": [
      "C:\\Users\\Malick\\Anaconda3\\lib\\site-packages\\seaborn\\categorical.py:2171: UserWarning: The boxplot API has been changed. Attempting to adjust your arguments for the new API (which might not work). Please update your code. See the version 0.6 release notes for more info.\n",
      "  warnings.warn(msg, UserWarning)\n"
     ]
    },
    {
     "data": {
      "image/png": "[encoded data removed]",
      "text/plain": [
       "<matplotlib.figure.Figure at 0xb63ff98>"
      ]
     },
     "metadata": {},
     "output_type": "display_data"
    }
   ],
   "source": [
    "# Ploting the graph to display continuous Rain day's pattern from minimum to maximum days for all 5 cities\n",
    "import pandas as pd\n",
    "import matplotlib.pyplot as plt\n",
    "#%matplotlib inline\n",
    "import seaborn as sns\n",
    "plt.figure(figsize=(10,3))\n",
    "plt.title('Maximum Continuous Rain Days on 5 cities')\n",
    "sns.boxplot(df_rain_city.contin_raindays,groupby=df_rain_city.city)\n",
    "plt.show()"
   ]
  },
  {
   "cell_type": "markdown",
   "metadata": {},
   "source": [
    "**Discription**\n",
    "- From the above graph it is seen that there is a longest continuous rain fall on the city San_Francisco for the period of 11 days during last 5 years. So lets analysis the city San_Francisco"
   ]
  },
  {
   "cell_type": "code",
   "execution_count": 24,
   "metadata": {
    "collapsed": false
   },
   "outputs": [
    {
     "name": "stderr",
     "output_type": "stream",
     "text": [
      "C:\\Users\\Malick\\Anaconda3\\lib\\site-packages\\statsmodels\\nonparametric\\kdetools.py:20: VisibleDeprecationWarning: using a non-integer number instead of an integer will result in an error in the future\n",
      "  y = X[:m/2+1] + np.r_[0,X[m/2+1:],0]*1j\n"
     ]
    },
    {
     "data": {
      "image/png": "[encoded data removed]",
      "text/plain": [
       "<matplotlib.figure.Figure at 0xbfe6978>"
      ]
     },
     "metadata": {},
     "output_type": "display_data"
    }
   ],
   "source": [
    "# To Analysis the city San_Francisco for its pattern of frequency\n",
    "# The graph is plotted to display continuous rain days and it frequency for last 5 years at San_Francisco\n",
    "import pandas as pd\n",
    "import matplotlib.pyplot as plt\n",
    "import seaborn as sns\n",
    "sns.jointplot(x=\"contin_raindays\", y=\"frequency\", data=df_rain_San_Francisco,kind=\"kde\",size=5).fig.suptitle('Frequency of continuous Rain days at San_Francisco')    \n",
    "plt.show()"
   ]
  },
  {
   "cell_type": "markdown",
   "metadata": {},
   "source": [
    "**Discription**\n",
    "- From the above graph it is seen that the frequency of 11 days continuous rain fall has occured only once but less than this period has occured repeatedly."
   ]
  },
  {
   "cell_type": "code",
   "execution_count": 27,
   "metadata": {
    "collapsed": false
   },
   "outputs": [
    {
     "name": "stderr",
     "output_type": "stream",
     "text": [
      "C:\\Users\\Malick\\Anaconda3\\lib\\site-packages\\seaborn\\categorical.py:2171: UserWarning: The boxplot API has been changed. Attempting to adjust your arguments for the new API (which might not work). Please update your code. See the version 0.6 release notes for more info.\n",
      "  warnings.warn(msg, UserWarning)\n"
     ]
    },
    {
     "data": {
      "image/png": "[encoded data removed]",
      "text/plain": [
       "<matplotlib.figure.Figure at 0xbcb3e48>"
      ]
     },
     "metadata": {},
     "output_type": "display_data"
    }
   ],
   "source": [
    "# Ploting the graph to display continuous No_Rain day's pattern from minimum to maximum days for all 5 cities\n",
    "import pandas as pd\n",
    "import matplotlib.pyplot as plt\n",
    "import seaborn as sns\n",
    "plt.figure(figsize=(10,3))\n",
    "plt.title('Maximum Continuous No_Rain Days on 5 cities')\n",
    "sns.boxplot(df_Norain_city.contin_no_raindays,groupby=df_Norain_city.city)\n",
    "plt.show()"
   ]
  },
  {
   "cell_type": "markdown",
   "metadata": {},
   "source": [
    "**Discription**\n",
    "- From the above graph it is seen that there is a longest continuous day without rain fall is on the city Duluth for the period of 68 days during last 5 years. So lets analysis the city Duluth"
   ]
  },
  {
   "cell_type": "code",
   "execution_count": 30,
   "metadata": {
    "collapsed": false
   },
   "outputs": [
    {
     "data": {
      "image/png": "[encoded data removed]",
      "text/plain": [
       "<matplotlib.figure.Figure at 0xbc2fcc0>"
      ]
     },
     "metadata": {},
     "output_type": "display_data"
    }
   ],
   "source": [
    "# To Analysis the city Duluth for its pattern of frequency\n",
    "# The graph is plotted to display continuous rain days and it frequency for last 5 years at Duluth\n",
    "import pandas as pd\n",
    "import matplotlib.pyplot as plt\n",
    "import seaborn as sns\n",
    "sns.jointplot(x=\"contin_no_raindays\", y=\"frequency\", data=df_Norain_Duluth,size=5).fig.suptitle('Frequency of continuous No_Rain days at Duluth') \n",
    "plt.show()"
   ]
  },
  {
   "cell_type": "markdown",
   "metadata": {},
   "source": [
    "**Discription**\n",
    "- From the above graph it is seen that the frequency of 68 days continuous No_rain fall has occured only once also most of the longest period has the occurrence 1 day and near to that only.  "
   ]
  },
  {
   "cell_type": "markdown",
   "metadata": {},
   "source": [
    "# Conclusion\n",
    "- This third Analysis explains the continuity rain fall days and No_rain fall days sequence pattern. Which helps to understand when will rain occur after a particular No_rain days and vise versa. "
   ]
  }
 ],
 "metadata": {
  "anaconda-cloud": {},
  "kernelspec": {
   "display_name": "Python [default]",
   "language": "python",
   "name": "python3"
  },
  "language_info": {
   "codemirror_mode": {
    "name": "ipython",
    "version": 3
   },
   "file_extension": ".py",
   "mimetype": "text/x-python",
   "name": "python",
   "nbconvert_exporter": "python",
   "pygments_lexer": "ipython3",
   "version": "3.5.2"
  }
 },
 "nbformat": 4,
 "nbformat_minor": 1
}
