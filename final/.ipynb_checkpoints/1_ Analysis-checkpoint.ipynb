{
 "cells": [
  {
   "cell_type": "markdown",
   "metadata": {
    "collapsed": true
   },
   "source": [
    "# 1_Analysis  ---  Final Project"
   ]
  },
  {
   "cell_type": "markdown",
   "metadata": {
    "collapsed": true
   },
   "source": [
    " **Theme - **\n",
    "- To find which city has the highest temperature difference day in the last 5 years from 2012 to 2016 and what is it's peak difference. This analysis explains how the temperature changes to its extreme on the same day itslef.\n",
    "- *It includes*\n",
    "- To find the highest recorded temperature on each city \n",
    "- To find the lowest recored temperature on each city\n",
    "- To find which city has high temperature difference and analyze, which particular day faces the highest difference in temperature.\n",
    "- These outputs are transfered to CSV files and graphs are ploted using Seaborn"
   ]
  },
  {
   "cell_type": "code",
   "execution_count": 1,
   "metadata": {
    "collapsed": false
   },
   "outputs": [],
   "source": [
    "# Getting the data from generated CSV file and storing it in dataframe, respective to the cities\n",
    "import csv\n",
    "import pandas as pd\n",
    "from pandas import DataFrame\n",
    "df_Boston = pd.read_csv(r'data\\weather_csvfiles\\Boston.csv')\n",
    "df_Duluth = pd.read_csv(r'data\\weather_csvfiles\\Duluth.csv')\n",
    "df_New_York = pd.read_csv(r'data\\weather_csvfiles\\New_York.csv')\n",
    "df_Orlando = pd.read_csv(r'data\\weather_csvfiles\\Orlando.csv')\n",
    "df_San_Francisco = pd.read_csv(r'data\\weather_csvfiles\\San_Francisco.csv')"
   ]
  },
  {
   "cell_type": "code",
   "execution_count": 2,
   "metadata": {
    "collapsed": false
   },
   "outputs": [
    {
     "data": {
      "text/html": [
       "<div>\n",
       "<table border=\"1\" class=\"dataframe\">\n",
       "  <thead>\n",
       "    <tr style=\"text-align: right;\">\n",
       "      <th></th>\n",
       "      <th>maxtempi</th>\n",
       "      <th>city</th>\n",
       "    </tr>\n",
       "  </thead>\n",
       "  <tbody>\n",
       "    <tr>\n",
       "      <th>0</th>\n",
       "      <td>99</td>\n",
       "      <td>Boston</td>\n",
       "    </tr>\n",
       "  </tbody>\n",
       "</table>\n",
       "</div>"
      ],
      "text/plain": [
       "   maxtempi    city\n",
       "0        99  Boston"
      ]
     },
     "execution_count": 2,
     "metadata": {},
     "output_type": "execute_result"
    }
   ],
   "source": [
    "# Getting the highest recorded temperature for the city Boston\n",
    "df_Boston_maxtemp = DataFrame(df_Boston.sort_values(by=['maxtempi'],ascending = False).reset_index()['maxtempi']).head(1)\n",
    "df_Boston_maxtemp['city'] = 'Boston'\n",
    "df_Boston_maxtemp"
   ]
  },
  {
   "cell_type": "code",
   "execution_count": 3,
   "metadata": {
    "collapsed": false
   },
   "outputs": [
    {
     "data": {
      "text/html": [
       "<div>\n",
       "<table border=\"1\" class=\"dataframe\">\n",
       "  <thead>\n",
       "    <tr style=\"text-align: right;\">\n",
       "      <th></th>\n",
       "      <th>maxtempi</th>\n",
       "      <th>city</th>\n",
       "    </tr>\n",
       "  </thead>\n",
       "  <tbody>\n",
       "    <tr>\n",
       "      <th>0</th>\n",
       "      <td>93.0</td>\n",
       "      <td>Duluth</td>\n",
       "    </tr>\n",
       "  </tbody>\n",
       "</table>\n",
       "</div>"
      ],
      "text/plain": [
       "   maxtempi    city\n",
       "0      93.0  Duluth"
      ]
     },
     "execution_count": 3,
     "metadata": {},
     "output_type": "execute_result"
    }
   ],
   "source": [
    "# Getting the highest recorded temperature for the city Duluth\n",
    "df_Duluth_maxtemp = DataFrame(df_Duluth.sort_values(by=['maxtempi'],ascending = False).reset_index()['maxtempi']).head(1)\n",
    "df_Duluth_maxtemp['city'] = 'Duluth'\n",
    "df_Duluth_maxtemp"
   ]
  },
  {
   "cell_type": "code",
   "execution_count": 4,
   "metadata": {
    "collapsed": false
   },
   "outputs": [
    {
     "data": {
      "text/html": [
       "<div>\n",
       "<table border=\"1\" class=\"dataframe\">\n",
       "  <thead>\n",
       "    <tr style=\"text-align: right;\">\n",
       "      <th></th>\n",
       "      <th>maxtempi</th>\n",
       "      <th>city</th>\n",
       "    </tr>\n",
       "  </thead>\n",
       "  <tbody>\n",
       "    <tr>\n",
       "      <th>0</th>\n",
       "      <td>100</td>\n",
       "      <td>New_York</td>\n",
       "    </tr>\n",
       "  </tbody>\n",
       "</table>\n",
       "</div>"
      ],
      "text/plain": [
       "   maxtempi      city\n",
       "0       100  New_York"
      ]
     },
     "execution_count": 4,
     "metadata": {},
     "output_type": "execute_result"
    }
   ],
   "source": [
    "# Getting the highest recorded temperature for the city New_York\n",
    "df_New_York_maxtemp = DataFrame(df_New_York.sort_values(by=['maxtempi'],ascending = False).reset_index()['maxtempi']).head(1)\n",
    "df_New_York_maxtemp['city'] = 'New_York'\n",
    "df_New_York_maxtemp"
   ]
  },
  {
   "cell_type": "code",
   "execution_count": 5,
   "metadata": {
    "collapsed": false
   },
   "outputs": [
    {
     "data": {
      "text/html": [
       "<div>\n",
       "<table border=\"1\" class=\"dataframe\">\n",
       "  <thead>\n",
       "    <tr style=\"text-align: right;\">\n",
       "      <th></th>\n",
       "      <th>maxtempi</th>\n",
       "      <th>city</th>\n",
       "    </tr>\n",
       "  </thead>\n",
       "  <tbody>\n",
       "    <tr>\n",
       "      <th>0</th>\n",
       "      <td>98</td>\n",
       "      <td>Orlando</td>\n",
       "    </tr>\n",
       "  </tbody>\n",
       "</table>\n",
       "</div>"
      ],
      "text/plain": [
       "   maxtempi     city\n",
       "0        98  Orlando"
      ]
     },
     "execution_count": 5,
     "metadata": {},
     "output_type": "execute_result"
    }
   ],
   "source": [
    "# Getting the highest recorded temperature for the city Orlando\n",
    "df_Orlando_maxtemp = DataFrame(df_Orlando.sort_values(by=['maxtempi'],ascending = False).reset_index()['maxtempi']).head(1)\n",
    "df_Orlando_maxtemp['city'] = 'Orlando'\n",
    "df_Orlando_maxtemp"
   ]
  },
  {
   "cell_type": "code",
   "execution_count": 6,
   "metadata": {
    "collapsed": false
   },
   "outputs": [
    {
     "data": {
      "text/html": [
       "<div>\n",
       "<table border=\"1\" class=\"dataframe\">\n",
       "  <thead>\n",
       "    <tr style=\"text-align: right;\">\n",
       "      <th></th>\n",
       "      <th>maxtempi</th>\n",
       "      <th>city</th>\n",
       "    </tr>\n",
       "  </thead>\n",
       "  <tbody>\n",
       "    <tr>\n",
       "      <th>0</th>\n",
       "      <td>95</td>\n",
       "      <td>San_Francisco</td>\n",
       "    </tr>\n",
       "  </tbody>\n",
       "</table>\n",
       "</div>"
      ],
      "text/plain": [
       "   maxtempi           city\n",
       "0        95  San_Francisco"
      ]
     },
     "execution_count": 6,
     "metadata": {},
     "output_type": "execute_result"
    }
   ],
   "source": [
    "# Getting the highest recorded temperature for the city San_Francisco\n",
    "df_San_Francisco_maxtemp = DataFrame(df_San_Francisco.sort_values(by=['maxtempi'],ascending = False).reset_index()['maxtempi']).head(1)    \n",
    "df_San_Francisco_maxtemp['city'] = 'San_Francisco'\n",
    "df_San_Francisco_maxtemp"
   ]
  },
  {
   "cell_type": "code",
   "execution_count": 7,
   "metadata": {
    "collapsed": false
   },
   "outputs": [
    {
     "data": {
      "text/html": [
       "<div>\n",
       "<table border=\"1\" class=\"dataframe\">\n",
       "  <thead>\n",
       "    <tr style=\"text-align: right;\">\n",
       "      <th></th>\n",
       "      <th>maxtempi</th>\n",
       "      <th>city</th>\n",
       "    </tr>\n",
       "  </thead>\n",
       "  <tbody>\n",
       "    <tr>\n",
       "      <th>0</th>\n",
       "      <td>99.0</td>\n",
       "      <td>Boston</td>\n",
       "    </tr>\n",
       "    <tr>\n",
       "      <th>1</th>\n",
       "      <td>93.0</td>\n",
       "      <td>Duluth</td>\n",
       "    </tr>\n",
       "    <tr>\n",
       "      <th>2</th>\n",
       "      <td>100.0</td>\n",
       "      <td>New_York</td>\n",
       "    </tr>\n",
       "    <tr>\n",
       "      <th>3</th>\n",
       "      <td>98.0</td>\n",
       "      <td>Orlando</td>\n",
       "    </tr>\n",
       "    <tr>\n",
       "      <th>4</th>\n",
       "      <td>95.0</td>\n",
       "      <td>San_Francisco</td>\n",
       "    </tr>\n",
       "  </tbody>\n",
       "</table>\n",
       "</div>"
      ],
      "text/plain": [
       "   maxtempi           city\n",
       "0      99.0         Boston\n",
       "1      93.0         Duluth\n",
       "2     100.0       New_York\n",
       "3      98.0        Orlando\n",
       "4      95.0  San_Francisco"
      ]
     },
     "execution_count": 7,
     "metadata": {},
     "output_type": "execute_result"
    }
   ],
   "source": [
    "# Joining all the city's high temperature dataframe together as single dataframe\n",
    "frames = [df_Boston_maxtemp, df_Duluth_maxtemp, df_New_York_maxtemp, df_Orlando_maxtemp, df_San_Francisco_maxtemp]\n",
    "df_frames = pd.concat(frames).reset_index()\n",
    "df_maxtemp = df_frames.drop('index',1)\n",
    "df_maxtemp"
   ]
  },
  {
   "cell_type": "code",
   "execution_count": 8,
   "metadata": {
    "collapsed": false
   },
   "outputs": [
    {
     "data": {
      "text/html": [
       "<div>\n",
       "<table border=\"1\" class=\"dataframe\">\n",
       "  <thead>\n",
       "    <tr style=\"text-align: right;\">\n",
       "      <th></th>\n",
       "      <th>mintempi</th>\n",
       "      <th>city</th>\n",
       "    </tr>\n",
       "  </thead>\n",
       "  <tbody>\n",
       "    <tr>\n",
       "      <th>0</th>\n",
       "      <td>-9</td>\n",
       "      <td>Boston</td>\n",
       "    </tr>\n",
       "  </tbody>\n",
       "</table>\n",
       "</div>"
      ],
      "text/plain": [
       "   mintempi    city\n",
       "0        -9  Boston"
      ]
     },
     "execution_count": 8,
     "metadata": {},
     "output_type": "execute_result"
    }
   ],
   "source": [
    "# Getting the lowest recorded temperature for the city Boston\n",
    "df_Boston_mintemp = DataFrame(df_Boston.sort_values(by=['mintempi'],ascending = True).reset_index()['mintempi']).head(1)\n",
    "df_Boston_mintemp['city'] = 'Boston'\n",
    "df_Boston_mintemp"
   ]
  },
  {
   "cell_type": "code",
   "execution_count": 9,
   "metadata": {
    "collapsed": false
   },
   "outputs": [
    {
     "data": {
      "text/html": [
       "<div>\n",
       "<table border=\"1\" class=\"dataframe\">\n",
       "  <thead>\n",
       "    <tr style=\"text-align: right;\">\n",
       "      <th></th>\n",
       "      <th>mintempi</th>\n",
       "      <th>city</th>\n",
       "    </tr>\n",
       "  </thead>\n",
       "  <tbody>\n",
       "    <tr>\n",
       "      <th>0</th>\n",
       "      <td>-27.0</td>\n",
       "      <td>Duluth</td>\n",
       "    </tr>\n",
       "  </tbody>\n",
       "</table>\n",
       "</div>"
      ],
      "text/plain": [
       "   mintempi    city\n",
       "0     -27.0  Duluth"
      ]
     },
     "execution_count": 9,
     "metadata": {},
     "output_type": "execute_result"
    }
   ],
   "source": [
    "# Getting the lowest recorded temperature for the city Duluth\n",
    "df_Duluth_mintemp = DataFrame(df_Duluth.sort_values(by=['mintempi'],ascending = True).reset_index()['mintempi']).head(1)\n",
    "df_Duluth_mintemp['city'] = 'Duluth'\n",
    "df_Duluth_mintemp"
   ]
  },
  {
   "cell_type": "code",
   "execution_count": 10,
   "metadata": {
    "collapsed": false
   },
   "outputs": [
    {
     "data": {
      "text/html": [
       "<div>\n",
       "<table border=\"1\" class=\"dataframe\">\n",
       "  <thead>\n",
       "    <tr style=\"text-align: right;\">\n",
       "      <th></th>\n",
       "      <th>mintempi</th>\n",
       "      <th>city</th>\n",
       "    </tr>\n",
       "  </thead>\n",
       "  <tbody>\n",
       "    <tr>\n",
       "      <th>0</th>\n",
       "      <td>-1</td>\n",
       "      <td>New_York</td>\n",
       "    </tr>\n",
       "  </tbody>\n",
       "</table>\n",
       "</div>"
      ],
      "text/plain": [
       "   mintempi      city\n",
       "0        -1  New_York"
      ]
     },
     "execution_count": 10,
     "metadata": {},
     "output_type": "execute_result"
    }
   ],
   "source": [
    "# Getting the lowest recorded temperature for the city New_York\n",
    "df_New_York_mintemp = DataFrame(df_New_York.sort_values(by=['mintempi'],ascending = True).reset_index()['mintempi']).head(1)\n",
    "df_New_York_mintemp['city'] = 'New_York'\n",
    "df_New_York_mintemp"
   ]
  },
  {
   "cell_type": "code",
   "execution_count": 11,
   "metadata": {
    "collapsed": false
   },
   "outputs": [
    {
     "data": {
      "text/html": [
       "<div>\n",
       "<table border=\"1\" class=\"dataframe\">\n",
       "  <thead>\n",
       "    <tr style=\"text-align: right;\">\n",
       "      <th></th>\n",
       "      <th>mintempi</th>\n",
       "      <th>city</th>\n",
       "    </tr>\n",
       "  </thead>\n",
       "  <tbody>\n",
       "    <tr>\n",
       "      <th>0</th>\n",
       "      <td>0</td>\n",
       "      <td>Orlando</td>\n",
       "    </tr>\n",
       "  </tbody>\n",
       "</table>\n",
       "</div>"
      ],
      "text/plain": [
       "   mintempi     city\n",
       "0         0  Orlando"
      ]
     },
     "execution_count": 11,
     "metadata": {},
     "output_type": "execute_result"
    }
   ],
   "source": [
    "# Getting the lowest recorded temperature for the city Orlando\n",
    "df_Orlando_mintemp = DataFrame(df_Orlando.sort_values(by=['mintempi'],ascending = True).reset_index()['mintempi']).head(1)\n",
    "df_Orlando_mintemp['city'] = 'Orlando'\n",
    "df_Orlando_mintemp"
   ]
  },
  {
   "cell_type": "code",
   "execution_count": 12,
   "metadata": {
    "collapsed": false
   },
   "outputs": [
    {
     "data": {
      "text/html": [
       "<div>\n",
       "<table border=\"1\" class=\"dataframe\">\n",
       "  <thead>\n",
       "    <tr style=\"text-align: right;\">\n",
       "      <th></th>\n",
       "      <th>mintempi</th>\n",
       "      <th>city</th>\n",
       "    </tr>\n",
       "  </thead>\n",
       "  <tbody>\n",
       "    <tr>\n",
       "      <th>0</th>\n",
       "      <td>-25</td>\n",
       "      <td>San_Francisco</td>\n",
       "    </tr>\n",
       "  </tbody>\n",
       "</table>\n",
       "</div>"
      ],
      "text/plain": [
       "   mintempi           city\n",
       "0       -25  San_Francisco"
      ]
     },
     "execution_count": 12,
     "metadata": {},
     "output_type": "execute_result"
    }
   ],
   "source": [
    "# Getting the lowest recorded temperature for the city San_Francisco\n",
    "df_San_Francisco_mintemp = DataFrame(df_San_Francisco.sort_values(by=['mintempi'],ascending = True).reset_index()['mintempi']).head(1)\n",
    "df_San_Francisco_mintemp['city'] = 'San_Francisco'\n",
    "df_San_Francisco_mintemp"
   ]
  },
  {
   "cell_type": "code",
   "execution_count": 13,
   "metadata": {
    "collapsed": false
   },
   "outputs": [
    {
     "data": {
      "text/html": [
       "<div>\n",
       "<table border=\"1\" class=\"dataframe\">\n",
       "  <thead>\n",
       "    <tr style=\"text-align: right;\">\n",
       "      <th></th>\n",
       "      <th>mintempi</th>\n",
       "      <th>city</th>\n",
       "    </tr>\n",
       "  </thead>\n",
       "  <tbody>\n",
       "    <tr>\n",
       "      <th>0</th>\n",
       "      <td>-9.0</td>\n",
       "      <td>Boston</td>\n",
       "    </tr>\n",
       "    <tr>\n",
       "      <th>1</th>\n",
       "      <td>-27.0</td>\n",
       "      <td>Duluth</td>\n",
       "    </tr>\n",
       "    <tr>\n",
       "      <th>2</th>\n",
       "      <td>-1.0</td>\n",
       "      <td>New_York</td>\n",
       "    </tr>\n",
       "    <tr>\n",
       "      <th>3</th>\n",
       "      <td>0.0</td>\n",
       "      <td>Orlando</td>\n",
       "    </tr>\n",
       "    <tr>\n",
       "      <th>4</th>\n",
       "      <td>-25.0</td>\n",
       "      <td>San_Francisco</td>\n",
       "    </tr>\n",
       "  </tbody>\n",
       "</table>\n",
       "</div>"
      ],
      "text/plain": [
       "   mintempi           city\n",
       "0      -9.0         Boston\n",
       "1     -27.0         Duluth\n",
       "2      -1.0       New_York\n",
       "3       0.0        Orlando\n",
       "4     -25.0  San_Francisco"
      ]
     },
     "execution_count": 13,
     "metadata": {},
     "output_type": "execute_result"
    }
   ],
   "source": [
    "# Joining all the city's low temperature dataframe together as single dataframe\n",
    "frames2 = [df_Boston_mintemp, df_Duluth_mintemp, df_New_York_mintemp, df_Orlando_mintemp, df_San_Francisco_mintemp]\n",
    "df_frames2 = pd.concat(frames2).reset_index()\n",
    "df_mintemp = df_frames2.drop('index',1)\n",
    "df_mintemp"
   ]
  },
  {
   "cell_type": "code",
   "execution_count": 14,
   "metadata": {
    "collapsed": false
   },
   "outputs": [
    {
     "data": {
      "text/html": [
       "<div>\n",
       "<table border=\"1\" class=\"dataframe\">\n",
       "  <thead>\n",
       "    <tr style=\"text-align: right;\">\n",
       "      <th></th>\n",
       "      <th>city</th>\n",
       "      <th>maxtempi</th>\n",
       "      <th>mintempi</th>\n",
       "    </tr>\n",
       "  </thead>\n",
       "  <tbody>\n",
       "    <tr>\n",
       "      <th>0</th>\n",
       "      <td>Boston</td>\n",
       "      <td>99.0</td>\n",
       "      <td>-9.0</td>\n",
       "    </tr>\n",
       "    <tr>\n",
       "      <th>1</th>\n",
       "      <td>Duluth</td>\n",
       "      <td>93.0</td>\n",
       "      <td>-27.0</td>\n",
       "    </tr>\n",
       "    <tr>\n",
       "      <th>2</th>\n",
       "      <td>New_York</td>\n",
       "      <td>100.0</td>\n",
       "      <td>-1.0</td>\n",
       "    </tr>\n",
       "    <tr>\n",
       "      <th>3</th>\n",
       "      <td>Orlando</td>\n",
       "      <td>98.0</td>\n",
       "      <td>0.0</td>\n",
       "    </tr>\n",
       "    <tr>\n",
       "      <th>4</th>\n",
       "      <td>San_Francisco</td>\n",
       "      <td>95.0</td>\n",
       "      <td>-25.0</td>\n",
       "    </tr>\n",
       "  </tbody>\n",
       "</table>\n",
       "</div>"
      ],
      "text/plain": [
       "            city  maxtempi  mintempi\n",
       "0         Boston      99.0      -9.0\n",
       "1         Duluth      93.0     -27.0\n",
       "2       New_York     100.0      -1.0\n",
       "3        Orlando      98.0       0.0\n",
       "4  San_Francisco      95.0     -25.0"
      ]
     },
     "execution_count": 14,
     "metadata": {},
     "output_type": "execute_result"
    }
   ],
   "source": [
    "# Merging the high and low temperature together \n",
    "df_minmax_temp = pd.merge(df_maxtemp, df_mintemp, on='city')[['city','maxtempi','mintempi']]\n",
    "df_minmax_temp"
   ]
  },
  {
   "cell_type": "code",
   "execution_count": 15,
   "metadata": {
    "collapsed": true
   },
   "outputs": [],
   "source": [
    "# writing the maximum and minimum temperature data for each city to CSV file \n",
    "import os\n",
    "if not os.path.exists('Output/1_Analysis/City_Temperature'):\n",
    "        os.makedirs('Output/1_Analysis/City_Temperature')\n",
    "df_minmax_temp.to_csv('Output/1_Analysis/City_Temperature/City_Temperature.csv', index=False)"
   ]
  },
  {
   "cell_type": "code",
   "execution_count": 19,
   "metadata": {
    "collapsed": false
   },
   "outputs": [
    {
     "data": {
      "image/png": "[encoded data removed]",
      "text/plain": [
       "<matplotlib.figure.Figure at 0xa629908>"
      ]
     },
     "metadata": {},
     "output_type": "display_data"
    }
   ],
   "source": [
    "#Plotting graph for all cities to display the high and low temperature \n",
    "import matplotlib.pyplot as plt\n",
    "from matplotlib import style\n",
    "style.use('ggplot')\n",
    "plt.figure(figsize=(9,4))\n",
    "plt.xlabel('City')\n",
    "plt.ylabel('Temperature')\n",
    "plt.title('Temperature Projection from 2012 to 2016')\n",
    "plt.plot(df_minmax_temp['maxtempi'],'-p', label = 'High Temp')\n",
    "plt.plot(df_minmax_temp['mintempi'],'-p',label = 'Low Temp')\n",
    "plt.yticks([-50,-40,-20, 0, 20, 40, 60, 80, 100, 140], ['','-40F','-20F', '0-F', '20F', '40F', '60F', '80F', '100F', ''])\n",
    "plt.xticks([0.0,0.5,1.0,1.5,2.0,2.5,3.0,3.5,4.0],['Boston','', 'Duluth', '', 'New_York', '', 'Orlando', '', 'San_Francisco'] )\n",
    "plt.legend()\n",
    "plt.show()"
   ]
  },
  {
   "cell_type": "markdown",
   "metadata": {},
   "source": [
    "**Description**\n",
    "- From the above graph it is clearly seen that there is maximum temperature difference is on the city San_Francisco from California. The next analyzation will be on the city San_Francisco"
   ]
  },
  {
   "cell_type": "code",
   "execution_count": 20,
   "metadata": {
    "collapsed": false
   },
   "outputs": [
    {
     "name": "stderr",
     "output_type": "stream",
     "text": [
      "C:\\Users\\Malick\\Anaconda3\\lib\\site-packages\\ipykernel\\__main__.py:3: SettingWithCopyWarning: \n",
      "A value is trying to be set on a copy of a slice from a DataFrame.\n",
      "Try using .loc[row_indexer,col_indexer] = value instead\n",
      "\n",
      "See the caveats in the documentation: http://pandas.pydata.org/pandas-docs/stable/indexing.html#indexing-view-versus-copy\n",
      "  app.launch_new_instance()\n"
     ]
    },
    {
     "data": {
      "text/html": [
       "<div>\n",
       "<table border=\"1\" class=\"dataframe\">\n",
       "  <thead>\n",
       "    <tr style=\"text-align: right;\">\n",
       "      <th></th>\n",
       "      <th>maxtempi</th>\n",
       "      <th>mintempi</th>\n",
       "      <th>year</th>\n",
       "      <th>mon</th>\n",
       "      <th>temp_diff</th>\n",
       "    </tr>\n",
       "  </thead>\n",
       "  <tbody>\n",
       "    <tr>\n",
       "      <th>0</th>\n",
       "      <td>57</td>\n",
       "      <td>48</td>\n",
       "      <td>2012</td>\n",
       "      <td>4</td>\n",
       "      <td>9</td>\n",
       "    </tr>\n",
       "    <tr>\n",
       "      <th>1</th>\n",
       "      <td>63</td>\n",
       "      <td>45</td>\n",
       "      <td>2012</td>\n",
       "      <td>4</td>\n",
       "      <td>18</td>\n",
       "    </tr>\n",
       "    <tr>\n",
       "      <th>2</th>\n",
       "      <td>64</td>\n",
       "      <td>49</td>\n",
       "      <td>2012</td>\n",
       "      <td>4</td>\n",
       "      <td>15</td>\n",
       "    </tr>\n",
       "    <tr>\n",
       "      <th>3</th>\n",
       "      <td>57</td>\n",
       "      <td>46</td>\n",
       "      <td>2012</td>\n",
       "      <td>4</td>\n",
       "      <td>11</td>\n",
       "    </tr>\n",
       "    <tr>\n",
       "      <th>4</th>\n",
       "      <td>55</td>\n",
       "      <td>44</td>\n",
       "      <td>2012</td>\n",
       "      <td>4</td>\n",
       "      <td>11</td>\n",
       "    </tr>\n",
       "  </tbody>\n",
       "</table>\n",
       "</div>"
      ],
      "text/plain": [
       "   maxtempi  mintempi  year  mon  temp_diff\n",
       "0        57        48  2012    4          9\n",
       "1        63        45  2012    4         18\n",
       "2        64        49  2012    4         15\n",
       "3        57        46  2012    4         11\n",
       "4        55        44  2012    4         11"
      ]
     },
     "execution_count": 20,
     "metadata": {},
     "output_type": "execute_result"
    }
   ],
   "source": [
    "# For the city San_Francisco the temperature difference on each day is taken and added in a new column\n",
    "df_San_Francisco_tempdiff = df_San_Francisco[['maxtempi','mintempi','year','mon']]\n",
    "df_San_Francisco_tempdiff['temp_diff'] = df_San_Francisco.loc[:,('maxtempi')].sub(df_San_Francisco.loc[:,('mintempi')])\n",
    "df_San_Francisco_tempdiff.head()"
   ]
  },
  {
   "cell_type": "code",
   "execution_count": 21,
   "metadata": {
    "collapsed": false
   },
   "outputs": [
    {
     "data": {
      "text/html": [
       "<div>\n",
       "<table border=\"1\" class=\"dataframe\">\n",
       "  <thead>\n",
       "    <tr style=\"text-align: right;\">\n",
       "      <th></th>\n",
       "      <th>year</th>\n",
       "      <th>mon</th>\n",
       "      <th>temp_diff</th>\n",
       "    </tr>\n",
       "  </thead>\n",
       "  <tbody>\n",
       "    <tr>\n",
       "      <th>0</th>\n",
       "      <td>2012</td>\n",
       "      <td>January</td>\n",
       "      <td>26</td>\n",
       "    </tr>\n",
       "    <tr>\n",
       "      <th>1</th>\n",
       "      <td>2012</td>\n",
       "      <td>February</td>\n",
       "      <td>23</td>\n",
       "    </tr>\n",
       "    <tr>\n",
       "      <th>2</th>\n",
       "      <td>2012</td>\n",
       "      <td>March</td>\n",
       "      <td>28</td>\n",
       "    </tr>\n",
       "    <tr>\n",
       "      <th>3</th>\n",
       "      <td>2012</td>\n",
       "      <td>April</td>\n",
       "      <td>24</td>\n",
       "    </tr>\n",
       "    <tr>\n",
       "      <th>4</th>\n",
       "      <td>2012</td>\n",
       "      <td>May</td>\n",
       "      <td>32</td>\n",
       "    </tr>\n",
       "  </tbody>\n",
       "</table>\n",
       "</div>"
      ],
      "text/plain": [
       "   year       mon  temp_diff\n",
       "0  2012   January         26\n",
       "1  2012  February         23\n",
       "2  2012     March         28\n",
       "3  2012     April         24\n",
       "4  2012       May         32"
      ]
     },
     "execution_count": 21,
     "metadata": {},
     "output_type": "execute_result"
    }
   ],
   "source": [
    "# Only required selected for finding the day with maximum temperature difference \n",
    "#Converted the month digit to name\n",
    "import calendar\n",
    "df_San_Francisco_tempdiff_mon = pd.DataFrame(df_San_Francisco_tempdiff.groupby(['year','mon'])['temp_diff'].max()).reset_index()\n",
    "df_San_Francisco_tempdiff_mon['mon'] = df_San_Francisco_tempdiff_mon['mon'].apply(lambda x: calendar.month_name[x])\n",
    "df_San_Francisco_tempdiff_mon.head()"
   ]
  },
  {
   "cell_type": "code",
   "execution_count": 22,
   "metadata": {
    "collapsed": true
   },
   "outputs": [],
   "source": [
    "# writing the maximum and minimum temperature data for each city to CSV file \n",
    "import os\n",
    "if not os.path.exists('Output/1_Analysis/Yearmonth_Temperature'):\n",
    "        os.makedirs('Output/1_Analysis/Yearmonth_Temperature')\n",
    "df_San_Francisco_tempdiff_mon.to_csv('Output/1_Analysis/Yearmonth_Temperature/Yearmonth_Temperature.csv', index=False)"
   ]
  },
  {
   "cell_type": "code",
   "execution_count": 23,
   "metadata": {
    "collapsed": false,
    "scrolled": true
   },
   "outputs": [
    {
     "data": {
      "image/png": "[encoded data removed]",
      "text/plain": [
       "<matplotlib.figure.Figure at 0xb719f28>"
      ]
     },
     "metadata": {},
     "output_type": "display_data"
    }
   ],
   "source": [
    "# Generated a seaborn graph to display the selected day from a month which has the highest temperature difference \n",
    "import numpy as np; np.random.seed(0)\n",
    "import seaborn as sns\n",
    "result = df_San_Francisco_tempdiff_mon.pivot(index='mon', columns='year', values='temp_diff')\n",
    "sns.heatmap(result, annot=True, fmt=\"g\",)\n",
    "plt.show() "
   ]
  },
  {
   "cell_type": "markdown",
   "metadata": {},
   "source": [
    "**Description**\n",
    "- The seaborn heatmap graph represents that there is a day in December 2016 with hugh temperature difference with the maximum of 86'F difference."
   ]
  },
  {
   "cell_type": "markdown",
   "metadata": {},
   "source": [
    "# Conclusion\n",
    "- As a result of this analysis, it is concluded that there an unbelievable temperature difference in a day at December 2016 in the city San_Francisco which is 86'F."
   ]
  }
 ],
 "metadata": {
  "anaconda-cloud": {},
  "kernelspec": {
   "display_name": "Python [default]",
   "language": "python",
   "name": "python3"
  },
  "language_info": {
   "codemirror_mode": {
    "name": "ipython",
    "version": 3
   },
   "file_extension": ".py",
   "mimetype": "text/x-python",
   "name": "python",
   "nbconvert_exporter": "python",
   "pygments_lexer": "ipython3",
   "version": "3.5.2"
  }
 },
 "nbformat": 4,
 "nbformat_minor": 1
}
