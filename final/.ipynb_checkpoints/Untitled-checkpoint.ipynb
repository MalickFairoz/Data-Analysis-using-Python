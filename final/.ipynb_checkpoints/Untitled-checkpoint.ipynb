{
 "cells": [
  {
   "cell_type": "markdown",
   "metadata": {},
   "source": [
    "# <center>WEATHER ANALYSIS USING PYTHON</center>"
   ]
  },
  {
   "cell_type": "markdown",
   "metadata": {},
   "source": [
    "![\"Q1_A1\"](Output/Pictures/usa3.png)"
   ]
  },
  {
   "cell_type": "markdown",
   "metadata": {},
   "source": [
    "# Introduction\n",
    "- This read me file is presented for the final project of the course **Data Analysis using Python**\n",
    "- This project is for analyzing the weather condition in 5 different cities in the United States for the period of 5 years from 2012 to 2016\n",
    "- This project is classified into 2 parts\n",
    "- The first part is to get an API key from the website \"Weather Underground\" and download the data in JSON file format using request library\n",
    "- The downloaded data will then be stored in an organized folder hierarchy also coverted to CSV file format\n",
    "- The second part will analyze this organized data in three different section\n",
    "- The analyzed output has been represented in graphs and CSV file"
   ]
  },
  {
   "cell_type": "markdown",
   "metadata": {},
   "source": [
    "# First Part\n",
    "# Data Collection and Storage\n",
    "- The API key is fetched by registering in the website \"http://api.wunderground.com/weather/api/d/docs?d=data/history&MR=1\"\n",
    "- The API key is hided using environment variable\n",
    "- A method is created to generate the date so that this can be called for everyday data generation\n",
    "- Two list are created and stored with state names and cites respectively for every city data generation\n",
    "- The data generation using request library is created under a method so that it can be called for every day's data on each city\n",
    "- The data is taken on every hour basis in a day, so the size is large for a single day file. Since we are not going to use the hour details the data is truncated with python code and stored only the required daily summary report\n",
    "- This generated data will be in JSON file format and stored in an organized folder hierarchy so that each day's data will have seperate location path\n",
    "- A method is created for scanning the location path of every JSON file and converting them to a single CSV file for each city\n",
    "- These CSV files are stored in an organized folder hierarchy\n",
    "- The data is taken for the city (Boston, Duluth, New_York, Orlando, San_Francisco)\n",
    "- The data is taken for the period from 1st Jan 2012 to 31th Dec 2016 (5 Years) for each city\n"
   ]
  },
  {
   "cell_type": "markdown",
   "metadata": {},
   "source": [
    "![\"Q1_A1\"](Output/Pictures/storage.png)"
   ]
  },
  {
   "cell_type": "markdown",
   "metadata": {},
   "source": [
    "# Second Part\n",
    "# 1_Analysis\n",
    " \n",
    "\n",
    "- **This first analysis explains how the temperature changes to its extreme on the same day itslef.**\n",
    "- Read all 5 city's CSV file to store them in different dataframe\n",
    "- Getting the maximum temperature in fahrenheit for each city \n",
    "- joining all the city's dataframe together for maximum temperature\n",
    "- Getting the minimum temperature in fahrenheit for each city \n",
    "- joining all the city's dataframe together for minimum temperature\n",
    "- Merging the maximum and minimum temperature dataframe together\n",
    "- When ploting the values in the graph it is visible to see which city has the maximum temperature difference\n",
    "- Stored this data to CSV file\n",
    "- From the graph the city **San_Francisco** has the maximum temperature difference **120'F**\n",
    "- Since the city San_Francisco has the maximum temperature difference, we will be analyzing this city on year and month\n",
    "- A dataframe is created with maximum temperature, minimum temperature, year, month and a new column with the temperature difference (max - min)\n",
    "- Taking the required columns *year, month and temp_diff* and then converting the month digit to month name\n",
    "- Plotted a graph using Seaborn heatmap and founded which particular month has the maximum temperature difference\n",
    "- From the graph it is seen that the month **December in 2016** has the **maximum temperature difference of 86'F** in one day itself\n",
    "- The output data is stored to a CSV file"
   ]
  },
  {
   "cell_type": "markdown",
   "metadata": {},
   "source": [
    "![\"Q1_A1\"](Output/1_Analysis/Pictures/City_Temperature.png)"
   ]
  },
  {
   "cell_type": "markdown",
   "metadata": {},
   "source": [
    "![\"Q1_A1\"](Output/1_Analysis/Pictures/YearMonth_Temperature.png)"
   ]
  },
  {
   "cell_type": "markdown",
   "metadata": {},
   "source": [
    "![\"Q1_A1\"](Output/1_Analysis/Pictures/edited.png)"
   ]
  },
  {
   "cell_type": "markdown",
   "metadata": {},
   "source": [
    "# 2_Analysis\n",
    "- **This second analysis explains in the peak snow fall city what is the maximum dew point temperature to form snow.**\n",
    "- Read all 5 city's CSV file to store them in different dataframe\n",
    "- Getting the highest snow fall days for each city \n",
    "- joining all the city's dataframe together for highest snow fall days\n",
    "- When ploting the values in the graph it is visible to see which city has the highest snow fall days\n",
    "- Stored this data to CSV file\n",
    "- From the graph the city **Duluth** has the highest snow fall days from 2012 to 2016 which is **425 days**\n",
    "- Since the city Duluth is the highest snow fall region, we will be analyzing this city on each year \n",
    "- A dataframe is created with year and snow days column\n",
    "- Plotted a graph using Matplotlib Pie and founded which particular year has the highest snow fall\n",
    "- From the graph it is seen that the year **2013** has the **110 days of snow fall which is 25.9% on 5 years**\n",
    "- The output data is stored to a CSV file\n",
    "- After getting the city and period of highest snow fall days, lets find the maximum dew point temperature to form snow\n",
    "- A dataframe os created with columns year, month and max_dewpoint_temp under the city Duluth in the year 2013\n",
    "- From the graph it is visible that **November month in 2013 has the maximum temperature** which is the dew point temperature to form snow when air with condense together\n",
    "- As the result the 2_Analysis, the graph represent that the maximum dew point temperature for the snow formation on the maximum snow fall days of the city **Duluth is 37'F**.\n",
    "- *Generally the max dew point to form snow is 32'F but in the city Duluth on the highest snow fall year 2013 the maximum dew point is 37'F in the month of November.*"
   ]
  },
  {
   "cell_type": "markdown",
   "metadata": {
    "collapsed": true
   },
   "source": [
    "![\"Q1_A1\"](Output/2_Analysis/Pictures/City_SnowDays.png)"
   ]
  },
  {
   "cell_type": "markdown",
   "metadata": {
    "collapsed": true
   },
   "source": [
    "![\"Q1_A1\"](Output/2_Analysis/Pictures/Year_SnowDays.png)"
   ]
  },
  {
   "cell_type": "markdown",
   "metadata": {
    "collapsed": true
   },
   "source": [
    "![\"Q1_A1\"](Output/2_Analysis/Pictures/Month_SnowDays.png)"
   ]
  },
  {
   "cell_type": "markdown",
   "metadata": {},
   "source": [
    "![\"Q1_A1\"](Output/2_Analysis/Pictures/edited.png)"
   ]
  },
  {
   "cell_type": "markdown",
   "metadata": {},
   "source": [
    "# 3_Analysis\n",
    "- **This third analysis explains the pattern of continuous rainfall and its frequency on 5 cities from 2012 to 2016.**\n",
    "- Read all 5 city's CSV file to store them in different dataframe\n",
    "- A method is created to find the pattern of continuous rainfall days and continuous no_rainfall days and stored them in seperate list, so that it can called for each city with city name in the method argument\n",
    "- Created a dataframe with continous rainfall days and its frequency within 5 years for each city seperately\n",
    "- Joining the all the city and forming a single dataframe for continuous rainfall days\n",
    "- Created a dataframe with continous No_rainfall days and its frequency within 5 years for each city seperately\n",
    "- Joining the all the city and forming a single dataframe for continuous No_rainfall days\n",
    "- Graph is plotted using seaborn boxplot to find which city has the longest continous rainfall days\n",
    "- From the graph it is seen that the city **San_Francisco** has the longest continous rainfall days which is **11 days**\n",
    "- For the city San_Francisco the frequecy of continous rainfall pattern is plotted in the graph \n",
    "- These two graphs explains that there will not be rainfall more than 11 days continuously in San_Francisco\n",
    "- Graph is plotted using seaborn boxplot to find which city has the longest continous No_rainfall days\n",
    "- From the graph it is seen that the city **Duluth** has the longest continous No_rainfall days which is **68 days**\n",
    "- For the city Duluth the frequecy of continous No_rainfall pattern is plotted in the graph \n",
    "- These two graphs explains that the No_rain fall days will be there not more than 68 days in Duluth"
   ]
  },
  {
   "cell_type": "markdown",
   "metadata": {},
   "source": [
    "![\"Q1_A1\"](Output/3_Analysis/Pictures/Continuous_RainCity.png)"
   ]
  },
  {
   "cell_type": "markdown",
   "metadata": {},
   "source": [
    "![\"Q1_A1\"](Output/3_Analysis/Pictures/Continuous_RainFrequency.png)"
   ]
  },
  {
   "cell_type": "markdown",
   "metadata": {},
   "source": [
    "![\"Q1_A1\"](Output/3_Analysis/Pictures/Continuous_RainCity.png)"
   ]
  },
  {
   "cell_type": "markdown",
   "metadata": {},
   "source": [
    "![\"Q1_A1\"](Output/3_Analysis/Pictures/Continuous_NoRainFrequency.png)"
   ]
  },
  {
   "cell_type": "markdown",
   "metadata": {},
   "source": [
    "![\"Q1_A1\"](Output/3_Analysis/Pictures/edited.png)"
   ]
  }
 ],
 "metadata": {
  "anaconda-cloud": {},
  "kernelspec": {
   "display_name": "Python [default]",
   "language": "python",
   "name": "python3"
  },
  "language_info": {
   "codemirror_mode": {
    "name": "ipython",
    "version": 3
   },
   "file_extension": ".py",
   "mimetype": "text/x-python",
   "name": "python",
   "nbconvert_exporter": "python",
   "pygments_lexer": "ipython3",
   "version": "3.5.2"
  }
 },
 "nbformat": 4,
 "nbformat_minor": 1
}
