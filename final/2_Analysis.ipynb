{
 "cells": [
  {
   "cell_type": "markdown",
   "metadata": {},
   "source": [
    "# 2_Analysis --- Final Project"
   ]
  },
  {
   "cell_type": "markdown",
   "metadata": {},
   "source": [
    " **Theme - **\n",
    "- To find which city has the highest snow fall days in the last 5 years from 2012 to 2016.\n",
    "- After finding the city, now to find which year does this highest snow fall occur and its percentage of occurrence.\n",
    "- In that particular period, finding the maximum dew point temperature which converts the air to snow.\n",
    "- Since it is common that when the temperature decreases, the snow forms. But in this analysis we will be finding the highest temperature where snow are intented to form.\n",
    "- These outputs are transfered to CSV files and graphs are ploted using Seaborn"
   ]
  },
  {
   "cell_type": "code",
   "execution_count": 1,
   "metadata": {
    "collapsed": true
   },
   "outputs": [],
   "source": [
    "# Getting the data from generated CSV file and storing it in dataframe, respective to the cities\n",
    "import csv\n",
    "import pandas as pd\n",
    "from pandas import DataFrame\n",
    "df_Boston = pd.read_csv(r'data\\weather_csvfiles\\Boston.csv')\n",
    "df_Duluth = pd.read_csv(r'data\\weather_csvfiles\\Duluth.csv')\n",
    "df_New_York = pd.read_csv(r'data\\weather_csvfiles\\New_York.csv')\n",
    "df_Orlando = pd.read_csv(r'data\\weather_csvfiles\\Orlando.csv')\n",
    "df_San_Francisco = pd.read_csv(r'data\\weather_csvfiles\\San_Francisco.csv')"
   ]
  },
  {
   "cell_type": "code",
   "execution_count": 2,
   "metadata": {
    "collapsed": false
   },
   "outputs": [
    {
     "data": {
      "text/html": [
       "<div>\n",
       "<table border=\"1\" class=\"dataframe\">\n",
       "  <thead>\n",
       "    <tr style=\"text-align: right;\">\n",
       "      <th></th>\n",
       "      <th>city</th>\n",
       "      <th>snow_days</th>\n",
       "    </tr>\n",
       "  </thead>\n",
       "  <tbody>\n",
       "    <tr>\n",
       "      <th>0</th>\n",
       "      <td>Boston</td>\n",
       "      <td>190</td>\n",
       "    </tr>\n",
       "  </tbody>\n",
       "</table>\n",
       "</div>"
      ],
      "text/plain": [
       "     city  snow_days\n",
       "0  Boston        190"
      ]
     },
     "execution_count": 2,
     "metadata": {},
     "output_type": "execute_result"
    }
   ],
   "source": [
    "# Getting the highest snow fall days for the city Boston and converted to dataframe\n",
    "df_Boston_snow = df_Boston.loc[df_Boston['snow'] == 1]\n",
    "df_Boston_snow = pd.DataFrame(df_Boston_snow['snow'])\n",
    "df_Boston_snow['city'] = 'Boston'\n",
    "df_Boston_snow = df_Boston_snow.groupby(['city'])['snow'].count().reset_index()\n",
    "df_Boston_snow = df_Boston_snow.rename(columns={'snow': 'snow_days'})\n",
    "if df_Boston_snow.empty:\n",
    "    df_Bostoncity = pd.DataFrame()\n",
    "    df_Bostoncity = df_Bostoncity.append({'city': 'Boston'}, ignore_index=True)\n",
    "    df_Boston_snow = df_Boston_snow.append(df_Bostoncity).fillna(0)\n",
    "df_Boston_snow"
   ]
  },
  {
   "cell_type": "code",
   "execution_count": 3,
   "metadata": {
    "collapsed": false
   },
   "outputs": [
    {
     "data": {
      "text/html": [
       "<div>\n",
       "<table border=\"1\" class=\"dataframe\">\n",
       "  <thead>\n",
       "    <tr style=\"text-align: right;\">\n",
       "      <th></th>\n",
       "      <th>city</th>\n",
       "      <th>snow_days</th>\n",
       "    </tr>\n",
       "  </thead>\n",
       "  <tbody>\n",
       "    <tr>\n",
       "      <th>0</th>\n",
       "      <td>Duluth</td>\n",
       "      <td>425</td>\n",
       "    </tr>\n",
       "  </tbody>\n",
       "</table>\n",
       "</div>"
      ],
      "text/plain": [
       "     city  snow_days\n",
       "0  Duluth        425"
      ]
     },
     "execution_count": 3,
     "metadata": {},
     "output_type": "execute_result"
    }
   ],
   "source": [
    "# Getting the highest snow fall days for the city Duluth and converted to dataframe\n",
    "df_Duluth_snow = df_Duluth.loc[df_Duluth['snow'] == 1]\n",
    "df_Duluth_snow = pd.DataFrame(df_Duluth_snow['snow'])\n",
    "df_Duluth_snow['city'] = 'Duluth'\n",
    "df_Duluth_snow = df_Duluth_snow.groupby(['city'])['snow'].count().reset_index()\n",
    "df_Duluth_snow = df_Duluth_snow.rename(columns={'snow': 'snow_days'})\n",
    "if df_Duluth_snow.empty:\n",
    "    df_Duluthcity = pd.DataFrame()\n",
    "    df_Duluthcity = df_Duluthcity.append({'city': 'Duluth'}, ignore_index=True)\n",
    "    df_Duluth_snow = df_Duluth_snow.append(df_Duluthcity).fillna(0)\n",
    "df_Duluth_snow"
   ]
  },
  {
   "cell_type": "code",
   "execution_count": 4,
   "metadata": {
    "collapsed": false
   },
   "outputs": [
    {
     "data": {
      "text/html": [
       "<div>\n",
       "<table border=\"1\" class=\"dataframe\">\n",
       "  <thead>\n",
       "    <tr style=\"text-align: right;\">\n",
       "      <th></th>\n",
       "      <th>city</th>\n",
       "      <th>snow_days</th>\n",
       "    </tr>\n",
       "  </thead>\n",
       "  <tbody>\n",
       "    <tr>\n",
       "      <th>0</th>\n",
       "      <td>New_York</td>\n",
       "      <td>104</td>\n",
       "    </tr>\n",
       "  </tbody>\n",
       "</table>\n",
       "</div>"
      ],
      "text/plain": [
       "       city  snow_days\n",
       "0  New_York        104"
      ]
     },
     "execution_count": 4,
     "metadata": {},
     "output_type": "execute_result"
    }
   ],
   "source": [
    "# Getting the highest snow fall days for the city New_York and converted to dataframe\n",
    "df_New_York_snow = df_New_York.loc[df_New_York['snow'] == 1]\n",
    "df_New_York_snow = pd.DataFrame(df_New_York_snow['snow'])\n",
    "df_New_York_snow['city'] = 'New_York'\n",
    "df_New_York_snow = df_New_York_snow.groupby(['city'])['snow'].count().reset_index()\n",
    "df_New_York_snow = df_New_York_snow.rename(columns={'snow': 'snow_days'})\n",
    "if df_New_York_snow.empty:\n",
    "    df_NewYorkcity = pd.DataFrame()\n",
    "    df_NewYorkcity = df_NewYorkcity.append({'city': 'New_York'}, ignore_index=True)\n",
    "    df_New_York_snow = df_New_York_snow.append(df_NewYorkcity).fillna(0)\n",
    "df_New_York_snow"
   ]
  },
  {
   "cell_type": "code",
   "execution_count": 5,
   "metadata": {
    "collapsed": false
   },
   "outputs": [
    {
     "data": {
      "text/html": [
       "<div>\n",
       "<table border=\"1\" class=\"dataframe\">\n",
       "  <thead>\n",
       "    <tr style=\"text-align: right;\">\n",
       "      <th></th>\n",
       "      <th>city</th>\n",
       "      <th>snow_days</th>\n",
       "    </tr>\n",
       "  </thead>\n",
       "  <tbody>\n",
       "    <tr>\n",
       "      <th>0</th>\n",
       "      <td>Orlando</td>\n",
       "      <td>0.0</td>\n",
       "    </tr>\n",
       "  </tbody>\n",
       "</table>\n",
       "</div>"
      ],
      "text/plain": [
       "      city  snow_days\n",
       "0  Orlando        0.0"
      ]
     },
     "execution_count": 5,
     "metadata": {},
     "output_type": "execute_result"
    }
   ],
   "source": [
    "# Getting the highest snow fall days for the city Orlando and converted to dataframe\n",
    "df_Orlando_snow = df_Orlando.loc[df_Orlando['snow'] == 1]\n",
    "df_Orlando_snow = pd.DataFrame(df_Orlando_snow['snow'])\n",
    "df_Orlando_snow['city'] = 'Orlando'\n",
    "df_Orlando_snow = df_Orlando_snow.groupby(['city'])['snow'].count().reset_index()\n",
    "df_Orlando_snow = df_Orlando_snow.rename(columns={'snow': 'snow_days'})\n",
    "if df_Orlando_snow.empty:\n",
    "    df_Orlandocity = pd.DataFrame()\n",
    "    df_Orlandocity = df_Orlandocity.append({'city': 'Orlando'}, ignore_index=True)\n",
    "    df_Orlando_snow = df_Orlando_snow.append(df_Orlandocity).fillna(0)\n",
    "df_Orlando_snow"
   ]
  },
  {
   "cell_type": "code",
   "execution_count": 6,
   "metadata": {
    "collapsed": false
   },
   "outputs": [
    {
     "data": {
      "text/html": [
       "<div>\n",
       "<table border=\"1\" class=\"dataframe\">\n",
       "  <thead>\n",
       "    <tr style=\"text-align: right;\">\n",
       "      <th></th>\n",
       "      <th>city</th>\n",
       "      <th>snow_days</th>\n",
       "    </tr>\n",
       "  </thead>\n",
       "  <tbody>\n",
       "    <tr>\n",
       "      <th>0</th>\n",
       "      <td>San_Francisco</td>\n",
       "      <td>0.0</td>\n",
       "    </tr>\n",
       "  </tbody>\n",
       "</table>\n",
       "</div>"
      ],
      "text/plain": [
       "            city  snow_days\n",
       "0  San_Francisco        0.0"
      ]
     },
     "execution_count": 6,
     "metadata": {},
     "output_type": "execute_result"
    }
   ],
   "source": [
    "# Getting the highest snow fall days for the city San_Francisco and converted to dataframe\n",
    "df_San_Francisco_snow = df_Duluth.loc[df_San_Francisco['snow'] == 1]\n",
    "df_San_Francisco_snow = pd.DataFrame(df_San_Francisco_snow['snow'])\n",
    "df_San_Francisco_snow['city'] = 'San_Francisco'\n",
    "df_San_Francisco_snow = df_San_Francisco_snow.groupby(['city'])['snow'].count().reset_index()\n",
    "df_San_Francisco_snow = df_San_Francisco_snow.rename(columns={'snow': 'snow_days'})\n",
    "if df_San_Francisco_snow.empty:\n",
    "    df_sancity = pd.DataFrame()\n",
    "    df_sancity = df_sancity.append({'city': 'San_Francisco'}, ignore_index=True)\n",
    "    df_San_Francisco_snow = df_San_Francisco_snow.append(df_sancity).fillna(0)\n",
    "df_San_Francisco_snow"
   ]
  },
  {
   "cell_type": "code",
   "execution_count": 7,
   "metadata": {
    "collapsed": false
   },
   "outputs": [
    {
     "data": {
      "text/html": [
       "<div>\n",
       "<table border=\"1\" class=\"dataframe\">\n",
       "  <thead>\n",
       "    <tr style=\"text-align: right;\">\n",
       "      <th></th>\n",
       "      <th>city</th>\n",
       "      <th>snow_days</th>\n",
       "    </tr>\n",
       "  </thead>\n",
       "  <tbody>\n",
       "    <tr>\n",
       "      <th>0</th>\n",
       "      <td>Boston</td>\n",
       "      <td>190.0</td>\n",
       "    </tr>\n",
       "    <tr>\n",
       "      <th>1</th>\n",
       "      <td>Duluth</td>\n",
       "      <td>425.0</td>\n",
       "    </tr>\n",
       "    <tr>\n",
       "      <th>2</th>\n",
       "      <td>New_York</td>\n",
       "      <td>104.0</td>\n",
       "    </tr>\n",
       "    <tr>\n",
       "      <th>3</th>\n",
       "      <td>Orlando</td>\n",
       "      <td>0.0</td>\n",
       "    </tr>\n",
       "    <tr>\n",
       "      <th>4</th>\n",
       "      <td>San_Francisco</td>\n",
       "      <td>0.0</td>\n",
       "    </tr>\n",
       "  </tbody>\n",
       "</table>\n",
       "</div>"
      ],
      "text/plain": [
       "            city  snow_days\n",
       "0         Boston      190.0\n",
       "1         Duluth      425.0\n",
       "2       New_York      104.0\n",
       "3        Orlando        0.0\n",
       "4  San_Francisco        0.0"
      ]
     },
     "execution_count": 7,
     "metadata": {},
     "output_type": "execute_result"
    }
   ],
   "source": [
    "# Joining all the data frame of each city and made it one dataframe \n",
    "frames = [df_Boston_snow, df_Duluth_snow, df_New_York_snow, df_Orlando_snow, df_San_Francisco_snow]\n",
    "df_frames = pd.concat(frames).reset_index()\n",
    "df_snowdays = df_frames.drop('index',1)\n",
    "df_snowdays"
   ]
  },
  {
   "cell_type": "code",
   "execution_count": 8,
   "metadata": {
    "collapsed": false
   },
   "outputs": [],
   "source": [
    "# writing the snow days data to CSV file for peak city\n",
    "import os\n",
    "if not os.path.exists('Output/2_Analysis/City_SnowDays'):\n",
    "        os.makedirs('Output/2_Analysis/City_SnowDays')\n",
    "df_snowdays.to_csv('Output/2_Analysis/City_SnowDays/City_SnowDays.csv', index=False)"
   ]
  },
  {
   "cell_type": "code",
   "execution_count": 9,
   "metadata": {
    "collapsed": false
   },
   "outputs": [
    {
     "data": {
      "image/png": "[encoded data removed]",
      "text/plain": [
       "<matplotlib.figure.Figure at 0x4db4d68>"
      ]
     },
     "metadata": {},
     "output_type": "display_data"
    }
   ],
   "source": [
    "# Ploting the graph to display snow day's for all 5 cities from 2012 to 2016\n",
    "import pandas as pd\n",
    "import matplotlib.pyplot as plt\n",
    "import seaborn as sns\n",
    "plt.figure(figsize=(10,3))\n",
    "plt.title('Number of snow days from 2012 to 2016')\n",
    "ax = sns.barplot(df_snowdays.city, df_snowdays.snow_days)\n",
    "ax.set(xlabel='City', ylabel='Snow Days')\n",
    "plt.show()"
   ]
  },
  {
   "cell_type": "markdown",
   "metadata": {
    "collapsed": false
   },
   "source": [
    "**Description**\n",
    "- From the graph it is seen that there is a spike in the city Duluth which has 425 days of snow fall out of last 5 years. "
   ]
  },
  {
   "cell_type": "code",
   "execution_count": 10,
   "metadata": {
    "collapsed": false
   },
   "outputs": [
    {
     "data": {
      "text/html": [
       "<div>\n",
       "<table border=\"1\" class=\"dataframe\">\n",
       "  <thead>\n",
       "    <tr style=\"text-align: right;\">\n",
       "      <th></th>\n",
       "      <th>year</th>\n",
       "      <th>snow_days</th>\n",
       "    </tr>\n",
       "  </thead>\n",
       "  <tbody>\n",
       "    <tr>\n",
       "      <th>0</th>\n",
       "      <td>2012</td>\n",
       "      <td>67</td>\n",
       "    </tr>\n",
       "    <tr>\n",
       "      <th>1</th>\n",
       "      <td>2013</td>\n",
       "      <td>110</td>\n",
       "    </tr>\n",
       "    <tr>\n",
       "      <th>2</th>\n",
       "      <td>2014</td>\n",
       "      <td>87</td>\n",
       "    </tr>\n",
       "    <tr>\n",
       "      <th>3</th>\n",
       "      <td>2015</td>\n",
       "      <td>73</td>\n",
       "    </tr>\n",
       "    <tr>\n",
       "      <th>4</th>\n",
       "      <td>2016</td>\n",
       "      <td>88</td>\n",
       "    </tr>\n",
       "  </tbody>\n",
       "</table>\n",
       "</div>"
      ],
      "text/plain": [
       "   year  snow_days\n",
       "0  2012         67\n",
       "1  2013        110\n",
       "2  2014         87\n",
       "3  2015         73\n",
       "4  2016         88"
      ]
     },
     "execution_count": 10,
     "metadata": {},
     "output_type": "execute_result"
    }
   ],
   "source": [
    "# generating a dataframe to find how the total snow fall days is scatter within last 5 years \n",
    "df_Duluth_snowyear = df_Duluth[['year','snow']]\n",
    "df_Duluth_snowyear = df_Duluth_snowyear.groupby(['year'])['snow'].sum().reset_index()\n",
    "df_Duluth_snowyear = df_Duluth_snowyear.rename(columns={'snow': 'snow_days'})\n",
    "df_Duluth_snowyear"
   ]
  },
  {
   "cell_type": "code",
   "execution_count": 11,
   "metadata": {
    "collapsed": true
   },
   "outputs": [],
   "source": [
    "# writing the snow days data to CSV file for peak year\n",
    "import os\n",
    "if not os.path.exists('Output/2_Analysis/Year_SnowDays'):\n",
    "        os.makedirs('Output/2_Analysis/Year_SnowDays')\n",
    "df_Duluth_snowyear.to_csv('Output/2_Analysis/Year_SnowDays/Year_SnowDays.csv', index=False)"
   ]
  },
  {
   "cell_type": "code",
   "execution_count": 12,
   "metadata": {
    "collapsed": false
   },
   "outputs": [
    {
     "data": {
      "image/png": "[encoded data removed]",
      "text/plain": [
       "<matplotlib.figure.Figure at 0xafd6c18>"
      ]
     },
     "metadata": {},
     "output_type": "display_data"
    }
   ],
   "source": [
    "# Plotted pie graph to find the distribution of snow fall on every year \n",
    "import matplotlib.pyplot as plt\n",
    "plt.figure(figsize=(7,5))\n",
    "colors = ['blue', 'gold', 'lightskyblue','red', 'green']\n",
    "labels = df_Duluth_snowyear['year']\n",
    "yfrequency1 = df_Duluth_snowyear['snow_days']\n",
    "plt.pie(yfrequency1, autopct='%1.1f%%', labels=labels, colors=colors, shadow=True)\n",
    "plt.title(\"Distribution of snow fall days on Duluth \\n\")\n",
    "patches, texts = plt.pie(yfrequency1, colors=colors,)\n",
    "plt.legend(patches, labels, loc='best', bbox_to_anchor=(-0.1, 1),fontsize=8)\n",
    "plt.rcParams.update({'font.size': 12})\n",
    "plt.show()"
   ]
  },
  {
   "cell_type": "markdown",
   "metadata": {},
   "source": [
    "**Description**\n",
    "- From the above graph, it shows the year 2013 has the highest snow fall days in percentage 25.9%."
   ]
  },
  {
   "cell_type": "code",
   "execution_count": 13,
   "metadata": {
    "collapsed": false
   },
   "outputs": [
    {
     "data": {
      "text/html": [
       "<div>\n",
       "<table border=\"1\" class=\"dataframe\">\n",
       "  <thead>\n",
       "    <tr style=\"text-align: right;\">\n",
       "      <th></th>\n",
       "      <th>year</th>\n",
       "      <th>mon</th>\n",
       "      <th>maxdewpti</th>\n",
       "    </tr>\n",
       "  </thead>\n",
       "  <tbody>\n",
       "    <tr>\n",
       "      <th>0</th>\n",
       "      <td>2013</td>\n",
       "      <td>January</td>\n",
       "      <td>34.0</td>\n",
       "    </tr>\n",
       "    <tr>\n",
       "      <th>1</th>\n",
       "      <td>2013</td>\n",
       "      <td>February</td>\n",
       "      <td>27.0</td>\n",
       "    </tr>\n",
       "    <tr>\n",
       "      <th>2</th>\n",
       "      <td>2013</td>\n",
       "      <td>March</td>\n",
       "      <td>27.0</td>\n",
       "    </tr>\n",
       "    <tr>\n",
       "      <th>3</th>\n",
       "      <td>2013</td>\n",
       "      <td>April</td>\n",
       "      <td>32.0</td>\n",
       "    </tr>\n",
       "    <tr>\n",
       "      <th>4</th>\n",
       "      <td>2013</td>\n",
       "      <td>May</td>\n",
       "      <td>28.0</td>\n",
       "    </tr>\n",
       "    <tr>\n",
       "      <th>5</th>\n",
       "      <td>2013</td>\n",
       "      <td>October</td>\n",
       "      <td>36.0</td>\n",
       "    </tr>\n",
       "    <tr>\n",
       "      <th>6</th>\n",
       "      <td>2013</td>\n",
       "      <td>November</td>\n",
       "      <td>37.0</td>\n",
       "    </tr>\n",
       "    <tr>\n",
       "      <th>7</th>\n",
       "      <td>2013</td>\n",
       "      <td>December</td>\n",
       "      <td>27.0</td>\n",
       "    </tr>\n",
       "  </tbody>\n",
       "</table>\n",
       "</div>"
      ],
      "text/plain": [
       "   year       mon  maxdewpti\n",
       "0  2013   January       34.0\n",
       "1  2013  February       27.0\n",
       "2  2013     March       27.0\n",
       "3  2013     April       32.0\n",
       "4  2013       May       28.0\n",
       "5  2013   October       36.0\n",
       "6  2013  November       37.0\n",
       "7  2013  December       27.0"
      ]
     },
     "execution_count": 13,
     "metadata": {},
     "output_type": "execute_result"
    }
   ],
   "source": [
    "# For the Highest snow fall year the maximum dew point temperature is taken on every month\n",
    "import calendar\n",
    "df_Duluth_snowmonth = df_Duluth.loc[df_Duluth['year'] == 2013]\n",
    "df_Duluth_snowmonth = df_Duluth_snowmonth.loc[df_Duluth_snowmonth['snow'] == 1]\n",
    "df_Duluth_snowmonth = df_Duluth_snowmonth[['year','mon','maxdewpti']]\n",
    "df_Duluth_snowmonth = df_Duluth_snowmonth.groupby(['year','mon'])['maxdewpti'].max().reset_index()\n",
    "df_Duluth_snowmonth['mon'] = df_Duluth_snowmonth['mon'].apply(lambda x: calendar.month_name[x])\n",
    "df_Duluth_snowmonth"
   ]
  },
  {
   "cell_type": "code",
   "execution_count": 14,
   "metadata": {
    "collapsed": true
   },
   "outputs": [],
   "source": [
    "# writing the snow days data to CSV file for peak month\n",
    "import os\n",
    "if not os.path.exists('Output/2_Analysis/Month_SnowDays'):\n",
    "        os.makedirs('Output/2_Analysis/Month_SnowDays')\n",
    "df_Duluth_snowmonth.to_csv('Output/2_Analysis/Month_SnowDays/Month_SnowDays.csv', index=False)"
   ]
  },
  {
   "cell_type": "code",
   "execution_count": 15,
   "metadata": {
    "collapsed": false
   },
   "outputs": [
    {
     "data": {
      "image/png": "[encoded data removed]",
      "text/plain": [
       "<matplotlib.figure.Figure at 0xb253860>"
      ]
     },
     "metadata": {},
     "output_type": "display_data"
    }
   ],
   "source": [
    "# Ploting the graph to display maximum dew point temperature to form a snow\n",
    "import pandas as pd\n",
    "import matplotlib.pyplot as plt\n",
    "import seaborn as sns\n",
    "plt.figure(figsize=(10,3))\n",
    "plt.title('The Maximum Dew Point for Snow')\n",
    "ax = sns.barplot(x=\"maxdewpti\", y=\"mon\", data=df_Duluth_snowmonth)\n",
    "ax.set(xlabel='Temperature in Fahrenheit', ylabel='Month')\n",
    "plt.show()"
   ]
  },
  {
   "cell_type": "markdown",
   "metadata": {},
   "source": [
    "**Description**\n",
    "- From the graph it is seen that in the month of November the snow has formed at the maximum dew point temperature of 37'F"
   ]
  },
  {
   "cell_type": "markdown",
   "metadata": {},
   "source": [
    "# Conclusion\n",
    "- As the result the 2_Analysis, the graph represent that the maximum temperature for the snow formation on the maximum snow fall days of the city Duluth is 37'F.\n",
    "- Generally the max dew point to form snow is 32'F but in the city Duluth on the highest snow fall year 2013 the maximum dew point is 37'F in the month of November."
   ]
  }
 ],
 "metadata": {
  "anaconda-cloud": {},
  "kernelspec": {
   "display_name": "Python [default]",
   "language": "python",
   "name": "python3"
  },
  "language_info": {
   "codemirror_mode": {
    "name": "ipython",
    "version": 3
   },
   "file_extension": ".py",
   "mimetype": "text/x-python",
   "name": "python",
   "nbconvert_exporter": "python",
   "pygments_lexer": "ipython3",
   "version": "3.5.2"
  }
 },
 "nbformat": 4,
 "nbformat_minor": 1
}
