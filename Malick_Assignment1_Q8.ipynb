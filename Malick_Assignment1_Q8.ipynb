{
 "cells": [
  {
   "cell_type": "markdown",
   "metadata": {
    "collapsed": false
   },
   "source": [
    "# Question 8\n",
    "- Use nps_chat and wordlist corpus.\n",
    "- If you find a word in nps_chat but not in wordlist, it is considered an unusual word. (e.g. Heyyyy, gr8, 4ever can be          considered unusual words for this analysis)\n",
    "- Find out how many unusual words people speak in chat (notice: usernames should not be counted)\n",
    "- Bonus: What if I want to  count : ) , : ( all these emoticons in. (optional)"
   ]
  },
  {
   "cell_type": "code",
   "execution_count": 30,
   "metadata": {
    "collapsed": true
   },
   "outputs": [],
   "source": [
    "#Importing nltk\n",
    "import nltk"
   ]
  },
  {
   "cell_type": "code",
   "execution_count": 90,
   "metadata": {
    "collapsed": false
   },
   "outputs": [
    {
     "name": "stdout",
     "output_type": "stream",
     "text": [
      "45010\n"
     ]
    }
   ],
   "source": [
    "#All words from nps_chat is stored in 'npsword' and its count is displayed\n",
    "npsword = nltk.corpus.nps_chat.words()\n",
    "print(len(npsword))"
   ]
  },
  {
   "cell_type": "code",
   "execution_count": 91,
   "metadata": {
    "collapsed": false
   },
   "outputs": [
    {
     "name": "stdout",
     "output_type": "stream",
     "text": [
      "236736\n"
     ]
    }
   ],
   "source": [
    "#All words from words is stored in 'wordword' and its count is displayed\n",
    "wordword = nltk.corpus.words.words()\n",
    "print(len(wordword))"
   ]
  },
  {
   "cell_type": "code",
   "execution_count": 33,
   "metadata": {
    "collapsed": true
   },
   "outputs": [],
   "source": [
    "#To get the unused wordlist which is used in nps_chat and not in words including the user names\n",
    "unusedword = []\n",
    "for w in npsword:\n",
    "    if w not in wordword:\n",
    "        unusedword.append(w)\n"
   ]
  },
  {
   "cell_type": "code",
   "execution_count": 87,
   "metadata": {
    "collapsed": false
   },
   "outputs": [
    {
     "name": "stdout",
     "output_type": "stream",
     "text": [
      "3637\n"
     ]
    }
   ],
   "source": [
    "# Making the unused words and stored in 'unique_unusedword' and diplaying its total count\n",
    "unique_unusedword = (set(unusedword))\n",
    "print(len(unique_unusedword))"
   ]
  },
  {
   "cell_type": "code",
   "execution_count": 89,
   "metadata": {
    "collapsed": false
   },
   "outputs": [
    {
     "name": "stdout",
     "output_type": "stream",
     "text": [
      "167\n"
     ]
    }
   ],
   "source": [
    "#To get all the user names used in the 'unique_unusedword' and displaying its count\n",
    "usernames = []\n",
    "for word in unique_unusedword:\n",
    "    if word.startswith('U1') or word.startswith('U2') or word.startswith('U3') or word.startswith('U4') or word.startswith('U5') or word.startswith('U6') or word.startswith('U7') or word.startswith('U8') or word.startswith('U9') or word.startswith('U0'):\n",
    "            usernames.append(word)\n",
    "\n",
    "print(len(usernames))"
   ]
  },
  {
   "cell_type": "code",
   "execution_count": 82,
   "metadata": {
    "collapsed": false
   },
   "outputs": [],
   "source": [
    "#To get the unused wordlist that the people use in chat excluding the user names\n",
    "unique_unusedword_withoutusernames = []\n",
    "for w in unique_unusedword:\n",
    "    if w not in usernames:\n",
    "        unique_unusedword_withoutusernames.append(w)\n"
   ]
  },
  {
   "cell_type": "code",
   "execution_count": 88,
   "metadata": {
    "collapsed": false
   },
   "outputs": [
    {
     "name": "stdout",
     "output_type": "stream",
     "text": [
      "3470\n"
     ]
    }
   ],
   "source": [
    "#The count of unique words that the people use in chat - (final answer)\n",
    "print(len(unique_unusedword_withoutusernames))"
   ]
  }
 ],
 "metadata": {
  "anaconda-cloud": {},
  "kernelspec": {
   "display_name": "Python [default]",
   "language": "python",
   "name": "python3"
  },
  "language_info": {
   "codemirror_mode": {
    "name": "ipython",
    "version": 3
   },
   "file_extension": ".py",
   "mimetype": "text/x-python",
   "name": "python",
   "nbconvert_exporter": "python",
   "pygments_lexer": "ipython3",
   "version": "3.5.2"
  }
 },
 "nbformat": 4,
 "nbformat_minor": 1
}
