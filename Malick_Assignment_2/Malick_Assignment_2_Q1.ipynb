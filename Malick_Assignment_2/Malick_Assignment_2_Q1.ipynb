{
 "cells": [
  {
   "cell_type": "markdown",
   "metadata": {},
   "source": [
    "# Question 1\n",
    "- Pick any file (or files) in NLTK package.\n",
    "- Prove if Zipf's law works in Natural Language or not."
   ]
  },
  {
   "cell_type": "code",
   "execution_count": 4,
   "metadata": {
    "collapsed": true
   },
   "outputs": [],
   "source": [
    "#Importing the nltk\n",
    "import nltk"
   ]
  },
  {
   "cell_type": "code",
   "execution_count": 5,
   "metadata": {
    "collapsed": false,
    "scrolled": true
   },
   "outputs": [
    {
     "name": "stdout",
     "output_type": "stream",
     "text": [
      "['firefox.txt', 'grail.txt', 'overheard.txt', 'pirates.txt', 'singles.txt', 'wine.txt']\n"
     ]
    }
   ],
   "source": [
    "#Displaying the files from webtext package\n",
    "print(nltk.corpus.webtext.fileids())"
   ]
  },
  {
   "cell_type": "code",
   "execution_count": 6,
   "metadata": {
    "collapsed": false
   },
   "outputs": [
    {
     "name": "stdout",
     "output_type": "stream",
     "text": [
      "C:\\Users\\Malick\\AppData\\Roaming\\nltk_data\\corpora\\webtext\\wine.txt\n"
     ]
    }
   ],
   "source": [
    "#To get the os address path of the text file \"wine.txt\" of NLTK package\n",
    "print(nltk.corpus.webtext.abspath('wine.txt'))"
   ]
  },
  {
   "cell_type": "code",
   "execution_count": 7,
   "metadata": {
    "collapsed": false
   },
   "outputs": [
    {
     "data": {
      "text/plain": [
       "'D:/Course/Course DA-P/Malick_Assignment_Python/Malick_Assignment_2/wine.txt'"
      ]
     },
     "execution_count": 7,
     "metadata": {},
     "output_type": "execute_result"
    }
   ],
   "source": [
    "#To make the program work in all machine, copying the source data \"wine.txt\" to the local directory address path\n",
    "#No need to run this code for verifing the program since that file will already be present in local directory\n",
    "import shutil\n",
    "shutil.copy2('C:/Users/Malick/AppData/Roaming/nltk_data/corpora/webtext/wine.txt',\n",
    "             'D:/Course/Course DA-P/Malick_Assignment_Python/Malick_Assignment_2/')"
   ]
  },
  {
   "cell_type": "code",
   "execution_count": 8,
   "metadata": {
    "collapsed": false
   },
   "outputs": [
    {
     "name": "stdout",
     "output_type": "stream",
     "text": [
      "['wine.txt']\n"
     ]
    }
   ],
   "source": [
    "#Fetching the input text file using glob module\n",
    "import glob\n",
    "import os\n",
    "file_disk = [os.path.basename(c) for c in glob.glob('wine.txt')]\n",
    "print(file_disk)"
   ]
  },
  {
   "cell_type": "code",
   "execution_count": 9,
   "metadata": {
    "collapsed": false
   },
   "outputs": [
    {
     "name": "stdout",
     "output_type": "stream",
     "text": [
      "25540\n"
     ]
    }
   ],
   "source": [
    "#Spliting the raw text into words and striping the special characters \n",
    "import string\n",
    "wine_words = nltk.corpus.webtext.raw(file_disk)\n",
    "wine_words.split()\n",
    "wine_strip = [word.strip(string.punctuation) for word in wine_words.split()]\n",
    "print(len(wine_strip))"
   ]
  },
  {
   "cell_type": "code",
   "execution_count": 10,
   "metadata": {
    "collapsed": false
   },
   "outputs": [
    {
     "name": "stdout",
     "output_type": "stream",
     "text": [
      "25540\n"
     ]
    }
   ],
   "source": [
    "#Using lambda function making all characters to lowercase\n",
    "wine_lower = list(map(lambda x:x.lower(),wine_strip))\n",
    "print(len(wine_lower))"
   ]
  },
  {
   "cell_type": "code",
   "execution_count": 11,
   "metadata": {
    "collapsed": false
   },
   "outputs": [
    {
     "name": "stdout",
     "output_type": "stream",
     "text": [
      "23240\n"
     ]
    }
   ],
   "source": [
    "#Using lambda function filtering only the alphabet character words\n",
    "wine_alpha = list(filter(lambda x: x.isalpha(), wine_lower))\n",
    "print(len(wine_alpha))"
   ]
  },
  {
   "cell_type": "code",
   "execution_count": 12,
   "metadata": {
    "collapsed": false
   },
   "outputs": [
    {
     "name": "stdout",
     "output_type": "stream",
     "text": [
      "153\n"
     ]
    }
   ],
   "source": [
    "#importing the stop words from nltk and saved in list \"stopwordlist\"\n",
    "stopwordlist = []\n",
    "from nltk.corpus import stopwords\n",
    "stopwordlist = stopwords.words('english')\n",
    "print(len(stopwordlist))"
   ]
  },
  {
   "cell_type": "code",
   "execution_count": 13,
   "metadata": {
    "collapsed": false
   },
   "outputs": [
    {
     "name": "stdout",
     "output_type": "stream",
     "text": [
      "14171\n"
     ]
    }
   ],
   "source": [
    "#Using a fuction removing the stop words from \"wine_alpha\"\n",
    "def func():\n",
    "    wine_nostopwords = []\n",
    "    for k in wine_alpha:\n",
    "        if k not in stopwordlist:\n",
    "            wine_nostopwords.append(k)\n",
    "    return wine_nostopwords\n",
    "#The total number of words taken for the analysis of the natural language which will be matching the total frequency in CSV file\n",
    "print(len(func()))"
   ]
  },
  {
   "cell_type": "code",
   "execution_count": 14,
   "metadata": {
    "collapsed": false
   },
   "outputs": [
    {
     "name": "stdout",
     "output_type": "stream",
     "text": [
      "2564\n"
     ]
    }
   ],
   "source": [
    "#Importing Frequency Distribution from nltk package\n",
    "from nltk import FreqDist\n",
    "#Calculating the frequency and stored in dictionery \"wine_fdist\"\n",
    "wine_fdist = FreqDist(func())\n",
    "#The total no of unique words taken for the analysis of the natural language which will be matching the word count in CSV file\n",
    "print(len(wine_fdist))"
   ]
  },
  {
   "cell_type": "code",
   "execution_count": 28,
   "metadata": {
    "collapsed": false
   },
   "outputs": [
    {
     "name": "stdout",
     "output_type": "stream",
     "text": [
      "Word     \t  Rank \t  Frequency\n",
      "'good'   \t  1   \t  363\n",
      "'quite'   \t  2   \t  303\n",
      "'fruit'   \t  3   \t  295\n",
      "'wine'   \t  4   \t  230\n",
      "'bit'   \t  5   \t  217\n",
      "'top'   \t  6   \t  215\n",
      "'lovely'   \t  7   \t  163\n",
      "'touch'   \t  8   \t  160\n",
      "'nose'   \t  9   \t  150\n",
      "'nice'   \t  10   \t  148\n"
     ]
    }
   ],
   "source": [
    "#Sorting the dictionery with highest frequency in the top and displaying it in the expected format along with headings\n",
    "wordrow = ['Word']\n",
    "rankrow = ['Rank']\n",
    "freqrow = ['Frequency']\n",
    "rank = 0 \n",
    "print (\"Word\"  +  \"     \\t  \" + \"Rank\" +  \" \\t  \" + \"Frequency\")\n",
    "for w in sorted(wine_fdist, key=wine_fdist.get, reverse=True):\n",
    "    rank = rank + 1\n",
    "    wordrow.append(w)\n",
    "    rankrow.append(rank)\n",
    "    freqrow.append(wine_fdist[w])\n",
    "#For displaying the data only the first 10 words are printed but all the words are processed on CSV file\n",
    "rank1 = 0\n",
    "for w in sorted(wine_fdist, key=wine_fdist.get, reverse=True)[:10]:\n",
    "    rank1 = rank1 + 1\n",
    "    print (repr(w)  +  \"   \\t  \" + repr(rank1) +  \"   \\t  \" + repr(wine_fdist[w]))"
   ]
  },
  {
   "cell_type": "code",
   "execution_count": 34,
   "metadata": {
    "collapsed": false
   },
   "outputs": [],
   "source": [
    "#Writing the above printed output to a CSV file and generated a log-log graph for that in the CSV file \n",
    "#Using the local directory address path so the it can be used from any machine\n",
    "import csv\n",
    "with open ('Q1_WordRanking.csv', 'w' , newline='') as f:\n",
    "    w = csv.writer(f,delimiter = ',')\n",
    "    for i in range (len(wordrow)):\n",
    "        w.writerow([wordrow[i], rankrow[i], freqrow[i]])"
   ]
  },
  {
   "cell_type": "code",
   "execution_count": 41,
   "metadata": {
    "collapsed": false
   },
   "outputs": [
    {
     "data": {
      "image/png": "[encoded data removed]",
      "text/plain": [
       "<matplotlib.figure.Figure at 0xd90bc18>"
      ]
     },
     "metadata": {},
     "output_type": "display_data"
    },
    {
     "name": "stdout",
     "output_type": "stream",
     "text": [
      "CONCLUTION\n",
      "Zipf's law works in Natural Language of the webtext package for the wine.txt which results with slope -1\n",
      "Note: The output graph is also submitted as image in the local directory as well as inside the 'Q1_WordRanking.csv' file\n"
     ]
    }
   ],
   "source": [
    "#importing the data from the CSV file and a log-log graph is drawn using matplotlib with rank and frequency of the words\n",
    "import pandas as pd\n",
    "import numpy as np\n",
    "import matplotlib.pyplot as plt\n",
    "\n",
    "x = []\n",
    "y = []\n",
    "\n",
    "with open('Q1_WordRanking.csv','r') as csvfile:\n",
    "    plots = csv.reader(csvfile, delimiter=',')\n",
    "    for row in plots:\n",
    "        x.append(row[1])\n",
    "        y.append(row[2])\n",
    "del x[0]\n",
    "x = [int(i) for i in x]\n",
    "del y[0]\n",
    "y = [int(i) for i in y]\n",
    "\n",
    "plt.loglog(x,y, label=\"Zipf's law slope -1\")\n",
    "plt.xlabel('log rank')\n",
    "plt.ylabel('log frequency')\n",
    "plt.title(\"Zipf's law for Natural Language\")\n",
    "plt.legend()\n",
    "#Displaying the log-log graph\n",
    "plt.show()\n",
    "print(\"CONCLUTION\")\n",
    "print(\"Zipf's law works in Natural Language of the webtext package for the wine.txt which results with slope -1\")\n",
    "print(\"Note: The output graph is also submitted as image in the local directory as well as inside the 'Q1_WordRanking.csv' file\")"
   ]
  },
  {
   "cell_type": "code",
   "execution_count": null,
   "metadata": {
    "collapsed": true
   },
   "outputs": [],
   "source": []
  }
 ],
 "metadata": {
  "anaconda-cloud": {},
  "kernelspec": {
   "display_name": "Python [default]",
   "language": "python",
   "name": "python3"
  },
  "language_info": {
   "codemirror_mode": {
    "name": "ipython",
    "version": 3
   },
   "file_extension": ".py",
   "mimetype": "text/x-python",
   "name": "python",
   "nbconvert_exporter": "python",
   "pygments_lexer": "ipython3",
   "version": "3.5.2"
  }
 },
 "nbformat": 4,
 "nbformat_minor": 1
}
