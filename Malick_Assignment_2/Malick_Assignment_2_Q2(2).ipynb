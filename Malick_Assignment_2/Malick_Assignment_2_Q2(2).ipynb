{
 "cells": [
  {
   "cell_type": "markdown",
   "metadata": {},
   "source": [
    "# Question 2 ---- part 2\n",
    "- Read all the json files contains the key called \"restaurants\"\n",
    "- Each (or most of the json files) contains a key called \"open\" which contains the details of the operation (timings) of the restaurants. For each json files read the timings of the restaurants\n",
    "- Data of the operation timings restaurants is present for each day of the week. I want you to extract each of this data and write it in an excel sheet as per the two sample outputs"
   ]
  },
  {
   "cell_type": "code",
   "execution_count": 1,
   "metadata": {
    "collapsed": true
   },
   "outputs": [],
   "source": [
    "#Importing json \n",
    "import json"
   ]
  },
  {
   "cell_type": "code",
   "execution_count": 2,
   "metadata": {
    "collapsed": false
   },
   "outputs": [
    {
     "name": "stdout",
     "output_type": "stream",
     "text": [
      "11728\n"
     ]
    }
   ],
   "source": [
    "#Fetching the input json file using glob module and finds the total number of files present\n",
    "#The raw data folder is stored in local directory address path so this program can be used from any machine\n",
    "import glob\n",
    "import os\n",
    "file_disk = [os.path.basename(c) for c in glob.glob('Data/*.json')]   \n",
    "print(len(file_disk))"
   ]
  },
  {
   "cell_type": "code",
   "execution_count": 4,
   "metadata": {
    "collapsed": false,
    "scrolled": true
   },
   "outputs": [
    {
     "name": "stdout",
     "output_type": "stream",
     "text": [
      "40982\n",
      "40982\n",
      "40982\n",
      "40982\n",
      "40982\n",
      "40982\n"
     ]
    }
   ],
   "source": [
    "#To create the columns of the output , \n",
    "#six list has been created with the data from all the json file which comes under the key-term \"resturants\"\n",
    "import sys\n",
    "import glob\n",
    "import shutil\n",
    "import os\n",
    "col1=[\"Name of the Restaurants\"]       #Creating six list as a columns with headings\n",
    "col2=[\"Country code\"]\n",
    "col3=[\"City\"]\n",
    "col4=[\"Day of week\"]\n",
    "col5=[\"Start time\"]\n",
    "col6=[\"End time\"]\n",
    "files = glob.glob('Data/*.json') #Fetching the json file from local directory address path\n",
    "for name in files[:]:\n",
    "    with open(name) as f:               #Opening the Json file\n",
    "        d = json.load(f)                #Loading the json file\n",
    "        if d['term'] == 'restaurants':  #Condition to pick json file which has \"restaurants\" \n",
    "            if 'hours' in d:            #Condition to pick json file which has \"hours\"\n",
    "                for x in range (len(d['hours'][0]['open'])):  #Appending the data with length of the key \"open\"\n",
    "                    col1.append(d['name'])                    #Appending the name of the restaurants\n",
    "                    col2.append(d['location']['country'])     #Appending the country code\n",
    "                    col3.append(d['location']['city'])        #Appending the name of the city\n",
    "                    col4.append(d['hours'][0]['open'][x]['day'])  #Appending the working days\n",
    "                    col5.append(d['hours'][0]['open'][x]['start']) #Appending the start time of the restaurants\n",
    "                    col6.append(d['hours'][0]['open'][x]['end'])  #Appending the end time of the restaurants\n",
    "#To check the all columns with same data length                     \n",
    "print(len(col1))\n",
    "print(len(col2))\n",
    "print(len(col3))\n",
    "print(len(col4))\n",
    "print(len(col5))\n",
    "print(len(col6))"
   ]
  },
  {
   "cell_type": "code",
   "execution_count": 5,
   "metadata": {
    "collapsed": false
   },
   "outputs": [],
   "source": [
    "#Writing the above six list as six columns into a CSV file\n",
    "#The address path of the file is not given so it will take default location to store the CSV file\n",
    "import csv\n",
    "with open ('Q2_part2_1.csv', 'w' , newline='') as f:\n",
    "    w = csv.writer(f,delimiter = ',')\n",
    "    for i in range (len(col1)):\n",
    "        col1[i]=col1[i].encode('utf-8') #encoding the list \"col1\" since it has some unicode characters which interupt writing\n",
    "        w.writerow([col1[i], col2[i], col3[i], col4[i], col5[i], col6[i]]) #Writing all list to columns of the CSV file"
   ]
  },
  {
   "cell_type": "code",
   "execution_count": 6,
   "metadata": {
    "collapsed": true
   },
   "outputs": [],
   "source": [
    "#Removing the heading of the list \"col5\" and \"col6\"\n",
    "del col5[0]\n",
    "del col6[0]"
   ]
  },
  {
   "cell_type": "code",
   "execution_count": 7,
   "metadata": {
    "collapsed": false
   },
   "outputs": [
    {
     "name": "stdout",
     "output_type": "stream",
     "text": [
      "40981\n",
      "40982\n",
      "40982\n"
     ]
    }
   ],
   "source": [
    "#Converting the string values to integer from the \"START TIME\"list col5 and making them hours and minutes in two other list\n",
    "col5_min = [\"Start time minute\"]\n",
    "col5_hr = [\"Start time hour\"]\n",
    "col5_int = list(map(int, col5))\n",
    "for x in range(len(col5_int)):\n",
    "    col5_hr.append(int(col5_int[x]/100))\n",
    "    col5_min.append(int(col5_int[x]%100))\n",
    "#Checking the length of the list before and after conversion\n",
    "print(len(col5))\n",
    "print(len(col5_hr))\n",
    "print(len(col5_min))"
   ]
  },
  {
   "cell_type": "code",
   "execution_count": 8,
   "metadata": {
    "collapsed": false
   },
   "outputs": [
    {
     "name": "stdout",
     "output_type": "stream",
     "text": [
      "40981\n",
      "40982\n",
      "40982\n"
     ]
    }
   ],
   "source": [
    "#Converting the string values to integer from the \"END TIME\"list col5 and making them hours and minutes in two other list\n",
    "col6_min = [\"End time minute\"]\n",
    "col6_hr = [\"End time hour\"]\n",
    "col6_int = list(map(int, col6))\n",
    "for x in range(len(col6_int)):\n",
    "    col6_hr.append(int(col6_int[x]/100))\n",
    "    col6_min.append(int(col6_int[x]%100))\n",
    "#Checking the length of the list before and after conversion\n",
    "print(len(col6))\n",
    "print(len(col6_hr))\n",
    "print(len(col6_min))"
   ]
  },
  {
   "cell_type": "code",
   "execution_count": 9,
   "metadata": {
    "collapsed": false
   },
   "outputs": [],
   "source": [
    "#Writing the list into the CSV file including the hours and minutes columns\n",
    "#The address path of the file is not given so it will take default location to store the CSV file\n",
    "import csv\n",
    "with open ('Q2_part2_2.csv', 'w' , newline='') as f:\n",
    "    w = csv.writer(f,delimiter = ',')\n",
    "    for i in range (len(col1)):\n",
    "        w.writerow([col1[i], col2[i], col3[i],col4[i],col5_hr[i], col5_min[i], col6_hr[i],col6_min[i]])"
   ]
  },
  {
   "cell_type": "code",
   "execution_count": 10,
   "metadata": {
    "collapsed": false
   },
   "outputs": [
    {
     "name": "stdout",
     "output_type": "stream",
     "text": [
      "CONCLUSION\n",
      "The required data alone got extrated.\n",
      "The output is printed in both sample output format inside the CSV file 'Q2_part2_1' and 'Q2_part2_2'. \n"
     ]
    }
   ],
   "source": [
    "print(\"CONCLUSION\")\n",
    "print(\"The required data alone got extrated.\")\n",
    "print(\"The output is printed in both sample output format inside the CSV file 'Q2_part2_1' and 'Q2_part2_2'. \")"
   ]
  }
 ],
 "metadata": {
  "anaconda-cloud": {},
  "kernelspec": {
   "display_name": "Python [default]",
   "language": "python",
   "name": "python3"
  },
  "language_info": {
   "codemirror_mode": {
    "name": "ipython",
    "version": 3
   },
   "file_extension": ".py",
   "mimetype": "text/x-python",
   "name": "python",
   "nbconvert_exporter": "python",
   "pygments_lexer": "ipython3",
   "version": "3.5.2"
  }
 },
 "nbformat": 4,
 "nbformat_minor": 1
}
