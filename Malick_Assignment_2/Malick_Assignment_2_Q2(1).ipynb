{
 "cells": [
  {
   "cell_type": "markdown",
   "metadata": {},
   "source": [
    "# Question 2 ---- part 1\n",
    "- Read all the json files in the folder called Data.\n",
    "- There are three categories of json files in this folder. They are identified by the key called \"term\" in each of the json file.\n",
    "- Create a folder structure to read all these json files and store them into these seperate folders. You are expected to create a hierarchy of folder structure."
   ]
  },
  {
   "cell_type": "code",
   "execution_count": 1,
   "metadata": {
    "collapsed": false
   },
   "outputs": [],
   "source": [
    "#Importing json\n",
    "import json"
   ]
  },
  {
   "cell_type": "code",
   "execution_count": 2,
   "metadata": {
    "collapsed": false
   },
   "outputs": [
    {
     "name": "stdout",
     "output_type": "stream",
     "text": [
      "11728\n"
     ]
    }
   ],
   "source": [
    "#Fetching the input json file using glob module and finds the total number of files present\n",
    "#Using the local directory address path so the pragram can be run from any machine\n",
    "import glob\n",
    "import os\n",
    "file_disk = [os.path.basename(c) for c in glob.glob('Data/*.json')]   \n",
    "print(len(file_disk))"
   ]
  },
  {
   "cell_type": "code",
   "execution_count": 3,
   "metadata": {
    "collapsed": false
   },
   "outputs": [],
   "source": [
    "#Getting the unique set of folder name for term, country and city to make the folder hierarchy\n",
    "import sys\n",
    "import glob\n",
    "termlist = []\n",
    "countrylist = []\n",
    "citylist = []\n",
    "count =0\n",
    "files = glob.glob('Data/*.json')   \n",
    "for name in files[:]:\n",
    "    count=count+1\n",
    "    with open(name) as f:\n",
    "        d = json.load(f)        \n",
    "        termlist.append(d['term'])\n",
    "        countrylist.append(d['location']['country'])\n",
    "        citylist.append(d['location']['city'])\n",
    "termlist_set = list(set(termlist))\n",
    "countrylist_set = list(set(countrylist))\n",
    "citylist_set = list(set(citylist))"
   ]
  },
  {
   "cell_type": "code",
   "execution_count": 4,
   "metadata": {
    "collapsed": false
   },
   "outputs": [
    {
     "name": "stdout",
     "output_type": "stream",
     "text": [
      "['restaurants', 'attractions', 'hotels']\n"
     ]
    }
   ],
   "source": [
    "#Printing the types of term category\n",
    "print(termlist_set)"
   ]
  },
  {
   "cell_type": "code",
   "execution_count": 5,
   "metadata": {
    "collapsed": false
   },
   "outputs": [
    {
     "name": "stdout",
     "output_type": "stream",
     "text": [
      "['US', 'FR', 'AU', 'GB', 'NZ', 'CA']\n"
     ]
    }
   ],
   "source": [
    "#Printing the types of Country category\n",
    "print(countrylist_set)"
   ]
  },
  {
   "cell_type": "code",
   "execution_count": 6,
   "metadata": {
    "collapsed": false
   },
   "outputs": [
    {
     "name": "stdout",
     "output_type": "stream",
     "text": [
      "699\n"
     ]
    }
   ],
   "source": [
    "#Printing th types of City category -- since it is too big, only its lenth is printed\n",
    "print(len(citylist_set))"
   ]
  },
  {
   "cell_type": "code",
   "execution_count": 7,
   "metadata": {
    "collapsed": false
   },
   "outputs": [],
   "source": [
    "#To make the folder hierarchy and to distribute the json files into it.\n",
    "import sys\n",
    "import glob\n",
    "import shutil\n",
    "import os\n",
    "files = glob.glob('Data/*.json')   \n",
    "for name in files[:]:\n",
    "    with open(name) as f:\n",
    "        d = json.load(f)                    #Loading json file to \"d\"\n",
    "        main = \"Data Processed/\"        \n",
    "        if not os.path.exists(main):        #Creating the master folder \"Data Processed\"\n",
    "            os.mkdir(main)\n",
    "        for x in range(6):    \n",
    "            path1 = (main+countrylist_set[x])                    #creating path for the file to store\n",
    "            if d['location']['country'] == countrylist_set[x]:   #Checking for the country name from the json file\n",
    "                if not os.path.exists(path1):                    #Creating the subfolder for country\n",
    "                    os.mkdir(path1)\n",
    "                for y in range(699):\n",
    "                    path2 = (path1 + \"/\" + citylist_set[y])      #creating path for the file to store\n",
    "                    if d['location']['city'] == citylist_set[y]: #Checking for the city name from the json file\n",
    "                        if not os.path.exists(path2):            #Creating the subfolder for city\n",
    "                            os.mkdir(path2)\n",
    "                        for z in range (3):\n",
    "                            path3 = (path2 + \"/\" + termlist_set[z]) #creating path for the file to store\n",
    "                            if d['term'] == termlist_set[z]:        #Checking for the term-category from the json file\n",
    "                                if not os.path.exists(path3):       #Creating the subfolder for term-category\n",
    "                                    os.mkdir(path3)\n",
    "                                path4 = (path3 + \"/\" + os.path.basename(name)) #creating path with filebasename\n",
    "                                shutil.copy2(name,path4)            #if all above conditions satisfied then json\n",
    "                                                                    #file will be stored to its destination folder"
   ]
  },
  {
   "cell_type": "code",
   "execution_count": 8,
   "metadata": {
    "collapsed": false
   },
   "outputs": [
    {
     "name": "stdout",
     "output_type": "stream",
     "text": [
      "CONCLUSION\n",
      "The hierarchy of folders is created.\n",
      "The json files are stored in their respective subfolders under the master folder 'Data Processed'. \n"
     ]
    }
   ],
   "source": [
    "print(\"CONCLUSION\")\n",
    "print(\"The hierarchy of folders is created.\")\n",
    "print(\"The json files are stored in their respective subfolders under the master folder 'Data Processed'. \")"
   ]
  }
 ],
 "metadata": {
  "anaconda-cloud": {},
  "kernelspec": {
   "display_name": "Python [default]",
   "language": "python",
   "name": "python3"
  },
  "language_info": {
   "codemirror_mode": {
    "name": "ipython",
    "version": 3
   },
   "file_extension": ".py",
   "mimetype": "text/x-python",
   "name": "python",
   "nbconvert_exporter": "python",
   "pygments_lexer": "ipython3",
   "version": "3.5.2"
  }
 },
 "nbformat": 4,
 "nbformat_minor": 1
}
